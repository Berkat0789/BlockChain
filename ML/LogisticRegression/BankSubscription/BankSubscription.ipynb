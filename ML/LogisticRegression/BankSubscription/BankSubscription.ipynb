{
 "cells": [
  {
   "cell_type": "code",
   "execution_count": 1,
   "id": "ab550f6a-b3b4-4129-908d-e541574c66c5",
   "metadata": {},
   "outputs": [],
   "source": [
    "import pandas as pd\n",
    "import numpy as np\n",
    "import matplotlib.pyplot as plt\n",
    "import seaborn as sns"
   ]
  },
  {
   "cell_type": "markdown",
   "id": "8d5d5950-8546-4c7c-a8f7-5df41bc98aea",
   "metadata": {},
   "source": [
    "Data Manual\n",
    "- index: The index of the row.\n",
    "- age: The age of the person.\n",
    "- job: The job of the person.\n",
    "- marital: The marital status of the person.\n",
    "- education: The education level of the person.\n",
    "- default: Whether or not the person has credit in default.\n",
    "- balance: The balance of the person.\n",
    "- housing: Whether or not the person has a housing loan.\n",
    "- loan: Whether or not the person has a personal loan.\n",
    "- contact: The contact communication type of the person.\n",
    "- day: The day of the week of the last contact.\n",
    "- month: The month of the year of the last contact.\n",
    "- duration: The duration of the last contact, in seconds.\n",
    "- campaign: The number of contacts performed during this campaign and for this client.\n",
    "- pdays: The number of days that passed by after the client was last contacted from a previous campaign.\n",
    "- previous: The number of contacts performed before this campaign and for this client.\n",
    "- poutcome: The outcome of the previous marketing campaign.\n",
    "- y: Whether or not the client has subscribed a term deposit"
   ]
  },
  {
   "cell_type": "code",
   "execution_count": 4,
   "id": "245fa548-b36b-4514-94ea-f17175db671c",
   "metadata": {},
   "outputs": [],
   "source": [
    "df = pd.read_csv(\"bank-full.csv\")"
   ]
  },
  {
   "cell_type": "code",
   "execution_count": 6,
   "id": "24de4a27-3496-47d2-97ef-9806e3e9a8b8",
   "metadata": {},
   "outputs": [
    {
     "data": {
      "text/plain": [
       "Index(['index,\"age', 'job\"\"', 'marital\"\"', 'education\"\"', 'default\"\"',\n",
       "       'balance\"\"', 'housing\"\"', 'loan\"\"', 'contact\"\"', 'day\"\"', 'month\"\"',\n",
       "       'duration\"\"', 'campaign\"\"', 'pdays\"\"', 'previous\"\"', 'poutcome\"\"',\n",
       "       'y\"\"\"'],\n",
       "      dtype='object')"
      ]
     },
     "execution_count": 6,
     "metadata": {},
     "output_type": "execute_result"
    }
   ],
   "source": [
    "df.columns"
   ]
  },
  {
   "cell_type": "code",
   "execution_count": 10,
   "id": "3c034c64-5523-4b10-8bb6-072ba00b6435",
   "metadata": {},
   "outputs": [],
   "source": [
    "columns = ['age', 'job', 'marital', 'education', 'default',\n",
    "       'balance', 'housing', 'loan', 'contact', 'day', 'month',\n",
    "       'duration', 'campaign', 'pdays', 'previous', 'poutcome',\n",
    "       'y'\n",
    "      ]"
   ]
  },
  {
   "cell_type": "code",
   "execution_count": 11,
   "id": "a01812b1-9c05-4432-91a5-0480ac80ceb9",
   "metadata": {},
   "outputs": [],
   "source": [
    "df.columns = columns"
   ]
  },
  {
   "cell_type": "markdown",
   "id": "6f3bd5a4-a517-4de2-a94a-7dda57a73f74",
   "metadata": {},
   "source": [
    "## Cleaning Data"
   ]
  },
  {
   "cell_type": "code",
   "execution_count": 30,
   "id": "e689fe3d-8bb6-4a70-bd3d-0194ca1ff242",
   "metadata": {},
   "outputs": [],
   "source": [
    "df[\"age\"] =[pd.to_numeric(x.split(\",\")[1][1:6]) for x in df[\"age\"]]"
   ]
  },
  {
   "cell_type": "code",
   "execution_count": 76,
   "id": "f7a0f6c2-8528-43e0-ae19-24fc1e9d9a36",
   "metadata": {},
   "outputs": [],
   "source": [
    "df[\"job\"] = df[\"job\"].apply(lambda x : x[: -2])"
   ]
  },
  {
   "cell_type": "code",
   "execution_count": 78,
   "id": "dd102eb8-5b1f-4bad-a23c-750fbae24c9f",
   "metadata": {},
   "outputs": [],
   "source": [
    "df[\"marital\"] = df[\"marital\"].apply(lambda x : x[: -2])\n",
    "df[\"education\"] = df[\"education\"].apply(lambda x : x[: -2])\n",
    "df[\"default\"] = df[\"default\"].apply(lambda x : x[: -2])\n",
    "df[\"housing\"] = df[\"housing\"].apply(lambda x : x[: -2])\n",
    "df[\"loan\"] = df[\"loan\"].apply(lambda x : x[: -2])\n",
    "df[\"contact\"] = df[\"contact\"].apply(lambda x : x[: -2])\n",
    "df[\"month\"] = df[\"month\"].apply(lambda x : x[: -2])\n",
    "df[\"poutcome\"] = df[\"poutcome\"].apply(lambda x : x[: -2])\n",
    "df[\"y\"] = df[\"y\"].apply(lambda x : x[: -2])"
   ]
  },
  {
   "cell_type": "code",
   "execution_count": 81,
   "id": "58401228-f4c4-470a-8f30-f75d7f19cb08",
   "metadata": {},
   "outputs": [
    {
     "data": {
      "text/plain": [
       "array(['management', 'technician', 'entrepreneur', 'blue-collar',\n",
       "       'unknown', 'retired', 'admin.', 'services', 'self-employed',\n",
       "       'unemployed', 'housemaid', 'student'], dtype=object)"
      ]
     },
     "execution_count": 81,
     "metadata": {},
     "output_type": "execute_result"
    }
   ],
   "source": [
    "df[\"job\"].unique()"
   ]
  },
  {
   "cell_type": "code",
   "execution_count": 82,
   "id": "3c08939e-8e5c-444b-9aa6-5d19b72ec8f5",
   "metadata": {},
   "outputs": [],
   "source": [
    "job_range = np.arange(0, len(df[\"job\"].unique()))"
   ]
  },
  {
   "cell_type": "code",
   "execution_count": 83,
   "id": "d1705e4f-9442-4d62-9a8a-eb198345f99a",
   "metadata": {},
   "outputs": [
    {
     "data": {
      "text/plain": [
       "array([ 0,  1,  2,  3,  4,  5,  6,  7,  8,  9, 10, 11])"
      ]
     },
     "execution_count": 83,
     "metadata": {},
     "output_type": "execute_result"
    }
   ],
   "source": [
    "job_range"
   ]
  },
  {
   "cell_type": "code",
   "execution_count": 90,
   "id": "275a03ce-61eb-4bee-a99d-4d713998c57d",
   "metadata": {},
   "outputs": [],
   "source": [
    "jobList = list(df[\"job\"].unique())"
   ]
  },
  {
   "cell_type": "code",
   "execution_count": 91,
   "id": "3c2032e9-eabe-4889-9596-eb229b62bed8",
   "metadata": {},
   "outputs": [],
   "source": [
    "jobListZipped = dict(zip(jobList, job_range))"
   ]
  },
  {
   "cell_type": "code",
   "execution_count": 92,
   "id": "2843f72d-5eb0-4a2c-b7c1-b9513b6dbd24",
   "metadata": {},
   "outputs": [
    {
     "data": {
      "text/plain": [
       "{'management': 0,\n",
       " 'technician': 1,\n",
       " 'entrepreneur': 2,\n",
       " 'blue-collar': 3,\n",
       " 'unknown': 4,\n",
       " 'retired': 5,\n",
       " 'admin.': 6,\n",
       " 'services': 7,\n",
       " 'self-employed': 8,\n",
       " 'unemployed': 9,\n",
       " 'housemaid': 10,\n",
       " 'student': 11}"
      ]
     },
     "execution_count": 92,
     "metadata": {},
     "output_type": "execute_result"
    }
   ],
   "source": [
    "jobListZipped"
   ]
  },
  {
   "cell_type": "code",
   "execution_count": 95,
   "id": "2ce40658-fa72-498c-8654-9dc494344f2c",
   "metadata": {},
   "outputs": [],
   "source": [
    "df[\"job\"] = df[\"job\"].apply(lambda x : jobListZipped[x])"
   ]
  },
  {
   "cell_type": "code",
   "execution_count": 99,
   "id": "b5a944ba-9d3b-4ead-aa9b-5b392458e9ec",
   "metadata": {},
   "outputs": [
    {
     "data": {
      "text/plain": [
       "array(['married', 'single', 'divorced'], dtype=object)"
      ]
     },
     "execution_count": 99,
     "metadata": {},
     "output_type": "execute_result"
    }
   ],
   "source": [
    "df[\"marital\"].unique()"
   ]
  },
  {
   "cell_type": "code",
   "execution_count": 102,
   "id": "e93cbc1b-95e6-47e0-b056-aba1802d8ebb",
   "metadata": {},
   "outputs": [],
   "source": [
    "marital = pd.get_dummies(df[\"marital\"], drop_first=True)"
   ]
  },
  {
   "cell_type": "code",
   "execution_count": 103,
   "id": "2a60e209-7ce3-4807-a8ab-4df4d471733d",
   "metadata": {},
   "outputs": [],
   "source": [
    "df = pd.concat([df, marital], axis= 1)"
   ]
  },
  {
   "cell_type": "code",
   "execution_count": 106,
   "id": "35bfd36c-1d80-422f-9719-528775ab711d",
   "metadata": {},
   "outputs": [],
   "source": [
    "df.drop(\"marital\", axis = 1, inplace= True)"
   ]
  },
  {
   "cell_type": "markdown",
   "id": "c4697275-1202-4b97-997d-190ecc26a707",
   "metadata": {},
   "source": [
    "## Education"
   ]
  },
  {
   "cell_type": "code",
   "execution_count": 114,
   "id": "23cac9f3-ef94-4e26-af81-42365268f8f0",
   "metadata": {},
   "outputs": [],
   "source": [
    "edu = pd.get_dummies(df[\"education\"], drop_first=True)"
   ]
  },
  {
   "cell_type": "code",
   "execution_count": 115,
   "id": "61861354-c5c2-4e17-a31f-13e0a34ce726",
   "metadata": {},
   "outputs": [],
   "source": [
    "df = pd.concat([df, edu], axis=1)"
   ]
  },
  {
   "cell_type": "code",
   "execution_count": 117,
   "id": "8deb44ea-f455-4777-b971-f37fe78d38cc",
   "metadata": {},
   "outputs": [],
   "source": [
    "df.drop(\"education\", axis=1, inplace=True)"
   ]
  },
  {
   "cell_type": "markdown",
   "id": "663889de-307d-43db-8d40-384baae8a71b",
   "metadata": {},
   "source": [
    "## Default"
   ]
  },
  {
   "cell_type": "code",
   "execution_count": 119,
   "id": "a29f3d0a-7f32-4be4-8d30-e6fd84151185",
   "metadata": {},
   "outputs": [
    {
     "data": {
      "text/plain": [
       "array(['no', 'yes'], dtype=object)"
      ]
     },
     "execution_count": 119,
     "metadata": {},
     "output_type": "execute_result"
    }
   ],
   "source": [
    "df[\"default\"].unique()"
   ]
  },
  {
   "cell_type": "code",
   "execution_count": 120,
   "id": "9acbb8f6-7f18-43b8-886c-c8cd89078963",
   "metadata": {},
   "outputs": [],
   "source": [
    "df[\"default\"] = pd.get_dummies(df[\"default\"], drop_first=True)"
   ]
  },
  {
   "cell_type": "code",
   "execution_count": 123,
   "id": "b98ba5f0-3c68-4312-81cc-9b69e0ed7e7b",
   "metadata": {},
   "outputs": [
    {
     "data": {
      "text/plain": [
       "array([0, 1], dtype=uint8)"
      ]
     },
     "execution_count": 123,
     "metadata": {},
     "output_type": "execute_result"
    }
   ],
   "source": [
    "df[\"default\"].unique()"
   ]
  },
  {
   "cell_type": "markdown",
   "id": "bb538971-d4f7-41ff-b42f-2d7f815b27d3",
   "metadata": {},
   "source": [
    "## Housing/ loan"
   ]
  },
  {
   "cell_type": "code",
   "execution_count": 126,
   "id": "4b6ab345-9cb9-48f1-970d-af112590c2eb",
   "metadata": {},
   "outputs": [],
   "source": [
    "df[\"housing\"] = pd.get_dummies(df[\"housing\"], drop_first=True)"
   ]
  },
  {
   "cell_type": "code",
   "execution_count": 129,
   "id": "8bab894e-d671-49f2-8d03-48c19296e23c",
   "metadata": {},
   "outputs": [],
   "source": [
    "df[\"loan\"] = pd.get_dummies(df[\"loan\"], drop_first=True)"
   ]
  },
  {
   "cell_type": "markdown",
   "id": "91599a39-b426-41f5-8201-5a1715f6fe6c",
   "metadata": {},
   "source": [
    "### Contact"
   ]
  },
  {
   "cell_type": "code",
   "execution_count": 131,
   "id": "80c8c668-d3a4-41e6-8fc6-fb0a2731f8ef",
   "metadata": {},
   "outputs": [
    {
     "data": {
      "text/plain": [
       "array(['unknown', 'cellular', 'telephone'], dtype=object)"
      ]
     },
     "execution_count": 131,
     "metadata": {},
     "output_type": "execute_result"
    }
   ],
   "source": [
    "df[\"contact\"].unique()"
   ]
  },
  {
   "cell_type": "code",
   "execution_count": 134,
   "id": "bb4df088-96bb-434c-a122-84c47ec916bc",
   "metadata": {},
   "outputs": [],
   "source": [
    "contact = pd.get_dummies(df[\"contact\"], drop_first=True)"
   ]
  },
  {
   "cell_type": "code",
   "execution_count": 135,
   "id": "ff177fce-16f4-4849-847e-e5ab5c31c560",
   "metadata": {},
   "outputs": [],
   "source": [
    "df = pd.concat([df, contact], axis=1)"
   ]
  },
  {
   "cell_type": "code",
   "execution_count": 137,
   "id": "9fde32f8-fe3c-4cfd-8128-9d3af87ccd2d",
   "metadata": {},
   "outputs": [],
   "source": [
    "df.drop(\"contact\", axis=1, inplace=True)"
   ]
  },
  {
   "cell_type": "markdown",
   "id": "5e1faf6d-cbb7-42e4-a60a-9558e4544390",
   "metadata": {},
   "source": [
    "## month"
   ]
  },
  {
   "cell_type": "code",
   "execution_count": 140,
   "id": "622ba1d1-7ff9-4e53-8490-af2905d5255f",
   "metadata": {},
   "outputs": [
    {
     "data": {
      "text/plain": [
       "12"
      ]
     },
     "execution_count": 140,
     "metadata": {},
     "output_type": "execute_result"
    }
   ],
   "source": [
    "df[\"month\"].nunique()"
   ]
  },
  {
   "cell_type": "code",
   "execution_count": 153,
   "id": "f16fc8a6-5708-4409-ab79-34eae570fca2",
   "metadata": {},
   "outputs": [],
   "source": [
    "monthDict = {'may': 5,\n",
    " 'jun': 6,\n",
    " 'jul': 7,\n",
    " 'aug': 8,\n",
    " 'oct': 10,\n",
    " 'nov': 11,\n",
    " 'dec': 12,\n",
    " 'jan': 1,\n",
    " 'feb': 2,\n",
    " 'mar': 3,\n",
    " 'apr': 4,\n",
    " 'sep': 9}"
   ]
  },
  {
   "cell_type": "code",
   "execution_count": 156,
   "id": "7275cf92-bca5-47e4-ace5-8e8ed3a47536",
   "metadata": {},
   "outputs": [
    {
     "data": {
      "text/html": [
       "<div>\n",
       "<style scoped>\n",
       "    .dataframe tbody tr th:only-of-type {\n",
       "        vertical-align: middle;\n",
       "    }\n",
       "\n",
       "    .dataframe tbody tr th {\n",
       "        vertical-align: top;\n",
       "    }\n",
       "\n",
       "    .dataframe thead th {\n",
       "        text-align: right;\n",
       "    }\n",
       "</style>\n",
       "<table border=\"1\" class=\"dataframe\">\n",
       "  <thead>\n",
       "    <tr style=\"text-align: right;\">\n",
       "      <th></th>\n",
       "      <th>age</th>\n",
       "      <th>job</th>\n",
       "      <th>default</th>\n",
       "      <th>balance</th>\n",
       "      <th>housing</th>\n",
       "      <th>loan</th>\n",
       "      <th>day</th>\n",
       "      <th>month</th>\n",
       "      <th>duration</th>\n",
       "      <th>campaign</th>\n",
       "      <th>...</th>\n",
       "      <th>previous</th>\n",
       "      <th>poutcome</th>\n",
       "      <th>y</th>\n",
       "      <th>married</th>\n",
       "      <th>single</th>\n",
       "      <th>secondary</th>\n",
       "      <th>tertiary</th>\n",
       "      <th>unknown</th>\n",
       "      <th>telephone</th>\n",
       "      <th>unknown</th>\n",
       "    </tr>\n",
       "  </thead>\n",
       "  <tbody>\n",
       "    <tr>\n",
       "      <th>45207</th>\n",
       "      <td>71</td>\n",
       "      <td>5</td>\n",
       "      <td>0</td>\n",
       "      <td>1729</td>\n",
       "      <td>0</td>\n",
       "      <td>0</td>\n",
       "      <td>17</td>\n",
       "      <td>nov</td>\n",
       "      <td>456</td>\n",
       "      <td>2</td>\n",
       "      <td>...</td>\n",
       "      <td>0</td>\n",
       "      <td>unknown</td>\n",
       "      <td>yes\"</td>\n",
       "      <td>0</td>\n",
       "      <td>0</td>\n",
       "      <td>0</td>\n",
       "      <td>0</td>\n",
       "      <td>0</td>\n",
       "      <td>0</td>\n",
       "      <td>0</td>\n",
       "    </tr>\n",
       "    <tr>\n",
       "      <th>45208</th>\n",
       "      <td>72</td>\n",
       "      <td>5</td>\n",
       "      <td>0</td>\n",
       "      <td>5715</td>\n",
       "      <td>0</td>\n",
       "      <td>0</td>\n",
       "      <td>17</td>\n",
       "      <td>nov</td>\n",
       "      <td>1127</td>\n",
       "      <td>5</td>\n",
       "      <td>...</td>\n",
       "      <td>3</td>\n",
       "      <td>success</td>\n",
       "      <td>yes\"</td>\n",
       "      <td>1</td>\n",
       "      <td>0</td>\n",
       "      <td>1</td>\n",
       "      <td>0</td>\n",
       "      <td>0</td>\n",
       "      <td>0</td>\n",
       "      <td>0</td>\n",
       "    </tr>\n",
       "    <tr>\n",
       "      <th>45209</th>\n",
       "      <td>57</td>\n",
       "      <td>3</td>\n",
       "      <td>0</td>\n",
       "      <td>668</td>\n",
       "      <td>0</td>\n",
       "      <td>0</td>\n",
       "      <td>17</td>\n",
       "      <td>nov</td>\n",
       "      <td>508</td>\n",
       "      <td>4</td>\n",
       "      <td>...</td>\n",
       "      <td>0</td>\n",
       "      <td>unknown</td>\n",
       "      <td>no\"</td>\n",
       "      <td>1</td>\n",
       "      <td>0</td>\n",
       "      <td>1</td>\n",
       "      <td>0</td>\n",
       "      <td>0</td>\n",
       "      <td>1</td>\n",
       "      <td>0</td>\n",
       "    </tr>\n",
       "    <tr>\n",
       "      <th>45210</th>\n",
       "      <td>37</td>\n",
       "      <td>2</td>\n",
       "      <td>0</td>\n",
       "      <td>2971</td>\n",
       "      <td>0</td>\n",
       "      <td>0</td>\n",
       "      <td>17</td>\n",
       "      <td>nov</td>\n",
       "      <td>361</td>\n",
       "      <td>2</td>\n",
       "      <td>...</td>\n",
       "      <td>11</td>\n",
       "      <td>other</td>\n",
       "      <td>no\"</td>\n",
       "      <td>1</td>\n",
       "      <td>0</td>\n",
       "      <td>1</td>\n",
       "      <td>0</td>\n",
       "      <td>0</td>\n",
       "      <td>0</td>\n",
       "      <td>0</td>\n",
       "    </tr>\n",
       "  </tbody>\n",
       "</table>\n",
       "<p>4 rows × 21 columns</p>\n",
       "</div>"
      ],
      "text/plain": [
       "       age  job  default  balance  housing  loan  day month  duration  \\\n",
       "45207   71    5        0     1729        0     0   17   nov       456   \n",
       "45208   72    5        0     5715        0     0   17   nov      1127   \n",
       "45209   57    3        0      668        0     0   17   nov       508   \n",
       "45210   37    2        0     2971        0     0   17   nov       361   \n",
       "\n",
       "       campaign  ...  previous  poutcome     y married  single  secondary  \\\n",
       "45207         2  ...         0   unknown  yes\"       0       0          0   \n",
       "45208         5  ...         3   success  yes\"       1       0          1   \n",
       "45209         4  ...         0   unknown   no\"       1       0          1   \n",
       "45210         2  ...        11     other   no\"       1       0          1   \n",
       "\n",
       "       tertiary  unknown  telephone  unknown  \n",
       "45207         0        0          0        0  \n",
       "45208         0        0          0        0  \n",
       "45209         0        0          1        0  \n",
       "45210         0        0          0        0  \n",
       "\n",
       "[4 rows x 21 columns]"
      ]
     },
     "execution_count": 156,
     "metadata": {},
     "output_type": "execute_result"
    }
   ],
   "source": [
    "df.tail(4)"
   ]
  },
  {
   "cell_type": "code",
   "execution_count": 157,
   "id": "6619d842-958c-4413-b2c0-694afc78bb3c",
   "metadata": {},
   "outputs": [],
   "source": [
    "df[\"month\"] = df[\"month\"].apply(lambda x: monthDict[x])"
   ]
  },
  {
   "cell_type": "code",
   "execution_count": 159,
   "id": "3a220bd1-72d0-4e89-a831-7005b85b5a77",
   "metadata": {},
   "outputs": [
    {
     "data": {
      "text/plain": [
       "Index(['age', 'job', 'default', 'balance', 'housing', 'loan', 'day', 'month',\n",
       "       'duration', 'campaign', 'pdays', 'previous', 'poutcome', 'y', 'married',\n",
       "       'single', 'secondary', 'tertiary', 'unknown', 'telephone', 'unknown'],\n",
       "      dtype='object')"
      ]
     },
     "execution_count": 159,
     "metadata": {},
     "output_type": "execute_result"
    }
   ],
   "source": [
    "df.columns"
   ]
  },
  {
   "cell_type": "code",
   "execution_count": 160,
   "id": "3ff5fd43-88b0-4275-bdbd-c5a3f51b864a",
   "metadata": {},
   "outputs": [
    {
     "data": {
      "text/html": [
       "<div>\n",
       "<style scoped>\n",
       "    .dataframe tbody tr th:only-of-type {\n",
       "        vertical-align: middle;\n",
       "    }\n",
       "\n",
       "    .dataframe tbody tr th {\n",
       "        vertical-align: top;\n",
       "    }\n",
       "\n",
       "    .dataframe thead th {\n",
       "        text-align: right;\n",
       "    }\n",
       "</style>\n",
       "<table border=\"1\" class=\"dataframe\">\n",
       "  <thead>\n",
       "    <tr style=\"text-align: right;\">\n",
       "      <th></th>\n",
       "      <th>age</th>\n",
       "      <th>job</th>\n",
       "      <th>default</th>\n",
       "      <th>balance</th>\n",
       "      <th>housing</th>\n",
       "      <th>loan</th>\n",
       "      <th>day</th>\n",
       "      <th>month</th>\n",
       "      <th>duration</th>\n",
       "      <th>campaign</th>\n",
       "      <th>...</th>\n",
       "      <th>previous</th>\n",
       "      <th>poutcome</th>\n",
       "      <th>y</th>\n",
       "      <th>married</th>\n",
       "      <th>single</th>\n",
       "      <th>secondary</th>\n",
       "      <th>tertiary</th>\n",
       "      <th>unknown</th>\n",
       "      <th>telephone</th>\n",
       "      <th>unknown</th>\n",
       "    </tr>\n",
       "  </thead>\n",
       "  <tbody>\n",
       "    <tr>\n",
       "      <th>0</th>\n",
       "      <td>58</td>\n",
       "      <td>0</td>\n",
       "      <td>0</td>\n",
       "      <td>2143</td>\n",
       "      <td>1</td>\n",
       "      <td>0</td>\n",
       "      <td>5</td>\n",
       "      <td>5</td>\n",
       "      <td>261</td>\n",
       "      <td>1</td>\n",
       "      <td>...</td>\n",
       "      <td>0</td>\n",
       "      <td>unknown</td>\n",
       "      <td>no\"</td>\n",
       "      <td>1</td>\n",
       "      <td>0</td>\n",
       "      <td>0</td>\n",
       "      <td>1</td>\n",
       "      <td>0</td>\n",
       "      <td>0</td>\n",
       "      <td>1</td>\n",
       "    </tr>\n",
       "    <tr>\n",
       "      <th>1</th>\n",
       "      <td>44</td>\n",
       "      <td>1</td>\n",
       "      <td>0</td>\n",
       "      <td>29</td>\n",
       "      <td>1</td>\n",
       "      <td>0</td>\n",
       "      <td>5</td>\n",
       "      <td>5</td>\n",
       "      <td>151</td>\n",
       "      <td>1</td>\n",
       "      <td>...</td>\n",
       "      <td>0</td>\n",
       "      <td>unknown</td>\n",
       "      <td>no\"</td>\n",
       "      <td>0</td>\n",
       "      <td>1</td>\n",
       "      <td>1</td>\n",
       "      <td>0</td>\n",
       "      <td>0</td>\n",
       "      <td>0</td>\n",
       "      <td>1</td>\n",
       "    </tr>\n",
       "    <tr>\n",
       "      <th>2</th>\n",
       "      <td>33</td>\n",
       "      <td>2</td>\n",
       "      <td>0</td>\n",
       "      <td>2</td>\n",
       "      <td>1</td>\n",
       "      <td>1</td>\n",
       "      <td>5</td>\n",
       "      <td>5</td>\n",
       "      <td>76</td>\n",
       "      <td>1</td>\n",
       "      <td>...</td>\n",
       "      <td>0</td>\n",
       "      <td>unknown</td>\n",
       "      <td>no\"</td>\n",
       "      <td>1</td>\n",
       "      <td>0</td>\n",
       "      <td>1</td>\n",
       "      <td>0</td>\n",
       "      <td>0</td>\n",
       "      <td>0</td>\n",
       "      <td>1</td>\n",
       "    </tr>\n",
       "    <tr>\n",
       "      <th>3</th>\n",
       "      <td>47</td>\n",
       "      <td>3</td>\n",
       "      <td>0</td>\n",
       "      <td>1506</td>\n",
       "      <td>1</td>\n",
       "      <td>0</td>\n",
       "      <td>5</td>\n",
       "      <td>5</td>\n",
       "      <td>92</td>\n",
       "      <td>1</td>\n",
       "      <td>...</td>\n",
       "      <td>0</td>\n",
       "      <td>unknown</td>\n",
       "      <td>no\"</td>\n",
       "      <td>1</td>\n",
       "      <td>0</td>\n",
       "      <td>0</td>\n",
       "      <td>0</td>\n",
       "      <td>1</td>\n",
       "      <td>0</td>\n",
       "      <td>1</td>\n",
       "    </tr>\n",
       "    <tr>\n",
       "      <th>4</th>\n",
       "      <td>33</td>\n",
       "      <td>4</td>\n",
       "      <td>0</td>\n",
       "      <td>1</td>\n",
       "      <td>0</td>\n",
       "      <td>0</td>\n",
       "      <td>5</td>\n",
       "      <td>5</td>\n",
       "      <td>198</td>\n",
       "      <td>1</td>\n",
       "      <td>...</td>\n",
       "      <td>0</td>\n",
       "      <td>unknown</td>\n",
       "      <td>no\"</td>\n",
       "      <td>0</td>\n",
       "      <td>1</td>\n",
       "      <td>0</td>\n",
       "      <td>0</td>\n",
       "      <td>1</td>\n",
       "      <td>0</td>\n",
       "      <td>1</td>\n",
       "    </tr>\n",
       "  </tbody>\n",
       "</table>\n",
       "<p>5 rows × 21 columns</p>\n",
       "</div>"
      ],
      "text/plain": [
       "   age  job  default  balance  housing  loan  day  month  duration  campaign  \\\n",
       "0   58    0        0     2143        1     0    5      5       261         1   \n",
       "1   44    1        0       29        1     0    5      5       151         1   \n",
       "2   33    2        0        2        1     1    5      5        76         1   \n",
       "3   47    3        0     1506        1     0    5      5        92         1   \n",
       "4   33    4        0        1        0     0    5      5       198         1   \n",
       "\n",
       "   ...  previous  poutcome    y married  single  secondary  tertiary  unknown  \\\n",
       "0  ...         0   unknown  no\"       1       0          0         1        0   \n",
       "1  ...         0   unknown  no\"       0       1          1         0        0   \n",
       "2  ...         0   unknown  no\"       1       0          1         0        0   \n",
       "3  ...         0   unknown  no\"       1       0          0         0        1   \n",
       "4  ...         0   unknown  no\"       0       1          0         0        1   \n",
       "\n",
       "   telephone  unknown  \n",
       "0          0        1  \n",
       "1          0        1  \n",
       "2          0        1  \n",
       "3          0        1  \n",
       "4          0        1  \n",
       "\n",
       "[5 rows x 21 columns]"
      ]
     },
     "execution_count": 160,
     "metadata": {},
     "output_type": "execute_result"
    }
   ],
   "source": [
    "df.head()"
   ]
  },
  {
   "cell_type": "code",
   "execution_count": 162,
   "id": "f5026084-7508-4207-b7d1-25ee948d4369",
   "metadata": {},
   "outputs": [
    {
     "name": "stdout",
     "output_type": "stream",
     "text": [
      "<class 'pandas.core.frame.DataFrame'>\n",
      "RangeIndex: 45211 entries, 0 to 45210\n",
      "Data columns (total 21 columns):\n",
      " #   Column     Non-Null Count  Dtype \n",
      "---  ------     --------------  ----- \n",
      " 0   age        45211 non-null  int64 \n",
      " 1   job        45211 non-null  int64 \n",
      " 2   default    45211 non-null  uint8 \n",
      " 3   balance    45211 non-null  int64 \n",
      " 4   housing    45211 non-null  uint8 \n",
      " 5   loan       45211 non-null  uint8 \n",
      " 6   day        45211 non-null  int64 \n",
      " 7   month      45211 non-null  int64 \n",
      " 8   duration   45211 non-null  int64 \n",
      " 9   campaign   45211 non-null  int64 \n",
      " 10  pdays      45211 non-null  int64 \n",
      " 11  previous   45211 non-null  int64 \n",
      " 12  poutcome   45211 non-null  object\n",
      " 13  y          45211 non-null  object\n",
      " 14  married    45211 non-null  uint8 \n",
      " 15  single     45211 non-null  uint8 \n",
      " 16  secondary  45211 non-null  uint8 \n",
      " 17  tertiary   45211 non-null  uint8 \n",
      " 18  unknown    45211 non-null  uint8 \n",
      " 19  telephone  45211 non-null  uint8 \n",
      " 20  unknown    45211 non-null  uint8 \n",
      "dtypes: int64(9), object(2), uint8(10)\n",
      "memory usage: 4.2+ MB\n"
     ]
    }
   ],
   "source": [
    "df.info()"
   ]
  },
  {
   "cell_type": "markdown",
   "id": "1e903e26-e1bb-47df-a9d9-76ad5a5f3ec3",
   "metadata": {},
   "source": [
    "## Poutcome"
   ]
  },
  {
   "cell_type": "code",
   "execution_count": 164,
   "id": "af2ec394-5c19-48fc-96d9-eb9562fe66e8",
   "metadata": {},
   "outputs": [
    {
     "data": {
      "text/plain": [
       "4"
      ]
     },
     "execution_count": 164,
     "metadata": {},
     "output_type": "execute_result"
    }
   ],
   "source": [
    "df[\"poutcome\"].nunique()"
   ]
  },
  {
   "cell_type": "code",
   "execution_count": 167,
   "id": "856f72ce-31dc-4289-936e-c49063359a65",
   "metadata": {},
   "outputs": [],
   "source": [
    "poutcom = pd.get_dummies(df[\"poutcome\"], drop_first=True)"
   ]
  },
  {
   "cell_type": "code",
   "execution_count": 168,
   "id": "14791432-312e-4686-9dbf-78bc1bfacf46",
   "metadata": {},
   "outputs": [],
   "source": [
    "df = pd.concat([df, poutcom], axis=1)"
   ]
  },
  {
   "cell_type": "code",
   "execution_count": 171,
   "id": "4e296b46-e4d6-4b9d-adb5-a81e3044b3f3",
   "metadata": {},
   "outputs": [],
   "source": [
    "df.drop(\"poutcome\", axis=1, inplace=True)"
   ]
  },
  {
   "cell_type": "code",
   "execution_count": 173,
   "id": "e6b898e3-74cd-43d0-ab27-33080ca50c6a",
   "metadata": {},
   "outputs": [
    {
     "data": {
      "text/plain": [
       "0         no\"\n",
       "1         no\"\n",
       "2         no\"\n",
       "3         no\"\n",
       "4         no\"\n",
       "         ... \n",
       "45206    yes\"\n",
       "45207    yes\"\n",
       "45208    yes\"\n",
       "45209     no\"\n",
       "45210     no\"\n",
       "Name: y, Length: 45211, dtype: object"
      ]
     },
     "execution_count": 173,
     "metadata": {},
     "output_type": "execute_result"
    }
   ],
   "source": [
    "df[\"y\"]"
   ]
  },
  {
   "cell_type": "code",
   "execution_count": 178,
   "id": "20b56594-265c-4409-9f87-48b21d6fbeda",
   "metadata": {},
   "outputs": [],
   "source": [
    "df[\"y\"] = df[\"y\"].apply(lambda x : x[: -1])"
   ]
  },
  {
   "cell_type": "code",
   "execution_count": 181,
   "id": "cb447c8c-fac3-4c0b-8cea-a8089b2de61e",
   "metadata": {},
   "outputs": [
    {
     "data": {
      "text/plain": [
       "2"
      ]
     },
     "execution_count": 181,
     "metadata": {},
     "output_type": "execute_result"
    }
   ],
   "source": [
    "df[\"y\"].nunique()"
   ]
  },
  {
   "cell_type": "code",
   "execution_count": 182,
   "id": "353e82ab-9197-42fd-acc8-60e6b7a1e948",
   "metadata": {},
   "outputs": [],
   "source": [
    "df[\"y\"] = pd.get_dummies(df[\"y\"], drop_first=True)"
   ]
  },
  {
   "cell_type": "code",
   "execution_count": 185,
   "id": "4b4bf87b-57ec-4419-b695-89efb9b4856a",
   "metadata": {},
   "outputs": [
    {
     "name": "stdout",
     "output_type": "stream",
     "text": [
      "<class 'pandas.core.frame.DataFrame'>\n",
      "RangeIndex: 45211 entries, 0 to 45210\n",
      "Data columns (total 23 columns):\n",
      " #   Column     Non-Null Count  Dtype\n",
      "---  ------     --------------  -----\n",
      " 0   age        45211 non-null  int64\n",
      " 1   job        45211 non-null  int64\n",
      " 2   default    45211 non-null  uint8\n",
      " 3   balance    45211 non-null  int64\n",
      " 4   housing    45211 non-null  uint8\n",
      " 5   loan       45211 non-null  uint8\n",
      " 6   day        45211 non-null  int64\n",
      " 7   month      45211 non-null  int64\n",
      " 8   duration   45211 non-null  int64\n",
      " 9   campaign   45211 non-null  int64\n",
      " 10  pdays      45211 non-null  int64\n",
      " 11  previous   45211 non-null  int64\n",
      " 12  y          45211 non-null  uint8\n",
      " 13  married    45211 non-null  uint8\n",
      " 14  single     45211 non-null  uint8\n",
      " 15  secondary  45211 non-null  uint8\n",
      " 16  tertiary   45211 non-null  uint8\n",
      " 17  unknown    45211 non-null  uint8\n",
      " 18  telephone  45211 non-null  uint8\n",
      " 19  unknown    45211 non-null  uint8\n",
      " 20  other      45211 non-null  uint8\n",
      " 21  success    45211 non-null  uint8\n",
      " 22  unknown    45211 non-null  uint8\n",
      "dtypes: int64(9), uint8(14)\n",
      "memory usage: 3.7 MB\n"
     ]
    }
   ],
   "source": [
    "df.info()"
   ]
  },
  {
   "cell_type": "markdown",
   "id": "8420d187-5ee4-4046-a1a5-56fdc1050754",
   "metadata": {},
   "source": [
    "## Target will be \"y\" column \n",
    "- indicating yes or no for subscribing"
   ]
  },
  {
   "cell_type": "code",
   "execution_count": 193,
   "id": "bcdc9de9-2526-40fb-b55b-e6bb9b24f556",
   "metadata": {},
   "outputs": [
    {
     "data": {
      "text/plain": [
       "y            1.000000\n",
       "duration     0.394521\n",
       "success      0.306788\n",
       "pdays        0.103621\n",
       "previous     0.093236\n",
       "tertiary     0.066448\n",
       "single       0.063526\n",
       "balance      0.052838\n",
       "other        0.031955\n",
       "age          0.025155\n",
       "job          0.022396\n",
       "month        0.018717\n",
       "telephone    0.014042\n",
       "unknown      0.012053\n",
       "default     -0.022419\n",
       "day         -0.028348\n",
       "secondary   -0.036388\n",
       "married     -0.060260\n",
       "loan        -0.068185\n",
       "campaign    -0.073172\n",
       "housing     -0.139173\n",
       "unknown     -0.150935\n",
       "unknown     -0.167051\n",
       "dtype: float64"
      ]
     },
     "execution_count": 193,
     "metadata": {},
     "output_type": "execute_result"
    }
   ],
   "source": [
    "df.corrwith(df['y']).sort_values(ascending = False)"
   ]
  },
  {
   "cell_type": "code",
   "execution_count": 192,
   "id": "b7107b1c-fb11-455f-a32f-bc0120d0c8cd",
   "metadata": {},
   "outputs": [
    {
     "data": {
      "text/plain": [
       "<AxesSubplot:>"
      ]
     },
     "execution_count": 192,
     "metadata": {},
     "output_type": "execute_result"
    },
    {
     "data": {
      "image/png": "[encoded data removed]",
      "text/plain": [
       "<Figure size 432x288 with 1 Axes>"
      ]
     },
     "metadata": {
      "needs_background": "light"
     },
     "output_type": "display_data"
    }
   ],
   "source": [
    "df.corrwith(df['y']).sort_values(ascending = False)[1:].plot(kind = \"bar\")"
   ]
  },
  {
   "cell_type": "code",
   "execution_count": 194,
   "id": "9776befd-faa5-4da6-8d58-605e3307bbbc",
   "metadata": {},
   "outputs": [
    {
     "data": {
      "text/html": [
       "<div>\n",
       "<style scoped>\n",
       "    .dataframe tbody tr th:only-of-type {\n",
       "        vertical-align: middle;\n",
       "    }\n",
       "\n",
       "    .dataframe tbody tr th {\n",
       "        vertical-align: top;\n",
       "    }\n",
       "\n",
       "    .dataframe thead th {\n",
       "        text-align: right;\n",
       "    }\n",
       "</style>\n",
       "<table border=\"1\" class=\"dataframe\">\n",
       "  <thead>\n",
       "    <tr style=\"text-align: right;\">\n",
       "      <th></th>\n",
       "      <th>age</th>\n",
       "      <th>job</th>\n",
       "      <th>default</th>\n",
       "      <th>balance</th>\n",
       "      <th>housing</th>\n",
       "      <th>loan</th>\n",
       "      <th>day</th>\n",
       "      <th>month</th>\n",
       "      <th>duration</th>\n",
       "      <th>campaign</th>\n",
       "      <th>...</th>\n",
       "      <th>married</th>\n",
       "      <th>single</th>\n",
       "      <th>secondary</th>\n",
       "      <th>tertiary</th>\n",
       "      <th>unknown</th>\n",
       "      <th>telephone</th>\n",
       "      <th>unknown</th>\n",
       "      <th>other</th>\n",
       "      <th>success</th>\n",
       "      <th>unknown</th>\n",
       "    </tr>\n",
       "  </thead>\n",
       "  <tbody>\n",
       "    <tr>\n",
       "      <th>0</th>\n",
       "      <td>58</td>\n",
       "      <td>0</td>\n",
       "      <td>0</td>\n",
       "      <td>2143</td>\n",
       "      <td>1</td>\n",
       "      <td>0</td>\n",
       "      <td>5</td>\n",
       "      <td>5</td>\n",
       "      <td>261</td>\n",
       "      <td>1</td>\n",
       "      <td>...</td>\n",
       "      <td>1</td>\n",
       "      <td>0</td>\n",
       "      <td>0</td>\n",
       "      <td>1</td>\n",
       "      <td>0</td>\n",
       "      <td>0</td>\n",
       "      <td>1</td>\n",
       "      <td>0</td>\n",
       "      <td>0</td>\n",
       "      <td>1</td>\n",
       "    </tr>\n",
       "    <tr>\n",
       "      <th>1</th>\n",
       "      <td>44</td>\n",
       "      <td>1</td>\n",
       "      <td>0</td>\n",
       "      <td>29</td>\n",
       "      <td>1</td>\n",
       "      <td>0</td>\n",
       "      <td>5</td>\n",
       "      <td>5</td>\n",
       "      <td>151</td>\n",
       "      <td>1</td>\n",
       "      <td>...</td>\n",
       "      <td>0</td>\n",
       "      <td>1</td>\n",
       "      <td>1</td>\n",
       "      <td>0</td>\n",
       "      <td>0</td>\n",
       "      <td>0</td>\n",
       "      <td>1</td>\n",
       "      <td>0</td>\n",
       "      <td>0</td>\n",
       "      <td>1</td>\n",
       "    </tr>\n",
       "    <tr>\n",
       "      <th>2</th>\n",
       "      <td>33</td>\n",
       "      <td>2</td>\n",
       "      <td>0</td>\n",
       "      <td>2</td>\n",
       "      <td>1</td>\n",
       "      <td>1</td>\n",
       "      <td>5</td>\n",
       "      <td>5</td>\n",
       "      <td>76</td>\n",
       "      <td>1</td>\n",
       "      <td>...</td>\n",
       "      <td>1</td>\n",
       "      <td>0</td>\n",
       "      <td>1</td>\n",
       "      <td>0</td>\n",
       "      <td>0</td>\n",
       "      <td>0</td>\n",
       "      <td>1</td>\n",
       "      <td>0</td>\n",
       "      <td>0</td>\n",
       "      <td>1</td>\n",
       "    </tr>\n",
       "    <tr>\n",
       "      <th>3</th>\n",
       "      <td>47</td>\n",
       "      <td>3</td>\n",
       "      <td>0</td>\n",
       "      <td>1506</td>\n",
       "      <td>1</td>\n",
       "      <td>0</td>\n",
       "      <td>5</td>\n",
       "      <td>5</td>\n",
       "      <td>92</td>\n",
       "      <td>1</td>\n",
       "      <td>...</td>\n",
       "      <td>1</td>\n",
       "      <td>0</td>\n",
       "      <td>0</td>\n",
       "      <td>0</td>\n",
       "      <td>1</td>\n",
       "      <td>0</td>\n",
       "      <td>1</td>\n",
       "      <td>0</td>\n",
       "      <td>0</td>\n",
       "      <td>1</td>\n",
       "    </tr>\n",
       "    <tr>\n",
       "      <th>4</th>\n",
       "      <td>33</td>\n",
       "      <td>4</td>\n",
       "      <td>0</td>\n",
       "      <td>1</td>\n",
       "      <td>0</td>\n",
       "      <td>0</td>\n",
       "      <td>5</td>\n",
       "      <td>5</td>\n",
       "      <td>198</td>\n",
       "      <td>1</td>\n",
       "      <td>...</td>\n",
       "      <td>0</td>\n",
       "      <td>1</td>\n",
       "      <td>0</td>\n",
       "      <td>0</td>\n",
       "      <td>1</td>\n",
       "      <td>0</td>\n",
       "      <td>1</td>\n",
       "      <td>0</td>\n",
       "      <td>0</td>\n",
       "      <td>1</td>\n",
       "    </tr>\n",
       "    <tr>\n",
       "      <th>...</th>\n",
       "      <td>...</td>\n",
       "      <td>...</td>\n",
       "      <td>...</td>\n",
       "      <td>...</td>\n",
       "      <td>...</td>\n",
       "      <td>...</td>\n",
       "      <td>...</td>\n",
       "      <td>...</td>\n",
       "      <td>...</td>\n",
       "      <td>...</td>\n",
       "      <td>...</td>\n",
       "      <td>...</td>\n",
       "      <td>...</td>\n",
       "      <td>...</td>\n",
       "      <td>...</td>\n",
       "      <td>...</td>\n",
       "      <td>...</td>\n",
       "      <td>...</td>\n",
       "      <td>...</td>\n",
       "      <td>...</td>\n",
       "      <td>...</td>\n",
       "    </tr>\n",
       "    <tr>\n",
       "      <th>45206</th>\n",
       "      <td>51</td>\n",
       "      <td>1</td>\n",
       "      <td>0</td>\n",
       "      <td>825</td>\n",
       "      <td>0</td>\n",
       "      <td>0</td>\n",
       "      <td>17</td>\n",
       "      <td>11</td>\n",
       "      <td>977</td>\n",
       "      <td>3</td>\n",
       "      <td>...</td>\n",
       "      <td>1</td>\n",
       "      <td>0</td>\n",
       "      <td>0</td>\n",
       "      <td>1</td>\n",
       "      <td>0</td>\n",
       "      <td>0</td>\n",
       "      <td>0</td>\n",
       "      <td>0</td>\n",
       "      <td>0</td>\n",
       "      <td>1</td>\n",
       "    </tr>\n",
       "    <tr>\n",
       "      <th>45207</th>\n",
       "      <td>71</td>\n",
       "      <td>5</td>\n",
       "      <td>0</td>\n",
       "      <td>1729</td>\n",
       "      <td>0</td>\n",
       "      <td>0</td>\n",
       "      <td>17</td>\n",
       "      <td>11</td>\n",
       "      <td>456</td>\n",
       "      <td>2</td>\n",
       "      <td>...</td>\n",
       "      <td>0</td>\n",
       "      <td>0</td>\n",
       "      <td>0</td>\n",
       "      <td>0</td>\n",
       "      <td>0</td>\n",
       "      <td>0</td>\n",
       "      <td>0</td>\n",
       "      <td>0</td>\n",
       "      <td>0</td>\n",
       "      <td>1</td>\n",
       "    </tr>\n",
       "    <tr>\n",
       "      <th>45208</th>\n",
       "      <td>72</td>\n",
       "      <td>5</td>\n",
       "      <td>0</td>\n",
       "      <td>5715</td>\n",
       "      <td>0</td>\n",
       "      <td>0</td>\n",
       "      <td>17</td>\n",
       "      <td>11</td>\n",
       "      <td>1127</td>\n",
       "      <td>5</td>\n",
       "      <td>...</td>\n",
       "      <td>1</td>\n",
       "      <td>0</td>\n",
       "      <td>1</td>\n",
       "      <td>0</td>\n",
       "      <td>0</td>\n",
       "      <td>0</td>\n",
       "      <td>0</td>\n",
       "      <td>0</td>\n",
       "      <td>1</td>\n",
       "      <td>0</td>\n",
       "    </tr>\n",
       "    <tr>\n",
       "      <th>45209</th>\n",
       "      <td>57</td>\n",
       "      <td>3</td>\n",
       "      <td>0</td>\n",
       "      <td>668</td>\n",
       "      <td>0</td>\n",
       "      <td>0</td>\n",
       "      <td>17</td>\n",
       "      <td>11</td>\n",
       "      <td>508</td>\n",
       "      <td>4</td>\n",
       "      <td>...</td>\n",
       "      <td>1</td>\n",
       "      <td>0</td>\n",
       "      <td>1</td>\n",
       "      <td>0</td>\n",
       "      <td>0</td>\n",
       "      <td>1</td>\n",
       "      <td>0</td>\n",
       "      <td>0</td>\n",
       "      <td>0</td>\n",
       "      <td>1</td>\n",
       "    </tr>\n",
       "    <tr>\n",
       "      <th>45210</th>\n",
       "      <td>37</td>\n",
       "      <td>2</td>\n",
       "      <td>0</td>\n",
       "      <td>2971</td>\n",
       "      <td>0</td>\n",
       "      <td>0</td>\n",
       "      <td>17</td>\n",
       "      <td>11</td>\n",
       "      <td>361</td>\n",
       "      <td>2</td>\n",
       "      <td>...</td>\n",
       "      <td>1</td>\n",
       "      <td>0</td>\n",
       "      <td>1</td>\n",
       "      <td>0</td>\n",
       "      <td>0</td>\n",
       "      <td>0</td>\n",
       "      <td>0</td>\n",
       "      <td>1</td>\n",
       "      <td>0</td>\n",
       "      <td>0</td>\n",
       "    </tr>\n",
       "  </tbody>\n",
       "</table>\n",
       "<p>45211 rows × 23 columns</p>\n",
       "</div>"
      ],
      "text/plain": [
       "       age  job  default  balance  housing  loan  day  month  duration  \\\n",
       "0       58    0        0     2143        1     0    5      5       261   \n",
       "1       44    1        0       29        1     0    5      5       151   \n",
       "2       33    2        0        2        1     1    5      5        76   \n",
       "3       47    3        0     1506        1     0    5      5        92   \n",
       "4       33    4        0        1        0     0    5      5       198   \n",
       "...    ...  ...      ...      ...      ...   ...  ...    ...       ...   \n",
       "45206   51    1        0      825        0     0   17     11       977   \n",
       "45207   71    5        0     1729        0     0   17     11       456   \n",
       "45208   72    5        0     5715        0     0   17     11      1127   \n",
       "45209   57    3        0      668        0     0   17     11       508   \n",
       "45210   37    2        0     2971        0     0   17     11       361   \n",
       "\n",
       "       campaign  ...  married  single  secondary  tertiary  unknown  \\\n",
       "0             1  ...        1       0          0         1        0   \n",
       "1             1  ...        0       1          1         0        0   \n",
       "2             1  ...        1       0          1         0        0   \n",
       "3             1  ...        1       0          0         0        1   \n",
       "4             1  ...        0       1          0         0        1   \n",
       "...         ...  ...      ...     ...        ...       ...      ...   \n",
       "45206         3  ...        1       0          0         1        0   \n",
       "45207         2  ...        0       0          0         0        0   \n",
       "45208         5  ...        1       0          1         0        0   \n",
       "45209         4  ...        1       0          1         0        0   \n",
       "45210         2  ...        1       0          1         0        0   \n",
       "\n",
       "       telephone  unknown  other  success  unknown  \n",
       "0              0        1      0        0        1  \n",
       "1              0        1      0        0        1  \n",
       "2              0        1      0        0        1  \n",
       "3              0        1      0        0        1  \n",
       "4              0        1      0        0        1  \n",
       "...          ...      ...    ...      ...      ...  \n",
       "45206          0        0      0        0        1  \n",
       "45207          0        0      0        0        1  \n",
       "45208          0        0      0        1        0  \n",
       "45209          1        0      0        0        1  \n",
       "45210          0        0      1        0        0  \n",
       "\n",
       "[45211 rows x 23 columns]"
      ]
     },
     "execution_count": 194,
     "metadata": {},
     "output_type": "execute_result"
    }
   ],
   "source": []
  },
  {
   "cell_type": "code",
   "execution_count": 195,
   "id": "92249f02-5a96-449b-ac62-f2f55bfc1a66",
   "metadata": {},
   "outputs": [
    {
     "data": {
      "text/html": [
       "<div>\n",
       "<style scoped>\n",
       "    .dataframe tbody tr th:only-of-type {\n",
       "        vertical-align: middle;\n",
       "    }\n",
       "\n",
       "    .dataframe tbody tr th {\n",
       "        vertical-align: top;\n",
       "    }\n",
       "\n",
       "    .dataframe thead th {\n",
       "        text-align: right;\n",
       "    }\n",
       "</style>\n",
       "<table border=\"1\" class=\"dataframe\">\n",
       "  <thead>\n",
       "    <tr style=\"text-align: right;\">\n",
       "      <th></th>\n",
       "      <th>age</th>\n",
       "      <th>job</th>\n",
       "      <th>default</th>\n",
       "      <th>balance</th>\n",
       "      <th>housing</th>\n",
       "      <th>loan</th>\n",
       "      <th>day</th>\n",
       "      <th>month</th>\n",
       "      <th>duration</th>\n",
       "      <th>campaign</th>\n",
       "      <th>...</th>\n",
       "      <th>married</th>\n",
       "      <th>single</th>\n",
       "      <th>secondary</th>\n",
       "      <th>tertiary</th>\n",
       "      <th>unknown</th>\n",
       "      <th>telephone</th>\n",
       "      <th>unknown</th>\n",
       "      <th>other</th>\n",
       "      <th>success</th>\n",
       "      <th>unknown</th>\n",
       "    </tr>\n",
       "  </thead>\n",
       "  <tbody>\n",
       "    <tr>\n",
       "      <th>0</th>\n",
       "      <td>58</td>\n",
       "      <td>0</td>\n",
       "      <td>0</td>\n",
       "      <td>2143</td>\n",
       "      <td>1</td>\n",
       "      <td>0</td>\n",
       "      <td>5</td>\n",
       "      <td>5</td>\n",
       "      <td>261</td>\n",
       "      <td>1</td>\n",
       "      <td>...</td>\n",
       "      <td>1</td>\n",
       "      <td>0</td>\n",
       "      <td>0</td>\n",
       "      <td>1</td>\n",
       "      <td>0</td>\n",
       "      <td>0</td>\n",
       "      <td>1</td>\n",
       "      <td>0</td>\n",
       "      <td>0</td>\n",
       "      <td>1</td>\n",
       "    </tr>\n",
       "    <tr>\n",
       "      <th>1</th>\n",
       "      <td>44</td>\n",
       "      <td>1</td>\n",
       "      <td>0</td>\n",
       "      <td>29</td>\n",
       "      <td>1</td>\n",
       "      <td>0</td>\n",
       "      <td>5</td>\n",
       "      <td>5</td>\n",
       "      <td>151</td>\n",
       "      <td>1</td>\n",
       "      <td>...</td>\n",
       "      <td>0</td>\n",
       "      <td>1</td>\n",
       "      <td>1</td>\n",
       "      <td>0</td>\n",
       "      <td>0</td>\n",
       "      <td>0</td>\n",
       "      <td>1</td>\n",
       "      <td>0</td>\n",
       "      <td>0</td>\n",
       "      <td>1</td>\n",
       "    </tr>\n",
       "    <tr>\n",
       "      <th>2</th>\n",
       "      <td>33</td>\n",
       "      <td>2</td>\n",
       "      <td>0</td>\n",
       "      <td>2</td>\n",
       "      <td>1</td>\n",
       "      <td>1</td>\n",
       "      <td>5</td>\n",
       "      <td>5</td>\n",
       "      <td>76</td>\n",
       "      <td>1</td>\n",
       "      <td>...</td>\n",
       "      <td>1</td>\n",
       "      <td>0</td>\n",
       "      <td>1</td>\n",
       "      <td>0</td>\n",
       "      <td>0</td>\n",
       "      <td>0</td>\n",
       "      <td>1</td>\n",
       "      <td>0</td>\n",
       "      <td>0</td>\n",
       "      <td>1</td>\n",
       "    </tr>\n",
       "    <tr>\n",
       "      <th>3</th>\n",
       "      <td>47</td>\n",
       "      <td>3</td>\n",
       "      <td>0</td>\n",
       "      <td>1506</td>\n",
       "      <td>1</td>\n",
       "      <td>0</td>\n",
       "      <td>5</td>\n",
       "      <td>5</td>\n",
       "      <td>92</td>\n",
       "      <td>1</td>\n",
       "      <td>...</td>\n",
       "      <td>1</td>\n",
       "      <td>0</td>\n",
       "      <td>0</td>\n",
       "      <td>0</td>\n",
       "      <td>1</td>\n",
       "      <td>0</td>\n",
       "      <td>1</td>\n",
       "      <td>0</td>\n",
       "      <td>0</td>\n",
       "      <td>1</td>\n",
       "    </tr>\n",
       "    <tr>\n",
       "      <th>4</th>\n",
       "      <td>33</td>\n",
       "      <td>4</td>\n",
       "      <td>0</td>\n",
       "      <td>1</td>\n",
       "      <td>0</td>\n",
       "      <td>0</td>\n",
       "      <td>5</td>\n",
       "      <td>5</td>\n",
       "      <td>198</td>\n",
       "      <td>1</td>\n",
       "      <td>...</td>\n",
       "      <td>0</td>\n",
       "      <td>1</td>\n",
       "      <td>0</td>\n",
       "      <td>0</td>\n",
       "      <td>1</td>\n",
       "      <td>0</td>\n",
       "      <td>1</td>\n",
       "      <td>0</td>\n",
       "      <td>0</td>\n",
       "      <td>1</td>\n",
       "    </tr>\n",
       "    <tr>\n",
       "      <th>...</th>\n",
       "      <td>...</td>\n",
       "      <td>...</td>\n",
       "      <td>...</td>\n",
       "      <td>...</td>\n",
       "      <td>...</td>\n",
       "      <td>...</td>\n",
       "      <td>...</td>\n",
       "      <td>...</td>\n",
       "      <td>...</td>\n",
       "      <td>...</td>\n",
       "      <td>...</td>\n",
       "      <td>...</td>\n",
       "      <td>...</td>\n",
       "      <td>...</td>\n",
       "      <td>...</td>\n",
       "      <td>...</td>\n",
       "      <td>...</td>\n",
       "      <td>...</td>\n",
       "      <td>...</td>\n",
       "      <td>...</td>\n",
       "      <td>...</td>\n",
       "    </tr>\n",
       "    <tr>\n",
       "      <th>45206</th>\n",
       "      <td>51</td>\n",
       "      <td>1</td>\n",
       "      <td>0</td>\n",
       "      <td>825</td>\n",
       "      <td>0</td>\n",
       "      <td>0</td>\n",
       "      <td>17</td>\n",
       "      <td>11</td>\n",
       "      <td>977</td>\n",
       "      <td>3</td>\n",
       "      <td>...</td>\n",
       "      <td>1</td>\n",
       "      <td>0</td>\n",
       "      <td>0</td>\n",
       "      <td>1</td>\n",
       "      <td>0</td>\n",
       "      <td>0</td>\n",
       "      <td>0</td>\n",
       "      <td>0</td>\n",
       "      <td>0</td>\n",
       "      <td>1</td>\n",
       "    </tr>\n",
       "    <tr>\n",
       "      <th>45207</th>\n",
       "      <td>71</td>\n",
       "      <td>5</td>\n",
       "      <td>0</td>\n",
       "      <td>1729</td>\n",
       "      <td>0</td>\n",
       "      <td>0</td>\n",
       "      <td>17</td>\n",
       "      <td>11</td>\n",
       "      <td>456</td>\n",
       "      <td>2</td>\n",
       "      <td>...</td>\n",
       "      <td>0</td>\n",
       "      <td>0</td>\n",
       "      <td>0</td>\n",
       "      <td>0</td>\n",
       "      <td>0</td>\n",
       "      <td>0</td>\n",
       "      <td>0</td>\n",
       "      <td>0</td>\n",
       "      <td>0</td>\n",
       "      <td>1</td>\n",
       "    </tr>\n",
       "    <tr>\n",
       "      <th>45208</th>\n",
       "      <td>72</td>\n",
       "      <td>5</td>\n",
       "      <td>0</td>\n",
       "      <td>5715</td>\n",
       "      <td>0</td>\n",
       "      <td>0</td>\n",
       "      <td>17</td>\n",
       "      <td>11</td>\n",
       "      <td>1127</td>\n",
       "      <td>5</td>\n",
       "      <td>...</td>\n",
       "      <td>1</td>\n",
       "      <td>0</td>\n",
       "      <td>1</td>\n",
       "      <td>0</td>\n",
       "      <td>0</td>\n",
       "      <td>0</td>\n",
       "      <td>0</td>\n",
       "      <td>0</td>\n",
       "      <td>1</td>\n",
       "      <td>0</td>\n",
       "    </tr>\n",
       "    <tr>\n",
       "      <th>45209</th>\n",
       "      <td>57</td>\n",
       "      <td>3</td>\n",
       "      <td>0</td>\n",
       "      <td>668</td>\n",
       "      <td>0</td>\n",
       "      <td>0</td>\n",
       "      <td>17</td>\n",
       "      <td>11</td>\n",
       "      <td>508</td>\n",
       "      <td>4</td>\n",
       "      <td>...</td>\n",
       "      <td>1</td>\n",
       "      <td>0</td>\n",
       "      <td>1</td>\n",
       "      <td>0</td>\n",
       "      <td>0</td>\n",
       "      <td>1</td>\n",
       "      <td>0</td>\n",
       "      <td>0</td>\n",
       "      <td>0</td>\n",
       "      <td>1</td>\n",
       "    </tr>\n",
       "    <tr>\n",
       "      <th>45210</th>\n",
       "      <td>37</td>\n",
       "      <td>2</td>\n",
       "      <td>0</td>\n",
       "      <td>2971</td>\n",
       "      <td>0</td>\n",
       "      <td>0</td>\n",
       "      <td>17</td>\n",
       "      <td>11</td>\n",
       "      <td>361</td>\n",
       "      <td>2</td>\n",
       "      <td>...</td>\n",
       "      <td>1</td>\n",
       "      <td>0</td>\n",
       "      <td>1</td>\n",
       "      <td>0</td>\n",
       "      <td>0</td>\n",
       "      <td>0</td>\n",
       "      <td>0</td>\n",
       "      <td>1</td>\n",
       "      <td>0</td>\n",
       "      <td>0</td>\n",
       "    </tr>\n",
       "  </tbody>\n",
       "</table>\n",
       "<p>45211 rows × 23 columns</p>\n",
       "</div>"
      ],
      "text/plain": [
       "       age  job  default  balance  housing  loan  day  month  duration  \\\n",
       "0       58    0        0     2143        1     0    5      5       261   \n",
       "1       44    1        0       29        1     0    5      5       151   \n",
       "2       33    2        0        2        1     1    5      5        76   \n",
       "3       47    3        0     1506        1     0    5      5        92   \n",
       "4       33    4        0        1        0     0    5      5       198   \n",
       "...    ...  ...      ...      ...      ...   ...  ...    ...       ...   \n",
       "45206   51    1        0      825        0     0   17     11       977   \n",
       "45207   71    5        0     1729        0     0   17     11       456   \n",
       "45208   72    5        0     5715        0     0   17     11      1127   \n",
       "45209   57    3        0      668        0     0   17     11       508   \n",
       "45210   37    2        0     2971        0     0   17     11       361   \n",
       "\n",
       "       campaign  ...  married  single  secondary  tertiary  unknown  \\\n",
       "0             1  ...        1       0          0         1        0   \n",
       "1             1  ...        0       1          1         0        0   \n",
       "2             1  ...        1       0          1         0        0   \n",
       "3             1  ...        1       0          0         0        1   \n",
       "4             1  ...        0       1          0         0        1   \n",
       "...         ...  ...      ...     ...        ...       ...      ...   \n",
       "45206         3  ...        1       0          0         1        0   \n",
       "45207         2  ...        0       0          0         0        0   \n",
       "45208         5  ...        1       0          1         0        0   \n",
       "45209         4  ...        1       0          1         0        0   \n",
       "45210         2  ...        1       0          1         0        0   \n",
       "\n",
       "       telephone  unknown  other  success  unknown  \n",
       "0              0        1      0        0        1  \n",
       "1              0        1      0        0        1  \n",
       "2              0        1      0        0        1  \n",
       "3              0        1      0        0        1  \n",
       "4              0        1      0        0        1  \n",
       "...          ...      ...    ...      ...      ...  \n",
       "45206          0        0      0        0        1  \n",
       "45207          0        0      0        0        1  \n",
       "45208          0        0      0        1        0  \n",
       "45209          1        0      0        0        1  \n",
       "45210          0        0      1        0        0  \n",
       "\n",
       "[45211 rows x 23 columns]"
      ]
     },
     "execution_count": 195,
     "metadata": {},
     "output_type": "execute_result"
    }
   ],
   "source": [
    "df"
   ]
  },
  {
   "cell_type": "code",
   "execution_count": 204,
   "id": "aff33f94-3008-4aed-a0f9-ea3a2bf3ddf5",
   "metadata": {},
   "outputs": [
    {
     "data": {
      "text/plain": [
       "<AxesSubplot:>"
      ]
     },
     "execution_count": 204,
     "metadata": {},
     "output_type": "execute_result"
    },
    {
     "data": {
      "image/png": "[encoded data removed]",
      "text/plain": [
       "<Figure size 1152x432 with 2 Axes>"
      ]
     },
     "metadata": {
      "needs_background": "light"
     },
     "output_type": "display_data"
    }
   ],
   "source": [
    "plt.figure(figsize=(16,6))\n",
    "sns.heatmap(df.corr(), annot= True, cmap=\"twilight\", linecolor = \"white\", linewidths=2 )"
   ]
  },
  {
   "cell_type": "code",
   "execution_count": 207,
   "id": "44ee747b-e4cc-4612-87cb-e3d0f1f494b6",
   "metadata": {},
   "outputs": [
    {
     "data": {
      "text/plain": [
       "<seaborn.axisgrid.FacetGrid at 0x7fbb8a8f47c0>"
      ]
     },
     "execution_count": 207,
     "metadata": {},
     "output_type": "execute_result"
    },
    {
     "data": {
      "image/png": "[encoded data removed]",
      "text/plain": [
       "<Figure size 402.375x360 with 1 Axes>"
      ]
     },
     "metadata": {
      "needs_background": "light"
     },
     "output_type": "display_data"
    }
   ],
   "source": [
    "sns.lmplot(x = \"duration\", y = \"balance\", data = df, hue=\"y\")"
   ]
  },
  {
   "cell_type": "markdown",
   "id": "e1d0f45a-4966-49de-815a-425e113f4cca",
   "metadata": {},
   "source": [
    "## unbalanced"
   ]
  },
  {
   "cell_type": "code",
   "execution_count": 209,
   "id": "e85f2e1f-8f25-4b91-8a4e-a50873d8cd01",
   "metadata": {},
   "outputs": [
    {
     "data": {
      "text/html": [
       "<div>\n",
       "<style scoped>\n",
       "    .dataframe tbody tr th:only-of-type {\n",
       "        vertical-align: middle;\n",
       "    }\n",
       "\n",
       "    .dataframe tbody tr th {\n",
       "        vertical-align: top;\n",
       "    }\n",
       "\n",
       "    .dataframe thead th {\n",
       "        text-align: right;\n",
       "    }\n",
       "</style>\n",
       "<table border=\"1\" class=\"dataframe\">\n",
       "  <thead>\n",
       "    <tr style=\"text-align: right;\">\n",
       "      <th></th>\n",
       "      <th>age</th>\n",
       "      <th>job</th>\n",
       "      <th>default</th>\n",
       "      <th>balance</th>\n",
       "      <th>housing</th>\n",
       "      <th>loan</th>\n",
       "      <th>day</th>\n",
       "      <th>month</th>\n",
       "      <th>duration</th>\n",
       "      <th>campaign</th>\n",
       "      <th>...</th>\n",
       "      <th>married</th>\n",
       "      <th>single</th>\n",
       "      <th>secondary</th>\n",
       "      <th>tertiary</th>\n",
       "      <th>unknown</th>\n",
       "      <th>telephone</th>\n",
       "      <th>unknown</th>\n",
       "      <th>other</th>\n",
       "      <th>success</th>\n",
       "      <th>unknown</th>\n",
       "    </tr>\n",
       "  </thead>\n",
       "  <tbody>\n",
       "    <tr>\n",
       "      <th>0</th>\n",
       "      <td>58</td>\n",
       "      <td>0</td>\n",
       "      <td>0</td>\n",
       "      <td>2143</td>\n",
       "      <td>1</td>\n",
       "      <td>0</td>\n",
       "      <td>5</td>\n",
       "      <td>5</td>\n",
       "      <td>261</td>\n",
       "      <td>1</td>\n",
       "      <td>...</td>\n",
       "      <td>1</td>\n",
       "      <td>0</td>\n",
       "      <td>0</td>\n",
       "      <td>1</td>\n",
       "      <td>0</td>\n",
       "      <td>0</td>\n",
       "      <td>1</td>\n",
       "      <td>0</td>\n",
       "      <td>0</td>\n",
       "      <td>1</td>\n",
       "    </tr>\n",
       "    <tr>\n",
       "      <th>1</th>\n",
       "      <td>44</td>\n",
       "      <td>1</td>\n",
       "      <td>0</td>\n",
       "      <td>29</td>\n",
       "      <td>1</td>\n",
       "      <td>0</td>\n",
       "      <td>5</td>\n",
       "      <td>5</td>\n",
       "      <td>151</td>\n",
       "      <td>1</td>\n",
       "      <td>...</td>\n",
       "      <td>0</td>\n",
       "      <td>1</td>\n",
       "      <td>1</td>\n",
       "      <td>0</td>\n",
       "      <td>0</td>\n",
       "      <td>0</td>\n",
       "      <td>1</td>\n",
       "      <td>0</td>\n",
       "      <td>0</td>\n",
       "      <td>1</td>\n",
       "    </tr>\n",
       "    <tr>\n",
       "      <th>2</th>\n",
       "      <td>33</td>\n",
       "      <td>2</td>\n",
       "      <td>0</td>\n",
       "      <td>2</td>\n",
       "      <td>1</td>\n",
       "      <td>1</td>\n",
       "      <td>5</td>\n",
       "      <td>5</td>\n",
       "      <td>76</td>\n",
       "      <td>1</td>\n",
       "      <td>...</td>\n",
       "      <td>1</td>\n",
       "      <td>0</td>\n",
       "      <td>1</td>\n",
       "      <td>0</td>\n",
       "      <td>0</td>\n",
       "      <td>0</td>\n",
       "      <td>1</td>\n",
       "      <td>0</td>\n",
       "      <td>0</td>\n",
       "      <td>1</td>\n",
       "    </tr>\n",
       "  </tbody>\n",
       "</table>\n",
       "<p>3 rows × 23 columns</p>\n",
       "</div>"
      ],
      "text/plain": [
       "   age  job  default  balance  housing  loan  day  month  duration  campaign  \\\n",
       "0   58    0        0     2143        1     0    5      5       261         1   \n",
       "1   44    1        0       29        1     0    5      5       151         1   \n",
       "2   33    2        0        2        1     1    5      5        76         1   \n",
       "\n",
       "   ...  married  single  secondary  tertiary  unknown  telephone  unknown  \\\n",
       "0  ...        1       0          0         1        0          0        1   \n",
       "1  ...        0       1          1         0        0          0        1   \n",
       "2  ...        1       0          1         0        0          0        1   \n",
       "\n",
       "   other  success  unknown  \n",
       "0      0        0        1  \n",
       "1      0        0        1  \n",
       "2      0        0        1  \n",
       "\n",
       "[3 rows x 23 columns]"
      ]
     },
     "execution_count": 209,
     "metadata": {},
     "output_type": "execute_result"
    }
   ],
   "source": [
    "df.head(3)"
   ]
  },
  {
   "cell_type": "code",
   "execution_count": 211,
   "id": "dd46f49b-fe34-4613-9090-7d510fd3dc27",
   "metadata": {},
   "outputs": [
    {
     "data": {
      "text/plain": [
       "<AxesSubplot:xlabel='y', ylabel='count'>"
      ]
     },
     "execution_count": 211,
     "metadata": {},
     "output_type": "execute_result"
    },
    {
     "data": {
      "image/png": "[encoded data removed]",
      "text/plain": [
       "<Figure size 432x288 with 1 Axes>"
      ]
     },
     "metadata": {
      "needs_background": "light"
     },
     "output_type": "display_data"
    }
   ],
   "source": [
    "sns.countplot(x = df[\"y\"], hue=\"loan\", data = df)"
   ]
  },
  {
   "cell_type": "code",
   "execution_count": 217,
   "id": "42277c49-a5be-4437-8ae4-192916edffdd",
   "metadata": {},
   "outputs": [
    {
     "data": {
      "text/plain": [
       "<AxesSubplot:xlabel='job', ylabel='age'>"
      ]
     },
     "execution_count": 217,
     "metadata": {},
     "output_type": "execute_result"
    },
    {
     "data": {
      "image/png": "[encoded data removed]",
      "text/plain": [
       "<Figure size 1152x432 with 1 Axes>"
      ]
     },
     "metadata": {
      "needs_background": "light"
     },
     "output_type": "display_data"
    }
   ],
   "source": [
    "plt.figure(figsize=(16,6))\n",
    "sns.boxplot(x = \"job\", y = \"age\", data = df, palette=\"magma\", hue=\"y\")"
   ]
  },
  {
   "cell_type": "code",
   "execution_count": 215,
   "id": "1c1e633b-095c-4720-ac60-648a43ae9bae",
   "metadata": {},
   "outputs": [
    {
     "data": {
      "text/plain": [
       "{'management': 0,\n",
       " 'technician': 1,\n",
       " 'entrepreneur': 2,\n",
       " 'blue-collar': 3,\n",
       " 'unknown': 4,\n",
       " 'retired': 5,\n",
       " 'admin.': 6,\n",
       " 'services': 7,\n",
       " 'self-employed': 8,\n",
       " 'unemployed': 9,\n",
       " 'housemaid': 10,\n",
       " 'student': 11}"
      ]
     },
     "execution_count": 215,
     "metadata": {},
     "output_type": "execute_result"
    }
   ],
   "source": [
    "jobListZipped"
   ]
  },
  {
   "cell_type": "markdown",
   "id": "4b6f27fc-1b7d-49d3-b0de-c259e5506070",
   "metadata": {},
   "source": [
    "## Preparing model"
   ]
  },
  {
   "cell_type": "code",
   "execution_count": 220,
   "id": "5668b77e-a2a2-493c-856f-c47822b2aba2",
   "metadata": {},
   "outputs": [],
   "source": [
    "from sklearn.model_selection import train_test_split"
   ]
  },
  {
   "cell_type": "code",
   "execution_count": 221,
   "id": "67e80947-bcbf-4490-872a-8b2406817536",
   "metadata": {},
   "outputs": [],
   "source": [
    "X = df.drop(\"y\", axis=1)\n",
    "y = df[\"y\"]"
   ]
  },
  {
   "cell_type": "code",
   "execution_count": 223,
   "id": "ecd017df-a516-42b6-aeb5-7661a649daae",
   "metadata": {},
   "outputs": [],
   "source": [
    "X_train, X_test, y_train, y_test = train_test_split(X, y, test_size=0.30, random_state=42)"
   ]
  },
  {
   "cell_type": "markdown",
   "id": "37a529da-eb5e-498e-9257-33530d795198",
   "metadata": {},
   "source": [
    "## model creation"
   ]
  },
  {
   "cell_type": "code",
   "execution_count": 224,
   "id": "5ae0af31-ef48-45ec-a476-dd021d545290",
   "metadata": {},
   "outputs": [],
   "source": [
    "from sklearn.linear_model import LogisticRegression"
   ]
  },
  {
   "cell_type": "code",
   "execution_count": 227,
   "id": "b0c49f61-7e7d-4ce2-a029-1cfc58a0386a",
   "metadata": {},
   "outputs": [],
   "source": [
    "model = LogisticRegression(n_jobs=200)"
   ]
  },
  {
   "cell_type": "code",
   "execution_count": 228,
   "id": "90473f46-8811-4aab-ac42-37f02d38fe6a",
   "metadata": {},
   "outputs": [
    {
     "data": {
      "text/plain": [
       "LogisticRegression(n_jobs=200)"
      ]
     },
     "execution_count": 228,
     "metadata": {},
     "output_type": "execute_result"
    }
   ],
   "source": [
    "model.fit(X_train, y_train)"
   ]
  },
  {
   "cell_type": "markdown",
   "id": "ef0f4b9c-4df5-4916-ba3c-596c8d4e32f4",
   "metadata": {},
   "source": [
    "## Predictions"
   ]
  },
  {
   "cell_type": "code",
   "execution_count": 229,
   "id": "cbd1cee2-80d3-432b-959c-001ee9a635d5",
   "metadata": {},
   "outputs": [
    {
     "data": {
      "text/plain": [
       "array([-0.12428888])"
      ]
     },
     "execution_count": 229,
     "metadata": {},
     "output_type": "execute_result"
    }
   ],
   "source": [
    "model.intercept_"
   ]
  },
  {
   "cell_type": "code",
   "execution_count": 230,
   "id": "c3229f53-73a6-4df4-9f1a-0a52b03815fb",
   "metadata": {},
   "outputs": [
    {
     "data": {
      "text/plain": [
       "array([[-2.61869133e-02,  3.37432642e-02, -8.20970509e-03,\n",
       "         3.25333119e-05, -3.23013043e-01, -8.55961673e-02,\n",
       "        -1.42067643e-02, -1.03704771e-01,  3.37862790e-03,\n",
       "        -3.80530979e-01, -3.80506318e-04,  1.53648573e-01,\n",
       "        -8.54712342e-02, -4.89521401e-02, -1.17242345e-01,\n",
       "         1.96254809e-02,  5.18967072e-03,  2.67988972e-02,\n",
       "        -2.10823045e-01, -9.25168061e-03,  1.43999588e-01,\n",
       "        -2.04332879e-01]])"
      ]
     },
     "execution_count": 230,
     "metadata": {},
     "output_type": "execute_result"
    }
   ],
   "source": [
    "model.coef_"
   ]
  },
  {
   "cell_type": "code",
   "execution_count": 231,
   "id": "b356e1d1-fb20-49a8-b8ce-143e01143c51",
   "metadata": {},
   "outputs": [],
   "source": [
    "pred = model.predict(X_test)"
   ]
  },
  {
   "cell_type": "code",
   "execution_count": 233,
   "id": "c0b1241d-709c-44e1-93cf-380fe083d5e4",
   "metadata": {},
   "outputs": [],
   "source": [
    "from sklearn.metrics import confusion_matrix, classification_report, explained_variance_score"
   ]
  },
  {
   "cell_type": "code",
   "execution_count": 234,
   "id": "6b8edaee-d67e-47b8-b6eb-fce86cac9adc",
   "metadata": {},
   "outputs": [
    {
     "name": "stdout",
     "output_type": "stream",
     "text": [
      "-157383.12521228383\n"
     ]
    }
   ],
   "source": [
    "print(explained_variance_score(pred, y_test))"
   ]
  },
  {
   "cell_type": "code",
   "execution_count": 235,
   "id": "9f6bcf5c-48d7-406d-983d-eda8d7cb1e9e",
   "metadata": {},
   "outputs": [
    {
     "name": "stdout",
     "output_type": "stream",
     "text": [
      "[[11742   224]\n",
      " [ 1313   285]]\n"
     ]
    }
   ],
   "source": [
    "print(confusion_matrix(y_test, pred))"
   ]
  },
  {
   "cell_type": "code",
   "execution_count": 236,
   "id": "672c312a-90b3-408f-b6b6-d98392e6bfe1",
   "metadata": {},
   "outputs": [
    {
     "name": "stdout",
     "output_type": "stream",
     "text": [
      "              precision    recall  f1-score   support\n",
      "\n",
      "           0       0.90      0.98      0.94     11966\n",
      "           1       0.56      0.18      0.27      1598\n",
      "\n",
      "    accuracy                           0.89     13564\n",
      "   macro avg       0.73      0.58      0.60     13564\n",
      "weighted avg       0.86      0.89      0.86     13564\n",
      "\n"
     ]
    }
   ],
   "source": [
    "print(classification_report(y_test, pred))"
   ]
  },
  {
   "cell_type": "code",
   "execution_count": null,
   "id": "5b90ceb6-5d8c-4a4b-a961-b658aeb77984",
   "metadata": {},
   "outputs": [],
   "source": []
  }
 ],
 "metadata": {
  "kernelspec": {
   "display_name": "Python 3",
   "language": "python",
   "name": "python3"
  },
  "language_info": {
   "codemirror_mode": {
    "name": "ipython",
    "version": 3
   },
   "file_extension": ".py",
   "mimetype": "text/x-python",
   "name": "python",
   "nbconvert_exporter": "python",
   "pygments_lexer": "ipython3",
   "version": "3.8.8"
  }
 },
 "nbformat": 4,
 "nbformat_minor": 5
}
