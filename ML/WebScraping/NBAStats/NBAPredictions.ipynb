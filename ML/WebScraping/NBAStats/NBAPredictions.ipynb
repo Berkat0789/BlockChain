{
 "cells": [
  {
   "cell_type": "code",
   "execution_count": 1,
   "id": "862f0a54-7138-4be2-9872-ee8e5be6f850",
   "metadata": {},
   "outputs": [],
   "source": [
    "import pandas as pd\n",
    "import numpy as np \n",
    "import matplotlib as plt\n",
    "import seaborn as sns\n",
    "import requests\n",
    "from bs4 import BeautifulSoup"
   ]
  },
  {
   "cell_type": "code",
   "execution_count": 84,
   "id": "ac154ffb-6f07-43eb-bee5-a9b420d3d01f",
   "metadata": {},
   "outputs": [],
   "source": [
    "statUrl = \"https://basketball.realgm.com/nba/teams\""
   ]
  },
  {
   "cell_type": "code",
   "execution_count": 85,
   "id": "a930cedd-5983-4aed-9514-b883ff1ebc48",
   "metadata": {},
   "outputs": [],
   "source": [
    "stats_request = requests.get(statUrl)"
   ]
  },
  {
   "cell_type": "code",
   "execution_count": 86,
   "id": "4ac89fc5-7abf-4559-95f9-43d29b8f99be",
   "metadata": {},
   "outputs": [],
   "source": [
    "soup = BeautifulSoup(stats_request.text)"
   ]
  },
  {
   "cell_type": "code",
   "execution_count": null,
   "id": "595cef4a-48cf-439a-82df-5587095967f6",
   "metadata": {},
   "outputs": [],
   "source": []
  },
  {
   "cell_type": "code",
   "execution_count": 89,
   "id": "7471daac-40d4-4e1c-bec4-c74281625cf4",
   "metadata": {},
   "outputs": [],
   "source": [
    "playersTable = soup.select(\"table.basketball\")[0]"
   ]
  },
  {
   "cell_type": "code",
   "execution_count": null,
   "id": "2b75fb42-a38b-45eb-bf1b-a7415785dd18",
   "metadata": {},
   "outputs": [],
   "source": []
  },
  {
   "cell_type": "code",
   "execution_count": 91,
   "id": "73ff4501-bc66-436c-b67a-f20e8b091311",
   "metadata": {},
   "outputs": [],
   "source": [
    "links = playersTable.find_all(\"a\")"
   ]
  },
  {
   "cell_type": "code",
   "execution_count": null,
   "id": "e94c7b4f-a031-48a1-90dc-22ed81f1ebc7",
   "metadata": {},
   "outputs": [],
   "source": []
  },
  {
   "cell_type": "code",
   "execution_count": 93,
   "id": "9875396e-b2c2-4d4d-88ca-ba7d9be7442d",
   "metadata": {},
   "outputs": [],
   "source": [
    "links = [x.get(\"href\") for x in links]"
   ]
  },
  {
   "cell_type": "code",
   "execution_count": 94,
   "id": "e8137419-3127-41df-a12b-ef86def9bfe3",
   "metadata": {},
   "outputs": [
    {
     "data": {
      "text/plain": [
       "['/nba/teams/Boston-Celtics/2/Home',\n",
       " '/nba/teams/Boston-Celtics/2/Rosters/Regular/2022',\n",
       " '/nba/teams/Boston-Celtics/2/Schedule/2022',\n",
       " '/nba/teams/Boston-Celtics/2/Stats/2022/Averages',\n",
       " '/nba/teams/Brooklyn-Nets/38/Home',\n",
       " '/nba/teams/Brooklyn-Nets/38/Rosters/Regular/2022',\n",
       " '/nba/teams/Brooklyn-Nets/38/Schedule/2022',\n",
       " '/nba/teams/Brooklyn-Nets/38/Stats/2022/Averages',\n",
       " '/nba/teams/New-York-Knicks/20/Home',\n",
       " '/nba/teams/New-York-Knicks/20/Rosters/Regular/2022',\n",
       " '/nba/teams/New-York-Knicks/20/Schedule/2022',\n",
       " '/nba/teams/New-York-Knicks/20/Stats/2022/Averages',\n",
       " '/nba/teams/Philadelphia-Sixers/22/Home',\n",
       " '/nba/teams/Philadelphia-Sixers/22/Rosters/Regular/2022',\n",
       " '/nba/teams/Philadelphia-Sixers/22/Schedule/2022',\n",
       " '/nba/teams/Philadelphia-Sixers/22/Stats/2022/Averages',\n",
       " '/nba/teams/Toronto-Raptors/28/Home',\n",
       " '/nba/teams/Toronto-Raptors/28/Rosters/Regular/2022',\n",
       " '/nba/teams/Toronto-Raptors/28/Schedule/2022',\n",
       " '/nba/teams/Toronto-Raptors/28/Stats/2022/Averages']"
      ]
     },
     "execution_count": 94,
     "metadata": {},
     "output_type": "execute_result"
    }
   ],
   "source": [
    "links"
   ]
  },
  {
   "cell_type": "code",
   "execution_count": 95,
   "id": "aa91e1ae-2e49-495e-904e-8f4af7167205",
   "metadata": {},
   "outputs": [],
   "source": [
    "statslinks = [x for x in links if \"/Stats/\" in x]"
   ]
  },
  {
   "cell_type": "code",
   "execution_count": 96,
   "id": "fb82c231-1b45-4df7-94c7-cde3768b19d1",
   "metadata": {},
   "outputs": [
    {
     "data": {
      "text/plain": [
       "['/nba/teams/Boston-Celtics/2/Stats/2022/Averages',\n",
       " '/nba/teams/Brooklyn-Nets/38/Stats/2022/Averages',\n",
       " '/nba/teams/New-York-Knicks/20/Stats/2022/Averages',\n",
       " '/nba/teams/Philadelphia-Sixers/22/Stats/2022/Averages',\n",
       " '/nba/teams/Toronto-Raptors/28/Stats/2022/Averages']"
      ]
     },
     "execution_count": 96,
     "metadata": {},
     "output_type": "execute_result"
    }
   ],
   "source": [
    "statslinks"
   ]
  },
  {
   "cell_type": "code",
   "execution_count": 109,
   "id": "961b9d5a-79b0-4066-b680-fd652955d1c9",
   "metadata": {},
   "outputs": [],
   "source": [
    "allTeam_links = [f\"https://basketball.realgm.com{l}\" for l in statslinks]"
   ]
  },
  {
   "cell_type": "code",
   "execution_count": 110,
   "id": "31c0446c-802c-4478-8838-67c353f1f3bf",
   "metadata": {},
   "outputs": [
    {
     "data": {
      "text/plain": [
       "5"
      ]
     },
     "execution_count": 110,
     "metadata": {},
     "output_type": "execute_result"
    }
   ],
   "source": [
    "len(allTeam_links)"
   ]
  },
  {
   "cell_type": "code",
   "execution_count": 111,
   "id": "697151c9-6dd2-4929-82d2-c1a175d6ae1a",
   "metadata": {},
   "outputs": [],
   "source": [
    "first = allTeam_links[0]"
   ]
  },
  {
   "cell_type": "code",
   "execution_count": 112,
   "id": "3597a151-f4bc-4b7b-a7de-9e4c946bb022",
   "metadata": {},
   "outputs": [
    {
     "data": {
      "text/plain": [
       "'https://basketball.realgm.com/nba/teams/Boston-Celtics/2/Stats/2022/Averages'"
      ]
     },
     "execution_count": 112,
     "metadata": {},
     "output_type": "execute_result"
    }
   ],
   "source": [
    "first"
   ]
  },
  {
   "cell_type": "code",
   "execution_count": 115,
   "id": "a25cc722-54b8-4a64-a162-62594f06dc44",
   "metadata": {},
   "outputs": [],
   "source": [
    "boston = requests.get(first)"
   ]
  },
  {
   "cell_type": "code",
   "execution_count": 126,
   "id": "0187721e-e5ab-4afb-9c31-bf97daad5211",
   "metadata": {},
   "outputs": [],
   "source": [
    "playerStats = pd.read_html(boston.text)[4]"
   ]
  },
  {
   "cell_type": "code",
   "execution_count": 129,
   "id": "8390ed42-d661-4808-9d22-243c349532d3",
   "metadata": {},
   "outputs": [
    {
     "name": "stdout",
     "output_type": "stream",
     "text": [
      "<class 'pandas.core.frame.DataFrame'>\n",
      "RangeIndex: 28 entries, 0 to 27\n",
      "Data columns (total 23 columns):\n",
      " #   Column  Non-Null Count  Dtype  \n",
      "---  ------  --------------  -----  \n",
      " 0   #       28 non-null     int64  \n",
      " 1   Player  28 non-null     object \n",
      " 2   Team    28 non-null     object \n",
      " 3   GP      28 non-null     int64  \n",
      " 4   MPG     28 non-null     float64\n",
      " 5   PPG     28 non-null     float64\n",
      " 6   FGM     28 non-null     float64\n",
      " 7   FGA     28 non-null     float64\n",
      " 8   FG%     28 non-null     float64\n",
      " 9   3PM     28 non-null     float64\n",
      " 10  3PA     28 non-null     float64\n",
      " 11  3P%     28 non-null     float64\n",
      " 12  FTM     28 non-null     float64\n",
      " 13  FTA     28 non-null     float64\n",
      " 14  FT%     28 non-null     float64\n",
      " 15  ORB     28 non-null     float64\n",
      " 16  DRB     28 non-null     float64\n",
      " 17  RPG     28 non-null     float64\n",
      " 18  APG     28 non-null     float64\n",
      " 19  SPG     28 non-null     float64\n",
      " 20  BPG     28 non-null     float64\n",
      " 21  TOV     28 non-null     float64\n",
      " 22  PF      28 non-null     float64\n",
      "dtypes: float64(19), int64(2), object(2)\n",
      "memory usage: 5.2+ KB\n"
     ]
    }
   ],
   "source": [
    "playerStats.info()"
   ]
  },
  {
   "cell_type": "code",
   "execution_count": null,
   "id": "83ab4ce3-a323-430e-be56-d1b8cb201102",
   "metadata": {},
   "outputs": [],
   "source": []
  }
 ],
 "metadata": {
  "kernelspec": {
   "display_name": "Python 3",
   "language": "python",
   "name": "python3"
  },
  "language_info": {
   "codemirror_mode": {
    "name": "ipython",
    "version": 3
   },
   "file_extension": ".py",
   "mimetype": "text/x-python",
   "name": "python",
   "nbconvert_exporter": "python",
   "pygments_lexer": "ipython3",
   "version": "3.8.8"
  }
 },
 "nbformat": 4,
 "nbformat_minor": 5
}
