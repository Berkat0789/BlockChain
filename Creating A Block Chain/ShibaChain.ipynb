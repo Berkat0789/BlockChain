{
 "cells": [
  {
   "cell_type": "code",
   "execution_count": 9,
   "id": "94e8b3c0",
   "metadata": {},
   "outputs": [],
   "source": [
    "import json \n",
    "import os\n",
    "import datetime\n",
    "from flask import Flask, jsonify\n",
    "import hashlib"
   ]
  },
  {
   "cell_type": "code",
   "execution_count": 10,
   "id": "a00afa5b",
   "metadata": {},
   "outputs": [],
   "source": [
    "class ShibaChain:\n",
    "    def __init__(self):\n",
    "        self.chain = []\n",
    "        self.addCoin(proof = 1, prevHash = \"0\")\n",
    "        \n",
    "    def addCoin(self, proof, prevHash):\n",
    "        coin = {\n",
    "            \"index\": len(self.chain),\n",
    "            \"timestamp\": str(datetime.datetime.now()),\n",
    "            \"proof\": proof,\n",
    "            \"prevHash\": prevHash\n",
    "        }\n",
    "        self.chain.append(coin)\n",
    "        return coin\n",
    "    \n",
    "    def getLastCoin(self):\n",
    "        return self.chain[-1]\n",
    "    \n",
    "    def proofOfWork(self, prevProof):\n",
    "        newProof = 1\n",
    "        solved = False\n",
    "        while solved is False:\n",
    "            hashProblem = hashlib.sha256(str(newProof ** 2 - prevProof **2).encode()).hexdigest()\n",
    "            if hashProblem[:4] == \"0000\":\n",
    "                solved = True\n",
    "            else:\n",
    "                newProof += 1\n",
    "        return newProof\n",
    "    \n",
    "    def hashCoin(self, coin):\n",
    "        encodedCoin = json.dumps(coin , sort_keys=True).encode()\n",
    "        return hashlib.sha256(encodedCoin).hexdigest()\n",
    "    \n",
    "    def isChainValid(self, chain):\n",
    "        previousCoin = chain[0]\n",
    "        currentIndex = 1\n",
    "        \n",
    "        while currentIndex < len(chain):\n",
    "            currentCoin = chain[currentIndex]\n",
    "            currentCoinPevHash = currentCoin[\"prevHash\"]\n",
    "            if currentCoinPevHash != self.hashCoin(previousCoin):\n",
    "                return False\n",
    "            currentCoinProof = currentCoin[\"proof\"]\n",
    "            previousProof = previousCoin[\"proof\"]\n",
    "            hashEval = hashlib.sha256(str(currentCoinProof ** 2 - previousProof ** 2).encode()).hexdigest()\n",
    "            if hashEval[:4] != \"0000\":\n",
    "                return False\n",
    "        return True"
   ]
  },
  {
   "cell_type": "code",
   "execution_count": 11,
   "id": "4fb5f15e",
   "metadata": {},
   "outputs": [],
   "source": [
    "shiba = ShibaChain()"
   ]
  },
  {
   "cell_type": "code",
   "execution_count": 12,
   "id": "bcb2162c",
   "metadata": {},
   "outputs": [],
   "source": [
    "app = Flask(__name__)"
   ]
  },
  {
   "cell_type": "code",
   "execution_count": 13,
   "id": "e0d1b723",
   "metadata": {},
   "outputs": [],
   "source": [
    "@app.route(\"/mine\", methods = [\"GET\"])\n",
    "def mine():\n",
    "    previousCoin = shiba.getLastCoin()\n",
    "    previousProof = previousCoin[\"proof\"]\n",
    "    proof = shiba.proofOfWork(previousProof)\n",
    "    prevHash = shiba.hashCoin(previousCoin)\n",
    "    \n",
    "    newCoin = shiba.addCoin(proof, prevHash)\n",
    "    response = {\n",
    "        \"success\": \"you have mined a shiba coin\",\n",
    "        \"proof\": newCoin[\"proof\"],\n",
    "        \"prevHash\": newCoin[\"prevHash\"],\n",
    "        \"timestamp\": newCoin[\"timestamp\"],\n",
    "        \"previousCoin\": previousCoin,\n",
    "    }\n",
    "    return jsonify(response), 200"
   ]
  },
  {
   "cell_type": "code",
   "execution_count": 14,
   "id": "683df515",
   "metadata": {},
   "outputs": [],
   "source": [
    "@app.route(\"/chain\", methods = [\"GET\"])\n",
    "def chain():\n",
    "    response = {\n",
    "        \"chain\": shiba.chain,\n",
    "        \"length\": len(shiba.chain)\n",
    "    }\n",
    "    return jsonify(response)"
   ]
  },
  {
   "cell_type": "code",
   "execution_count": 15,
   "id": "8d63f23a",
   "metadata": {},
   "outputs": [],
   "source": [
    "@app.route(\"/valid\", methods = [\"GET\"])\n",
    "def valid():\n",
    "    if shiba.isChainValid(shiba.chain) is False:\n",
    "        response = {\"failed chain\": \"sorry this is not a proper chain :( \"}\n",
    "    else:\n",
    "        response = {\"chain is Valid\": \"You have created a proper chain :) \"}\n",
    "    return jsonify(response), 200"
   ]
  },
  {
   "cell_type": "code",
   "execution_count": null,
   "id": "56436989",
   "metadata": {},
   "outputs": [
    {
     "name": "stdout",
     "output_type": "stream",
     "text": [
      " * Serving Flask app \"__main__\" (lazy loading)\n",
      " * Environment: production\n",
      "\u001b[31m   WARNING: This is a development server. Do not use it in a production deployment.\u001b[0m\n",
      "\u001b[2m   Use a production WSGI server instead.\u001b[0m\n",
      " * Debug mode: off\n"
     ]
    },
    {
     "name": "stderr",
     "output_type": "stream",
     "text": [
      " * Running on http://0.0.0.0:5000/ (Press CTRL+C to quit)\n",
      "127.0.0.1 - - [27/Dec/2021 15:30:19] \"\u001b[37mGET /mine HTTP/1.1\u001b[0m\" 200 -\n",
      "127.0.0.1 - - [27/Dec/2021 15:30:20] \"\u001b[37mGET /mine HTTP/1.1\u001b[0m\" 200 -\n",
      "127.0.0.1 - - [27/Dec/2021 15:30:20] \"\u001b[37mGET /mine HTTP/1.1\u001b[0m\" 200 -\n",
      "127.0.0.1 - - [27/Dec/2021 15:30:22] \"\u001b[37mGET /mine HTTP/1.1\u001b[0m\" 200 -\n",
      "127.0.0.1 - - [27/Dec/2021 15:30:22] \"\u001b[37mGET /mine HTTP/1.1\u001b[0m\" 200 -\n",
      "127.0.0.1 - - [27/Dec/2021 15:30:23] \"\u001b[37mGET /mine HTTP/1.1\u001b[0m\" 200 -\n",
      "127.0.0.1 - - [27/Dec/2021 15:30:24] \"\u001b[37mGET /mine HTTP/1.1\u001b[0m\" 200 -\n",
      "127.0.0.1 - - [27/Dec/2021 15:30:25] \"\u001b[37mGET /mine HTTP/1.1\u001b[0m\" 200 -\n",
      "127.0.0.1 - - [27/Dec/2021 15:30:27] \"\u001b[37mGET /chain HTTP/1.1\u001b[0m\" 200 -\n",
      "127.0.0.1 - - [27/Dec/2021 15:30:28] \"\u001b[37mGET /chain HTTP/1.1\u001b[0m\" 200 -\n"
     ]
    }
   ],
   "source": [
    "app.run(host = \"0.0.0.0\", port= 5000)"
   ]
  },
  {
   "cell_type": "code",
   "execution_count": null,
   "id": "5607bb2b",
   "metadata": {},
   "outputs": [],
   "source": []
  },
  {
   "cell_type": "code",
   "execution_count": null,
   "id": "41128565",
   "metadata": {},
   "outputs": [],
   "source": []
  },
  {
   "cell_type": "code",
   "execution_count": null,
   "id": "9483456c",
   "metadata": {},
   "outputs": [],
   "source": []
  },
  {
   "cell_type": "code",
   "execution_count": null,
   "id": "c560fd07",
   "metadata": {},
   "outputs": [],
   "source": []
  }
 ],
 "metadata": {
  "kernelspec": {
   "display_name": "Python 3",
   "language": "python",
   "name": "python3"
  },
  "language_info": {
   "codemirror_mode": {
    "name": "ipython",
    "version": 3
   },
   "file_extension": ".py",
   "mimetype": "text/x-python",
   "name": "python",
   "nbconvert_exporter": "python",
   "pygments_lexer": "ipython3",
   "version": "3.8.8"
  }
 },
 "nbformat": 4,
 "nbformat_minor": 5
}
