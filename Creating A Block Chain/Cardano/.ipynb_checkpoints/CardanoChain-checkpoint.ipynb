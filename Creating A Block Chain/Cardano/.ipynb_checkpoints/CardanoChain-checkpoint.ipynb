{
 "cells": [
  {
   "cell_type": "code",
   "execution_count": 1,
   "id": "f0147509",
   "metadata": {},
   "outputs": [],
   "source": [
    "import requests\n"
   ]
  },
  {
   "cell_type": "code",
   "execution_count": 8,
   "id": "8dbc4f9c",
   "metadata": {},
   "outputs": [],
   "source": [
    "import json\n",
    "import os \n",
    "import datetime\n",
    "import hashlib\n",
    "from flask import Flask, jsonify, request\n",
    "\n",
    "### Need request for the decentralized network\n",
    "## what makes a blockchain a crypto (transactions)\n",
    "\n",
    "### Add Transacitons \n",
    "#### Make a consensus network to make sure ench node has the same chain - >\n",
    "## All the blocks are up to date up to the last"
   ]
  },
  {
   "cell_type": "code",
   "execution_count": 5,
   "id": "e955da11",
   "metadata": {},
   "outputs": [],
   "source": [
    "from uuid import uuid4\n",
    "## uuid for each node in network\n",
    "from urllib.parse import urlparse"
   ]
  },
  {
   "cell_type": "code",
   "execution_count": 9,
   "id": "a0e4dd72",
   "metadata": {},
   "outputs": [],
   "source": [
    "class Cardano:\n",
    "    def __init__(self):\n",
    "        ### Seperate list of transacitons before added to the block \n",
    "        ### Soone as a miner mines a block all the transactions are added to the block\n",
    "        ### List of transacitons will be emptied\n",
    "        self.chain = []\n",
    "        self.addCoin(proof = 1, prevHash = \"0\")\n",
    "        \n",
    "    def addCoin(self, proof, prevHash):\n",
    "        coin = {\n",
    "            \"index\": len(self.chain),\n",
    "            \"timestamp\": str(datetime.datetime.now()),\n",
    "            \"proof\": proof,\n",
    "            \"prevHash\": prevHash\n",
    "        }\n",
    "        self.chain.append(coin)\n",
    "        return coin\n",
    "    \n",
    "    def getLastCoin(self):\n",
    "        return self.chain[-1]\n",
    "    \n",
    "    def hashCoin(self, coin):\n",
    "        encodedCoin = json.dumps(coin, sort_keys=True).encode()\n",
    "        return hashlib.sha256(encodedCoin).hexdigest()\n",
    "    \n",
    "    def proofOfWork(self, prevProof):\n",
    "        new_proof = 1\n",
    "        solved = False \n",
    "        \n",
    "        while solved is False:\n",
    "            hashWork = hashlib.sha256(str(new_proof ** 2 - prevProof ** 2).encode()).hexdigest()\n",
    "            if hashWork[:4] == \"0000\":\n",
    "                solved = True\n",
    "            else:\n",
    "                new_proof += 1\n",
    "        return new_proof\n",
    "    \n",
    "    def isChainValid(self, chain):\n",
    "        previousCoin = chain[0]\n",
    "        current_index = 1 \n",
    "        while current_index < len(chain):\n",
    "            current_coin = chain[current_index]\n",
    "            currentCoinPrevHash = current_coin[\"prevHash\"]\n",
    "            if currentCoinPrevHash != hashCoin(previousCoin):\n",
    "                return False\n",
    "            previousProof = previousCoin[\"proof\"]\n",
    "            currentProof = current_coin[\"proof\"]\n",
    "            hashWork = hashlib.sha256(str(currentProof ** 2 - previousProof ** 2).encode()).hexdigest()\n",
    "            if hashWork[:4] != \"0000\":\n",
    "                return False\n",
    "            previousCoin = current_coin\n",
    "            current_index += 1\n",
    "        return True\n"
   ]
  },
  {
   "cell_type": "code",
   "execution_count": 45,
   "id": "4738b306",
   "metadata": {},
   "outputs": [],
   "source": [
    "cardano = Cardano()"
   ]
  },
  {
   "cell_type": "code",
   "execution_count": 46,
   "id": "db59d0a6",
   "metadata": {},
   "outputs": [],
   "source": [
    "app = Flask(__name__)"
   ]
  },
  {
   "cell_type": "code",
   "execution_count": 47,
   "id": "efad68e1",
   "metadata": {},
   "outputs": [],
   "source": [
    "@app.route(\"/mine\", methods = [\"GET\"])\n",
    "def mine():\n",
    "    previousCoin = cardano.getLastCoin()\n",
    "    prevProof = previousCoin[\"proof\"]\n",
    "    proof = cardano.proofOfWork(prevProof)\n",
    "    prevHash = cardano.hashCoin(previousCoin)\n",
    "    coin = cardano.addCoin(proof, prevHash)\n",
    "    response = {\n",
    "        \"index\": coin[\"index\"],\n",
    "        \"timestamp\": coin[\"timestamp\"],\n",
    "        \"proof\": coin[\"proof\"],\n",
    "        \"prevHash\": coin[\"prevHash\"],\n",
    "        \"previousCoin\": previousCoin\n",
    "    }\n",
    "    return jsonify(response), 200"
   ]
  },
  {
   "cell_type": "code",
   "execution_count": 48,
   "id": "62fa8ee2",
   "metadata": {},
   "outputs": [],
   "source": [
    "@app.route(\"/chain\", methods = [\"GET\"])\n",
    "def chain():\n",
    "    response = {\n",
    "        \"chain\": cardano.chain,\n",
    "        \"length\": len(cardano.chain)\n",
    "    }\n",
    "    return jsonify(response), 200"
   ]
  },
  {
   "cell_type": "code",
   "execution_count": null,
   "id": "f985425b",
   "metadata": {},
   "outputs": [
    {
     "name": "stdout",
     "output_type": "stream",
     "text": [
      " * Serving Flask app \"__main__\" (lazy loading)\n",
      " * Environment: production\n",
      "\u001b[31m   WARNING: This is a development server. Do not use it in a production deployment.\u001b[0m\n",
      "\u001b[2m   Use a production WSGI server instead.\u001b[0m\n",
      " * Debug mode: off\n"
     ]
    },
    {
     "name": "stderr",
     "output_type": "stream",
     "text": [
      " * Running on http://0.0.0.0:5000/ (Press CTRL+C to quit)\n",
      "127.0.0.1 - - [29/Dec/2021 00:29:10] \"\u001b[37mGET /mine HTTP/1.1\u001b[0m\" 200 -\n",
      "127.0.0.1 - - [29/Dec/2021 00:29:11] \"\u001b[37mGET /mine HTTP/1.1\u001b[0m\" 200 -\n",
      "127.0.0.1 - - [29/Dec/2021 00:29:13] \"\u001b[37mGET /mine HTTP/1.1\u001b[0m\" 200 -\n",
      "127.0.0.1 - - [29/Dec/2021 00:29:14] \"\u001b[37mGET /mine HTTP/1.1\u001b[0m\" 200 -\n",
      "127.0.0.1 - - [29/Dec/2021 00:29:18] \"\u001b[37mGET /chain HTTP/1.1\u001b[0m\" 200 -\n"
     ]
    }
   ],
   "source": [
    "app.run(host=\"0.0.0.0\", port=5000)"
   ]
  },
  {
   "cell_type": "code",
   "execution_count": null,
   "id": "7999f8e7",
   "metadata": {},
   "outputs": [],
   "source": []
  },
  {
   "cell_type": "code",
   "execution_count": null,
   "id": "7d93bc47",
   "metadata": {},
   "outputs": [],
   "source": []
  }
 ],
 "metadata": {
  "kernelspec": {
   "display_name": "Python 3",
   "language": "python",
   "name": "python3"
  },
  "language_info": {
   "codemirror_mode": {
    "name": "ipython",
    "version": 3
   },
   "file_extension": ".py",
   "mimetype": "text/x-python",
   "name": "python",
   "nbconvert_exporter": "python",
   "pygments_lexer": "ipython3",
   "version": "3.8.8"
  }
 },
 "nbformat": 4,
 "nbformat_minor": 5
}
