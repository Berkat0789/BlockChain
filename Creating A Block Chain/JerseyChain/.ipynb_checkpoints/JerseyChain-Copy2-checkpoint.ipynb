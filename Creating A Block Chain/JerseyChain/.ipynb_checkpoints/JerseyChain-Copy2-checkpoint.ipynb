{
 "cells": [
  {
   "cell_type": "code",
   "execution_count": 133,
   "id": "5a886bd4-d9ad-4157-8d60-854f608be18c",
   "metadata": {},
   "outputs": [],
   "source": [
    "import datetime\n",
    "import hashlib\n",
    "import json\n",
    "import requests\n",
    "from flask import Flask, jsonify, request\n",
    "from urllib.parse import urlparse\n",
    "from uuid import uuid4"
   ]
  },
  {
   "cell_type": "code",
   "execution_count": 134,
   "id": "b8c49570-259a-4e92-a4cf-478bca8a6cfe",
   "metadata": {},
   "outputs": [],
   "source": [
    "class JerseyCoin:\n",
    "    \n",
    "    def __init__(self):\n",
    "        self.chain = []\n",
    "        self.transactions = []\n",
    "        self.addBlock(proof = 1, prevHash = \"0\")\n",
    "        self.nodes = set()\n",
    "    \n",
    "    def addBlock(self, proof, prevHash):\n",
    "        block = {\n",
    "            \"index\": len(self.chain),\n",
    "            \"timestamp\": str(datetime.datetime.now()),\n",
    "            \"proof\": proof,\n",
    "            \"prevHash\": prevHash,\n",
    "            \"transactions\": self.transactions\n",
    "        }\n",
    "        self.transactions =[]\n",
    "        self.chain.append(block)\n",
    "        return block\n",
    "    \n",
    "    def getLastBlock(self):\n",
    "        return self.chain[-1]\n",
    "    \n",
    "    def hasBlock(self, block):\n",
    "        encodedBlock = json.dumps(block, sort_keys=True).encode()\n",
    "        return hashlib.sha256(encodedBlock).hexdigest()\n",
    "    \n",
    "    def proofOfWork(self, prevProof):\n",
    "        newProof = 1\n",
    "        solved = False \n",
    "        while solved is False:\n",
    "            hashProblem = hashlib.sha256(str(newProof ** 2 - prevProof ** 2).encode()).hexdigest()\n",
    "            if hashProblem[:4] == \"0000\":\n",
    "                solved = True\n",
    "            else:\n",
    "                newProof += 1\n",
    "        return newProof\n",
    "    \n",
    "    def addNode(self, address):\n",
    "        addressIP = urlparse(address)\n",
    "        self.nodes.add(addressIP.path)\n",
    "    \n",
    "    def addTransaction(self, sender, receiver, amount):\n",
    "        self.transactions.append({\n",
    "            \"sender\": sender, \n",
    "            \"recenver\": receiver,\n",
    "            \"amount\": amount\n",
    "        })\n",
    "        ## Will return the index that the transaciton will be added on\n",
    "        lastBlock = self.getLastBlock()\n",
    "        return lastBlock[\"index\"] + 1\n",
    "    \n",
    "    def isChainValid(self, chain):\n",
    "        previousBlock = chain[0]\n",
    "        current_index = 1\n",
    "        \n",
    "        while current_index < len(chain):\n",
    "            currentBlock = chain[current_index]\n",
    "            currentPrevHash = currentBlock[\"prevHash\"]\n",
    "            if currentPrevHash != self.hasBlock(previousBlock):\n",
    "                return False\n",
    "            currentProof = currentBlock[\"proof\"]\n",
    "            previousProof = previousBlock[\"proof\"]\n",
    "            hashCheck = hashlib.sha256(str(currentProof **2 - previousProof **2).encode()).hexdigest()\n",
    "            if hashCheck[:4] != \"0000\":\n",
    "                return False\n",
    "            previousBlock = currentBlock\n",
    "            current_index += 1\n",
    "        return True\n",
    "    \n",
    "    def shouldReplaceChain(self):\n",
    "        network = self.nodes\n",
    "        currentlength = len(self.chain)\n",
    "        longestChain = None\n",
    "        \n",
    "        for node in network:\n",
    "            nodeResponse = requests.get(f\"http://{node}/chain\")\n",
    "            if nodeResponse.status_code == 200:\n",
    "                chain = nodeResponse.json()[\"chain\"]\n",
    "                length = nodeResponse.json()[\"length\"]\n",
    "                if length > currentlength and self.isChainValid(chain):\n",
    "                    currentlength = length\n",
    "                    longestChain = chain\n",
    "            if longestChain: ## not nil \n",
    "                self.chain = chain\n",
    "                return True \n",
    "        return False"
   ]
  },
  {
   "cell_type": "code",
   "execution_count": 135,
   "id": "02299647-eda2-428e-bc10-742bda015714",
   "metadata": {},
   "outputs": [],
   "source": [
    "app = Flask(__name__)"
   ]
  },
  {
   "cell_type": "code",
   "execution_count": 136,
   "id": "82044c65-74e2-401a-a05d-2ee03a5bb39f",
   "metadata": {},
   "outputs": [],
   "source": [
    "nodeAddress = str(uuid4()).replace(\"-\", \"\")"
   ]
  },
  {
   "cell_type": "code",
   "execution_count": 137,
   "id": "569ad362-fdc7-49c3-ae9b-23e11fd2183c",
   "metadata": {},
   "outputs": [],
   "source": [
    "jersey = JerseyCoin()"
   ]
  },
  {
   "cell_type": "code",
   "execution_count": 138,
   "id": "039444dd-ce46-42ee-acb1-87b42cd0f678",
   "metadata": {},
   "outputs": [],
   "source": [
    "@app.route(\"/mine\", methods = [\"GET\"])\n",
    "def mine():\n",
    "    previousBlock = jersey.getLastBlock()\n",
    "    previousProof = previousBlock[\"proof\"]\n",
    "    proof = jersey.proofOfWork(previousProof)\n",
    "    jersey.addTransaction(sender=nodeAddress, receiver=\"Bret\", amount=10)\n",
    "    previousHash = jersey.hasBlock(previousBlock)\n",
    "    block = jersey.addBlock(proof, previousHash)\n",
    "    response = {\n",
    "        \"message\": \"congrats you have mines a Jersey Coin\",\n",
    "        \"index\": block[\"index\"],\n",
    "        \"proof\": block[\"proof\"],\n",
    "        \"prevHash\": block[\"prevHash\"],\n",
    "        \"timestamp\": block[\"timestamp\"]\n",
    "    }\n",
    "    return jsonify(response), 200"
   ]
  },
  {
   "cell_type": "code",
   "execution_count": 139,
   "id": "1209c54b-38d6-416d-a4ce-f51e1568c4d8",
   "metadata": {},
   "outputs": [],
   "source": [
    "@app.route(\"/chain\", methods = [\"GET\"])\n",
    "def chain():\n",
    "    response = {\n",
    "        \"chain\": jersey.chain,\n",
    "        \"length\": len(jersey.chain)\n",
    "    }\n",
    "    return jsonify(response), 200"
   ]
  },
  {
   "cell_type": "code",
   "execution_count": 140,
   "id": "e5e9d01b-69c0-4eb3-8712-739f17d03c06",
   "metadata": {},
   "outputs": [],
   "source": [
    "@app.route(\"/valid\", methods = [\"GET\"])\n",
    "def valid():\n",
    "    isValid = jersey.isChainValid(jersey.chain)\n",
    "    if isValid:\n",
    "        response = {\n",
    "            \"message\": \"The chain is valid\"\n",
    "        }\n",
    "    else:\n",
    "        response = {\n",
    "            \"message\": \"Invalid\"\n",
    "        }\n",
    "    return jsonify(response), 200"
   ]
  },
  {
   "cell_type": "code",
   "execution_count": 141,
   "id": "cc9899a4-43d4-4029-867a-ebe1255b7359",
   "metadata": {},
   "outputs": [],
   "source": [
    "@app.route(\"/replace\", methods = [\"GET\"])\n",
    "def replace():\n",
    "    shouldReplace = jersey.shouldReplaceChain()\n",
    "    if shouldReplace:\n",
    "        response = {\n",
    "            \"message\": \"Chain is being replace with the longest\",\n",
    "            \"chain\": jersey.chain,\n",
    "            \"length\": len(jersey.chain)\n",
    "        }\n",
    "    else:\n",
    "        response = {\n",
    "            \"message\": \"Chain is up to date\",\n",
    "            \"chain\": jersey.chain,\n",
    "            \"length\": len(jersey.chain)\n",
    "        }\n",
    "    return jsonify(response), 400"
   ]
  },
  {
   "cell_type": "markdown",
   "id": "7cdb31c7-81ed-4b32-8a31-6c8f95030778",
   "metadata": {},
   "source": [
    "### POST methods for server "
   ]
  },
  {
   "cell_type": "code",
   "execution_count": 142,
   "id": "c5739ff9-e7be-4aa4-92d5-a591268f9d18",
   "metadata": {},
   "outputs": [],
   "source": [
    "@app.route(\"/connect\", methods = [\"POST\"])\n",
    "def connect():\n",
    "    nodesReponse = request.get_json()\n",
    "    nodes = nodesReponse.get(\"nodes\")\n",
    "    if nodes is None:\n",
    "        return \"There are no nodes in this network\", 400\n",
    "    for node in nodes:\n",
    "        jersey.addNode(node)\n",
    "    response = {\n",
    "        \"message\": \"nodes have been added\",\n",
    "        \"nodelist\": list(jersey.nodes)\n",
    "    }\n",
    "    return jsonify(response), 201"
   ]
  },
  {
   "cell_type": "code",
   "execution_count": 143,
   "id": "53b6c2e8-9046-4fda-8e2b-34b9396978fe",
   "metadata": {},
   "outputs": [],
   "source": [
    "@app.route(\"/transaction\", methods = [\"POST\"])\n",
    "def transaction():\n",
    "    transactionResponse = request.get_json()\n",
    "    transacitonKeys = [\"sender\", \"receiver\", \"amount\"]\n",
    "    if not all (key in transactionResponse for key in transacitonKeys):\n",
    "        return \"There are some keys missing\", 400\n",
    "    index = jersey.addTransaction(transactionResponse[\"sender\"], \n",
    "                                  transactionResponse[\"receiver\"], transactionResponse[\"amount\"])\n",
    "    response = {\n",
    "        \"message\": f\"you transaction will be added to block {index}\"\n",
    "    }\n",
    "    return jsonify(response), 201"
   ]
  },
  {
   "cell_type": "code",
   "execution_count": null,
   "id": "c07dc11d-b252-4c3b-9fa8-72670c3487e6",
   "metadata": {},
   "outputs": [
    {
     "name": "stdout",
     "output_type": "stream",
     "text": [
      " * Serving Flask app \"__main__\" (lazy loading)\n",
      " * Environment: production\n",
      "\u001b[31m   WARNING: This is a development server. Do not use it in a production deployment.\u001b[0m\n",
      "\u001b[2m   Use a production WSGI server instead.\u001b[0m\n",
      " * Debug mode: off\n"
     ]
    },
    {
     "name": "stderr",
     "output_type": "stream",
     "text": [
      " * Running on http://0.0.0.0:6000/ (Press CTRL+C to quit)\n",
      "127.0.0.1 - - [06/Jan/2022 12:08:26] \"\u001b[37mPOST /connect HTTP/1.1\u001b[0m\" 201 -\n"
     ]
    }
   ],
   "source": [
    "app.run(host =\"0.0.0.0\", port=7002)"
   ]
  },
  {
   "cell_type": "code",
   "execution_count": null,
   "id": "055cf970-552f-4058-a5df-55cc0e6329cd",
   "metadata": {},
   "outputs": [],
   "source": []
  }
 ],
 "metadata": {
  "kernelspec": {
   "display_name": "Python 3",
   "language": "python",
   "name": "python3"
  },
  "language_info": {
   "codemirror_mode": {
    "name": "ipython",
    "version": 3
   },
   "file_extension": ".py",
   "mimetype": "text/x-python",
   "name": "python",
   "nbconvert_exporter": "python",
   "pygments_lexer": "ipython3",
   "version": "3.8.8"
  }
 },
 "nbformat": 4,
 "nbformat_minor": 5
}
