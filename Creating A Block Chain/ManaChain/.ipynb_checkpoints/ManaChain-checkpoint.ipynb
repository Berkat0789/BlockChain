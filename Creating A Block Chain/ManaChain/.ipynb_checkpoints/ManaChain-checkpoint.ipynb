{
 "cells": [
  {
   "cell_type": "code",
   "execution_count": 1,
   "metadata": {},
   "outputs": [],
   "source": [
    "import json\n",
    "import hashlib\n",
    "from flask import Flask, jsonify\n",
    "import datetime\n",
    "import os"
   ]
  },
  {
   "cell_type": "code",
   "execution_count": 2,
   "metadata": {},
   "outputs": [],
   "source": [
    "class MainChain:\n",
    "    def __init__(self):\n",
    "        self.chain = []\n",
    "        self.createCoin(proof = 1, previousProof = \"0\")\n",
    "    \n",
    "    def createCoin(self, proof, previousProof):\n",
    "        coin = {\n",
    "            \"index\": len(self.chain) + 1,\n",
    "            \"datetime\": str(datetime.datetime.now()),\n",
    "            \"proof\": proof,\n",
    "            \"previousProof\": previousProof\n",
    "        }\n",
    "        self.chain.append(coin)\n",
    "        return coin\n",
    "    def getLastCoin(self):\n",
    "        return self.chain[-1]\n",
    "    \n",
    "    def proofOfWork(self, previousProof):\n",
    "        new_proof = 1\n",
    "        solved = False\n",
    "        while solved is False:\n",
    "            hasProblem = hashlib.sha256(str(new_proof ** 2 - previousProof ** 2).encode()).hexdigest()\n",
    "            if hasProblem[:4] == \"0000\":\n",
    "                solved = True\n",
    "            else:\n",
    "                new_proof += 1\n",
    "        return new_proof\n",
    "    def hashBlock(self, coin):\n",
    "        encodedCoin = json.dumps(coin, sort_keys=True).encode()\n",
    "        return hashlib.sha256(encodedCoin).hexdigest()\n",
    "    \n",
    "    def isChainValid(self, chain):\n",
    "        previous_block = chain[0]\n",
    "        current_index = 1\n",
    "        \n",
    "        while current_index < len(chain):\n",
    "            block = chain[current_index]\n",
    "            prevHash = block[\"previousProof\"]\n",
    "            \n",
    "            if prevHash != hashBlock(previous_block):\n",
    "                return False\n",
    "            currentPoof = block[\"proof\"]\n",
    "            prevProof = previous_block[\"proof\"]\n",
    "            hexProblem = hashlib.sha256(str(currentPoof **2 - prevProof ** 2).encode()).hexdigest()\n",
    "            if hexProblem[:4] != \"0000\":\n",
    "                return False\n",
    "        return True"
   ]
  },
  {
   "cell_type": "code",
   "execution_count": 3,
   "metadata": {},
   "outputs": [],
   "source": [
    "app = Flask(__name__)"
   ]
  },
  {
   "cell_type": "code",
   "execution_count": 4,
   "metadata": {},
   "outputs": [],
   "source": [
    "mana = MainChain()"
   ]
  },
  {
   "cell_type": "code",
   "execution_count": 5,
   "metadata": {},
   "outputs": [],
   "source": [
    "@app.route(\"/mine\", methods = [\"GET\"])\n",
    "def mine():\n",
    "    previousCoin = mana.getLastCoin()\n",
    "    previousProof = previousCoin[\"proof\"]\n",
    "    proof = mana.proofOfWork(previousProof)\n",
    "    prevHash = mana.hashBlock(previousCoin)\n",
    "    coin = mana.createCoin(proof, prevHash)\n",
    "    response = {\n",
    "        \"success\": \"you have successfully mined a Mana coin\",\n",
    "        \"index\": coin[\"index\"],\n",
    "        \"proof\": coin[\"proof\"],\n",
    "        \"previousHash\": coin[\"previousProof\"],\n",
    "        \"timestamp\": coin[\"datetime\"]\n",
    "    }\n",
    "    return jsonify(response), 200"
   ]
  },
  {
   "cell_type": "code",
   "execution_count": 6,
   "metadata": {},
   "outputs": [],
   "source": [
    "@app.route(\"/chain\", methods = [\"GET\"])\n",
    "def chain():\n",
    "    response = {\n",
    "        \"chain\": mana.chain,\n",
    "        \"length\": len(mana.chain)\n",
    "    }\n",
    "    return jsonify(response), 200"
   ]
  },
  {
   "cell_type": "code",
   "execution_count": 7,
   "metadata": {},
   "outputs": [
    {
     "name": "stdout",
     "output_type": "stream",
     "text": [
      " * Serving Flask app \"__main__\" (lazy loading)\n",
      " * Environment: production\n",
      "\u001b[31m   WARNING: This is a development server. Do not use it in a production deployment.\u001b[0m\n",
      "\u001b[2m   Use a production WSGI server instead.\u001b[0m\n",
      " * Debug mode: off\n"
     ]
    },
    {
     "name": "stderr",
     "output_type": "stream",
     "text": [
      " * Running on http://0.0.0.0:4444/ (Press CTRL+C to quit)\n"
     ]
    }
   ],
   "source": [
    "if __name__==\"__main__\":\n",
    "    app.run(host=os.getenv('IP', '0.0.0.0'), \n",
    "            port=int(os.getenv('PORT', 4444)))"
   ]
  },
  {
   "cell_type": "code",
   "execution_count": null,
   "metadata": {},
   "outputs": [],
   "source": []
  },
  {
   "cell_type": "code",
   "execution_count": null,
   "metadata": {},
   "outputs": [],
   "source": []
  }
 ],
 "metadata": {
  "kernelspec": {
   "display_name": "Python 3",
   "language": "python",
   "name": "python3"
  },
  "language_info": {
   "codemirror_mode": {
    "name": "ipython",
    "version": 3
   },
   "file_extension": ".py",
   "mimetype": "text/x-python",
   "name": "python",
   "nbconvert_exporter": "python",
   "pygments_lexer": "ipython3",
   "version": "3.8.8"
  }
 },
 "nbformat": 4,
 "nbformat_minor": 4
}
