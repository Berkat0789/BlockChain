{
 "cells": [
  {
   "cell_type": "code",
   "execution_count": 203,
   "id": "70211a39-dc34-4a80-98f3-0f320cd3d30d",
   "metadata": {},
   "outputs": [],
   "source": [
    "import datetime\n",
    "import json\n",
    "import hashlib\n",
    "import requests\n",
    "from flask import Flask, jsonify, request\n",
    "from uuid import uuid4\n",
    "from urllib.parse import urlparse"
   ]
  },
  {
   "cell_type": "code",
   "execution_count": 204,
   "id": "cdb7bea1-7272-4ebd-b515-a39d5f0eb265",
   "metadata": {},
   "outputs": [],
   "source": [
    "class NJCoin:\n",
    "    def __init__(self):\n",
    "        self.chain = []\n",
    "        self.transactions = []\n",
    "        self.addBlock(proof = 1, prevHash = \"0\")\n",
    "        self.nodes = set()\n",
    "    def addBlock(self, proof, prevHash):\n",
    "        block = {\n",
    "            \"index\": len(self.chain),\n",
    "            \"timestamp\": str(datetime.datetime.now()),\n",
    "            \"proof\": proof,\n",
    "            \"prevHash\": prevHash,\n",
    "            \"transactions\": self.transactions\n",
    "        }\n",
    "        self.transactions = []\n",
    "        self.chain.append(block)\n",
    "        return block\n",
    "    \n",
    "    def getLastBlock(self):\n",
    "        return self.chain[-1]\n",
    "    \n",
    "    def proofOfWork(self, prevPRoof):\n",
    "        newProof = 1\n",
    "        solved = False\n",
    "        while solved is False:\n",
    "            hashProblem = hashlib.sha3_256(str(newProof **2 - prevPRoof **2).encode()).hexdigest()\n",
    "            if hashProblem[:4] == \"0000\":\n",
    "                solved = True\n",
    "            else:\n",
    "                newProof += 1\n",
    "        return newProof\n",
    "    \n",
    "    def addNode(self, address):\n",
    "        addressIP = urlparse(address)\n",
    "        print(addressIP)\n",
    "        self.nodes.add(addressIP.path)\n",
    "    \n",
    "    def addTransaction(self, sender, receiver, amount):\n",
    "        self.transactions.append({\n",
    "            \"sender\": sender,\n",
    "            \"receiver\": receiver,\n",
    "            \"amount\": amount\n",
    "        })\n",
    "        lastBlock = self.getLastBlock()\n",
    "        return lastBlock[\"index\"] + 1\n",
    "    \n",
    "    def hashBlock(self, block):\n",
    "        encodedBlock = json.dumps(block, sort_keys=True).encode()\n",
    "        return hashlib.sha256(encodedBlock).hexdigest()\n",
    "    \n",
    "    def isChainValid(self, chain):\n",
    "        previoisBlock = chain[0]\n",
    "        currentIndex = 1 \n",
    "        while currentIndex < len(chain):\n",
    "            currentBlock = chain[currentIndex]\n",
    "            currentPrevhash = currentBlock[\"prevHash\"]\n",
    "            if currentPrevhash != self.hashBlock(previoisBlock):\n",
    "                return False\n",
    "            currentProof = currentBlock[\"proof\"]\n",
    "            previousProof = previoisBlock[\"proof\"]\n",
    "            hashWork = hashlib.sha256(str(currentProof **2 - previousProof **2).encode()).hexdigest()\n",
    "            if hashWork[:4] != \"0000\":\n",
    "                return False\n",
    "            previoisBlock = currentBlock\n",
    "            currentIndex += 1\n",
    "        return True\n",
    "    \n",
    "    def shouldReplaceChain(self):\n",
    "        network = self.nodes\n",
    "        currentChainLength = len(self.chain)\n",
    "        largestChain = None\n",
    "        \n",
    "        for node in network:\n",
    "            nodeResponse = requests.get(f\"http://{node}/chain\")\n",
    "            if nodeResponse.status_code == 200:\n",
    "                chain = nodeResponse.json()[\"chain\"]\n",
    "                length = nodeResponse.json()[\"length\"]\n",
    "                if length > currentChainLength and self.isChainValid(chain):\n",
    "                    largestChain = chain\n",
    "                    currentChainLength = length\n",
    "            if largestChain:\n",
    "                self.chain = chain\n",
    "                return True\n",
    "        return False"
   ]
  },
  {
   "cell_type": "code",
   "execution_count": 205,
   "id": "c3013f8a-a2de-45ac-a537-607a0ba84041",
   "metadata": {},
   "outputs": [],
   "source": [
    "nj = NJCoin()"
   ]
  },
  {
   "cell_type": "code",
   "execution_count": 206,
   "id": "64565930-6313-4007-a687-5cc4f3a5c925",
   "metadata": {},
   "outputs": [],
   "source": [
    "app = Flask(__name__)"
   ]
  },
  {
   "cell_type": "code",
   "execution_count": 207,
   "id": "a56ec535-c975-4fe6-87e8-5a3132ac6060",
   "metadata": {},
   "outputs": [],
   "source": [
    "nodeAddress = str(uuid4()).replace(\"-\",\"\")"
   ]
  },
  {
   "cell_type": "markdown",
   "id": "86fe5fc8-de96-4264-84f0-0c149bb732b7",
   "metadata": {},
   "source": [
    "# GET Functions"
   ]
  },
  {
   "cell_type": "code",
   "execution_count": 208,
   "id": "50a266f7-6609-49bb-8055-344f933aaf1e",
   "metadata": {},
   "outputs": [],
   "source": [
    "@app.route(\"/mine\", methods =[\"GET\"])\n",
    "def mine():\n",
    "    previousBlock = nj.getLastBlock()\n",
    "    previousProof = previousBlock[\"proof\"]\n",
    "    proof = nj.proofOfWork(previousProof)\n",
    "    previousHash = nj.hashBlock(previousBlock)\n",
    "    nj.addTransaction(sender=nodeAddress, receiver=\"berkat\", amount=200)\n",
    "    block = nj.addBlock(proof, previousHash)\n",
    "    response = {\n",
    "        \"message\": \"Success: you have mined a NJ coin\",\n",
    "        \"index\": block[\"index\"],\n",
    "        \"proof\": block[\"proof\"],\n",
    "        \"prevHash\": block[\"prevHash\"],\n",
    "        \"timestamp\": block[\"timestamp\"]\n",
    "    }\n",
    "    return jsonify(response), 200"
   ]
  },
  {
   "cell_type": "code",
   "execution_count": 209,
   "id": "56dac8b5-f970-43f0-98cf-6c3619d7f690",
   "metadata": {},
   "outputs": [],
   "source": [
    "@app.route(\"/chain\", methods = [\"GET\"])\n",
    "def chain():\n",
    "    response = {\n",
    "        \"chain\": nj.chain,\n",
    "        \"length\": len(nj.chain)\n",
    "    }\n",
    "    return jsonify(response), 200"
   ]
  },
  {
   "cell_type": "code",
   "execution_count": 210,
   "id": "edbca96b-6d6e-4258-82ab-40e5c9310dcf",
   "metadata": {},
   "outputs": [],
   "source": [
    "@app.route(\"/valid\", methods = [\"GET\"])\n",
    "def valid():\n",
    "    isValid = nj.isChainValid(nj.chain)\n",
    "    if isValid:\n",
    "        response = {\n",
    "            \"message\": \"Chain is valid\"\n",
    "        }\n",
    "    else:\n",
    "         response = {\n",
    "            \"message\": \"Chain is NOT VAILD\"\n",
    "        }\n",
    "    return jsonify(response), 200"
   ]
  },
  {
   "cell_type": "code",
   "execution_count": 211,
   "id": "66c8d73a-cf16-4a25-b200-4d21ea1267db",
   "metadata": {},
   "outputs": [],
   "source": [
    "@app.route(\"/replace\", methods = [\"GET\"])\n",
    "def replace():\n",
    "    shouldReplace = nj.shouldReplaceChain()\n",
    "    if shouldReplace:\n",
    "        response = {\n",
    "            \"Message\": 'The chain was replaced with the longest found',\n",
    "            \"chain\": nj.chain,\n",
    "            \"length\": len(nj.chain)\n",
    "        }\n",
    "    else:\n",
    "        response = {\n",
    "            \"Message\": 'The chain up to date',\n",
    "            \"chain\":nj.chain,\n",
    "            \"length\": len(nj.chain)\n",
    "        }\n",
    "    return jsonify(resposne), 200"
   ]
  },
  {
   "cell_type": "code",
   "execution_count": 212,
   "id": "20325789-7257-4fe0-83bc-e41187bd21f1",
   "metadata": {},
   "outputs": [],
   "source": [
    "@app.route(\"/transaction\", methods = [\"POST\"])\n",
    "def transaction():\n",
    "    transResponse = request.get_json()\n",
    "    transactionKeys = [\"sender\", \"receiver\", \"amount\"]\n",
    "    if not all in(key in transResponse for key in transactionKeys):\n",
    "        return \"There are keys missing\", 401\n",
    "    index = nj.addTransaction(transResponse[\"sender\"], transResponse[\"recceiver\"], transResponse[\"amount\"])\n",
    "    resposne = {\n",
    "        \"message\": f\"your transaction will be added to block {index}\"\n",
    "    }\n",
    "    return jsonify(resposne), 201"
   ]
  },
  {
   "cell_type": "code",
   "execution_count": 213,
   "id": "440d571e-a3c0-4047-9914-12f1f935eb00",
   "metadata": {},
   "outputs": [],
   "source": [
    "app.route(\"/connect\", methods = [\"POST\"])\n",
    "def connect():\n",
    "    nodesReponse = request.get_json()\n",
    "    print(nodesReponse)\n",
    "    nodes = nodesReponse.get(\"nodes\")\n",
    "    if nodes is None:\n",
    "        return \"There are no nodes in this network\", 400\n",
    "    for node in nodes:\n",
    "        nj.addNode(node)\n",
    "    response = {\n",
    "        \"message\": \"nodes have been added\",\n",
    "        \"nodelist\": list(nj.nodes)\n",
    "    }\n",
    "    return jsonify(response), 201"
   ]
  },
  {
   "cell_type": "code",
   "execution_count": null,
   "id": "bc31e026-b348-4dff-87e9-0086eb1de6c0",
   "metadata": {},
   "outputs": [],
   "source": []
  },
  {
   "cell_type": "code",
   "execution_count": 214,
   "id": "0679839d-c1db-4e39-aa61-563b0c8abf6b",
   "metadata": {},
   "outputs": [
    {
     "name": "stdout",
     "output_type": "stream",
     "text": [
      " * Serving Flask app \"__main__\" (lazy loading)\n",
      " * Environment: production\n",
      "\u001b[31m   WARNING: This is a development server. Do not use it in a production deployment.\u001b[0m\n",
      "\u001b[2m   Use a production WSGI server instead.\u001b[0m\n",
      " * Debug mode: off\n"
     ]
    },
    {
     "name": "stderr",
     "output_type": "stream",
     "text": [
      " * Running on http://0.0.0.0:4000/ (Press CTRL+C to quit)\n",
      "127.0.0.1 - - [16/Jan/2022 21:36:46] \"\u001b[33mPOST /connect HTTP/1.1\u001b[0m\" 404 -\n"
     ]
    }
   ],
   "source": [
    "app.run(host=\"0.0.0.0\", port=4000)"
   ]
  },
  {
   "cell_type": "code",
   "execution_count": null,
   "id": "f8a10035-4b41-414e-93cb-09ae4d16ee26",
   "metadata": {},
   "outputs": [],
   "source": []
  }
 ],
 "metadata": {
  "kernelspec": {
   "display_name": "Python 3",
   "language": "python",
   "name": "python3"
  },
  "language_info": {
   "codemirror_mode": {
    "name": "ipython",
    "version": 3
   },
   "file_extension": ".py",
   "mimetype": "text/x-python",
   "name": "python",
   "nbconvert_exporter": "python",
   "pygments_lexer": "ipython3",
   "version": "3.8.8"
  }
 },
 "nbformat": 4,
 "nbformat_minor": 5
}
