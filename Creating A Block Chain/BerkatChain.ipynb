{
 "cells": [
  {
   "cell_type": "code",
   "execution_count": 11,
   "id": "334aa3e9",
   "metadata": {},
   "outputs": [],
   "source": [
    "import datetime \n",
    "import json\n",
    "import hashlib\n",
    "from flask import Flask, jsonify"
   ]
  },
  {
   "cell_type": "code",
   "execution_count": 12,
   "id": "b408f006",
   "metadata": {},
   "outputs": [],
   "source": [
    "class BerkatChain:\n",
    "    def __init__(self):\n",
    "        self.chain = []\n",
    "        self.addCoin(proof = 1, prevHash = \"0\")\n",
    "    \n",
    "    def addCoin(self, proof, prevHash):\n",
    "        coin = {\n",
    "            \"index\": len(self.chain),\n",
    "            \"timestamp\": str(datetime.datetime.now()),\n",
    "            \"proof\": proof,\n",
    "            \"prevHash\": prevHash\n",
    "        }\n",
    "        self.chain.append(coin)\n",
    "        return coin\n",
    "    \n",
    "    def getLastCoin(self):\n",
    "        return self.chain[-1]\n",
    "    \n",
    "    def proofOFWork(self, prevProof):\n",
    "        newProof = 1\n",
    "        solved = False\n",
    "        while solved is False:\n",
    "            hashProblem = hashlib.sha256(str(newProof ** 2 - prevProof ** 2).encode()).hexdigest()\n",
    "            if hashProblem[:4] == \"0000\":\n",
    "                solved = True\n",
    "            else:\n",
    "                newProof += 1\n",
    "        return newProof\n",
    "    \n",
    "    def hashCoin(self, coin):\n",
    "        encodedCoin = json.dumps(coin, sort_keys=True).encode()\n",
    "        return hashlib.sha256(encodedCoin).hexdigest()\n",
    "    \n",
    "    def isChainValid(self, chain):\n",
    "        previousCoin = chain[0]\n",
    "        current_index = 1\n",
    "        while current_index < len(chain):\n",
    "            currentCoin = chain[current_index]\n",
    "            currentCoinPrevHash = currentCoin[\"prevHash\"]\n",
    "            if currentCoinPrevHash != hashCoin(previousCoin):\n",
    "                return False\n",
    "            currentProof = currentCoin[\"proof\"]\n",
    "            prevProof = previousCoin[\"proof\"]\n",
    "            hasProb = hashlib.sha256(str(currentProof ** 2 - prevProof **2).encode()).hexdigest()\n",
    "            if hasProb[:4] != \"0000\":\n",
    "                return False \n",
    "        return True"
   ]
  },
  {
   "cell_type": "code",
   "execution_count": 13,
   "id": "322d5b9a",
   "metadata": {},
   "outputs": [],
   "source": [
    "berk = BerkatChain()"
   ]
  },
  {
   "cell_type": "code",
   "execution_count": 14,
   "id": "a0e410f2",
   "metadata": {},
   "outputs": [],
   "source": [
    "app = Flask(__name__)"
   ]
  },
  {
   "cell_type": "code",
   "execution_count": 15,
   "id": "184e4b1c",
   "metadata": {},
   "outputs": [],
   "source": [
    "@app.route(\"/mine\", methods = [\"GET\"])\n",
    "def mine():\n",
    "    previousCoin = berk.getLastCoin()\n",
    "    previousProof = previousCoin[\"proof\"]\n",
    "    proof = berk.proofOFWork(previousProof)\n",
    "    previousHash = berk.hashCoin(previousCoin)\n",
    "    coin = berk.addCoin(proof, previousHash)\n",
    "    response = {\n",
    "        \"success\": \"you have mined a coin\",\n",
    "        \"index\": coin[\"index\"],\n",
    "        \"proof\": coin[\"proof\"],\n",
    "        \"prevHash\": coin[\"prevHash\"],\n",
    "        \"timestamp\": coin[\"timestamp\"]\n",
    "    }\n",
    "    return jsonify(response), 200"
   ]
  },
  {
   "cell_type": "code",
   "execution_count": 16,
   "id": "f3c8c383",
   "metadata": {},
   "outputs": [],
   "source": [
    "@app.route(\"/chain\", methods = [\"GET\"])\n",
    "def chain():\n",
    "    response = {\n",
    "        \"chain\": berk.chain,\n",
    "        \"length\": len(berk.chain)\n",
    "    }\n",
    "    return jsonify(response), 200"
   ]
  },
  {
   "cell_type": "code",
   "execution_count": null,
   "id": "a741dc17",
   "metadata": {},
   "outputs": [
    {
     "name": "stdout",
     "output_type": "stream",
     "text": [
      " * Serving Flask app \"__main__\" (lazy loading)\n",
      " * Environment: production\n",
      "\u001b[31m   WARNING: This is a development server. Do not use it in a production deployment.\u001b[0m\n",
      "\u001b[2m   Use a production WSGI server instead.\u001b[0m\n",
      " * Debug mode: off\n"
     ]
    },
    {
     "name": "stderr",
     "output_type": "stream",
     "text": [
      " * Running on http://0.0.0.0:5000/ (Press CTRL+C to quit)\n",
      "127.0.0.1 - - [24/Dec/2021 15:56:55] \"\u001b[37mGET /mine HTTP/1.1\u001b[0m\" 200 -\n",
      "127.0.0.1 - - [24/Dec/2021 15:56:55] \"\u001b[37mGET /mine HTTP/1.1\u001b[0m\" 200 -\n",
      "127.0.0.1 - - [24/Dec/2021 15:56:56] \"\u001b[37mGET /mine HTTP/1.1\u001b[0m\" 200 -\n",
      "127.0.0.1 - - [24/Dec/2021 15:56:57] \"\u001b[37mGET /mine HTTP/1.1\u001b[0m\" 200 -\n",
      "127.0.0.1 - - [24/Dec/2021 15:56:57] \"\u001b[37mGET /mine HTTP/1.1\u001b[0m\" 200 -\n",
      "127.0.0.1 - - [24/Dec/2021 15:57:01] \"\u001b[37mGET /chain HTTP/1.1\u001b[0m\" 200 -\n",
      "127.0.0.1 - - [24/Dec/2021 15:57:31] \"\u001b[37mGET /mine HTTP/1.1\u001b[0m\" 200 -\n",
      "127.0.0.1 - - [24/Dec/2021 15:57:32] \"\u001b[37mGET /mine HTTP/1.1\u001b[0m\" 200 -\n",
      "127.0.0.1 - - [24/Dec/2021 15:57:33] \"\u001b[37mGET /mine HTTP/1.1\u001b[0m\" 200 -\n",
      "127.0.0.1 - - [24/Dec/2021 15:57:33] \"\u001b[37mGET /mine HTTP/1.1\u001b[0m\" 200 -\n",
      "127.0.0.1 - - [24/Dec/2021 15:57:38] \"\u001b[37mGET /chain HTTP/1.1\u001b[0m\" 200 -\n",
      "127.0.0.1 - - [25/Dec/2021 08:20:07] \"\u001b[37mGET /mine HTTP/1.1\u001b[0m\" 200 -\n",
      "127.0.0.1 - - [25/Dec/2021 08:20:09] \"\u001b[37mGET /mine HTTP/1.1\u001b[0m\" 200 -\n",
      "127.0.0.1 - - [25/Dec/2021 08:20:09] \"\u001b[37mGET /mine HTTP/1.1\u001b[0m\" 200 -\n",
      "127.0.0.1 - - [25/Dec/2021 08:20:11] \"\u001b[37mGET /mine HTTP/1.1\u001b[0m\" 200 -\n",
      "127.0.0.1 - - [25/Dec/2021 08:20:14] \"\u001b[37mGET /chain HTTP/1.1\u001b[0m\" 200 -\n",
      "127.0.0.1 - - [25/Dec/2021 08:20:30] \"\u001b[37mGET /chain HTTP/1.1\u001b[0m\" 200 -\n",
      "127.0.0.1 - - [25/Dec/2021 08:20:31] \"\u001b[33mGET /favicon.ico HTTP/1.1\u001b[0m\" 404 -\n",
      "127.0.0.1 - - [25/Dec/2021 08:30:35] \"\u001b[37mGET /chain HTTP/1.1\u001b[0m\" 200 -\n",
      "127.0.0.1 - - [25/Dec/2021 08:45:46] \"\u001b[37mGET /chain HTTP/1.1\u001b[0m\" 200 -\n",
      "127.0.0.1 - - [25/Dec/2021 08:48:25] \"\u001b[37mGET /chain HTTP/1.1\u001b[0m\" 200 -\n",
      "127.0.0.1 - - [25/Dec/2021 08:49:03] \"\u001b[37mGET /chain HTTP/1.1\u001b[0m\" 200 -\n",
      "127.0.0.1 - - [25/Dec/2021 08:49:46] \"\u001b[37mGET /chain HTTP/1.1\u001b[0m\" 200 -\n",
      "127.0.0.1 - - [25/Dec/2021 08:50:02] \"\u001b[37mGET /chain HTTP/1.1\u001b[0m\" 200 -\n",
      "127.0.0.1 - - [25/Dec/2021 08:50:22] \"\u001b[37mGET /chain HTTP/1.1\u001b[0m\" 200 -\n",
      "127.0.0.1 - - [25/Dec/2021 08:50:27] \"\u001b[37mGET /chain HTTP/1.1\u001b[0m\" 200 -\n",
      "127.0.0.1 - - [25/Dec/2021 08:51:30] \"\u001b[37mGET /chain HTTP/1.1\u001b[0m\" 200 -\n",
      "127.0.0.1 - - [25/Dec/2021 08:53:13] \"\u001b[37mGET /chain HTTP/1.1\u001b[0m\" 200 -\n",
      "127.0.0.1 - - [25/Dec/2021 08:53:37] \"\u001b[37mGET /chain HTTP/1.1\u001b[0m\" 200 -\n",
      "127.0.0.1 - - [25/Dec/2021 08:54:07] \"\u001b[37mGET /chain HTTP/1.1\u001b[0m\" 200 -\n",
      "127.0.0.1 - - [25/Dec/2021 08:56:18] \"\u001b[37mGET /chain HTTP/1.1\u001b[0m\" 200 -\n",
      "127.0.0.1 - - [25/Dec/2021 08:56:43] \"\u001b[37mGET /chain HTTP/1.1\u001b[0m\" 200 -\n",
      "127.0.0.1 - - [25/Dec/2021 08:57:05] \"\u001b[37mGET /chain HTTP/1.1\u001b[0m\" 200 -\n",
      "127.0.0.1 - - [25/Dec/2021 08:57:31] \"\u001b[37mGET /chain HTTP/1.1\u001b[0m\" 200 -\n",
      "127.0.0.1 - - [25/Dec/2021 08:57:44] \"\u001b[37mGET /chain HTTP/1.1\u001b[0m\" 200 -\n"
     ]
    }
   ],
   "source": [
    "app.run(host=\"0.0.0.0\", port=5000)"
   ]
  },
  {
   "cell_type": "code",
   "execution_count": null,
   "id": "d3837f92",
   "metadata": {},
   "outputs": [],
   "source": []
  }
 ],
 "metadata": {
  "kernelspec": {
   "display_name": "Python 3",
   "language": "python",
   "name": "python3"
  },
  "language_info": {
   "codemirror_mode": {
    "name": "ipython",
    "version": 3
   },
   "file_extension": ".py",
   "mimetype": "text/x-python",
   "name": "python",
   "nbconvert_exporter": "python",
   "pygments_lexer": "ipython3",
   "version": "3.8.8"
  }
 },
 "nbformat": 4,
 "nbformat_minor": 5
}
