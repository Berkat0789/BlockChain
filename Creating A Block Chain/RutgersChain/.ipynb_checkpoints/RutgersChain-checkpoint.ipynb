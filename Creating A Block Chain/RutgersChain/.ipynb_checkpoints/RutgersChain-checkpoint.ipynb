{
 "cells": [
  {
   "cell_type": "code",
   "execution_count": 103,
   "id": "461ef289-1ef6-473d-a38a-132bed195dff",
   "metadata": {},
   "outputs": [],
   "source": [
    "import json\n",
    "import requests\n",
    "import datetime\n",
    "import hashlib\n",
    "from uuid import uuid4\n",
    "from flask import Flask, request, jsonify\n",
    "from urllib.parse import urlparse"
   ]
  },
  {
   "cell_type": "code",
   "execution_count": 104,
   "id": "d25ce28f-6b48-4ec8-9b1d-5a6f9d1dacd7",
   "metadata": {},
   "outputs": [],
   "source": [
    "class Rutgers: \n",
    "    \n",
    "    def __init__(self):\n",
    "        self.chain = []\n",
    "        self.transactions = []\n",
    "        self.addBlock(proof = 1 , prevHash = \"0\")\n",
    "        self.nodes = set()\n",
    "        \n",
    "    def addBlock(self, proof, prevHash):\n",
    "        block = {\n",
    "            \"index\": len(self.chain),\n",
    "            \"timestamp\": str(datetime.datetime.now()),\n",
    "            \"proof\": proof,\n",
    "            \"prevHash\": prevHash,\n",
    "            \"transactions\": self.transactions\n",
    "        }\n",
    "        self.transactions = []\n",
    "        self.chain.append(block)\n",
    "        return block\n",
    "    \n",
    "    def getLastBlock(self):\n",
    "        return self.chain[-1]\n",
    "\n",
    "    def hashBlock(self, block):\n",
    "        encodedBlock = json.dumps(block, sort_keys=True).encode()\n",
    "        return hashlib.sha256(encodedBlock).hexdigest()\n",
    "    \n",
    "    def proofOfWork(self, previousProof):\n",
    "        newProof = 1\n",
    "        solved = False \n",
    "        while solved is False:\n",
    "            hashProblem = hashlib.sha256(str(newProof **2  - previousProof ** 2).encode()).hexdigest()\n",
    "            if hashProblem[:4] == \"0000\":\n",
    "                solved = True\n",
    "            else:\n",
    "                newProof += 1\n",
    "        return newProof\n",
    "    \n",
    "    def addTransaciton(self, sender, receiver, amount):\n",
    "        self.transactions.append({\n",
    "            \"sender\": sender,\n",
    "            \"receiver\": receiver,\n",
    "            \"amount\": amount\n",
    "        })\n",
    "        prevBlock = self.getLastBlock()\n",
    "        return prevBlock[\"index\"] + 1\n",
    "    \n",
    "    def addNode(self, address):\n",
    "        addressIP = urlparse(address)\n",
    "        self.nodes.add(addressIP.path)\n",
    "    \n",
    "    def isChainValid(self, chain):\n",
    "        prevBlock = chain[0]\n",
    "        current_index = 1\n",
    "        \n",
    "        while current_index < len(chain):\n",
    "            current_block = chain[current_index]\n",
    "            current_block_prevHash = current_block[\"prevHash\"]\n",
    "            if current_block_prevHash != self.hashBlock(prevBlock):\n",
    "                return False\n",
    "            currentProof = current_block[\"proof\"]\n",
    "            prevProof = prevBlock[\"proof\"]\n",
    "            hashWork = hashlib.sha256(str(currentProof ** 2 - prevProof ** 2).encode()).hexdigest()\n",
    "            if hashWork[:4] != \"0000\":\n",
    "                return False\n",
    "            prevBlock = current_block\n",
    "            current_index += 1\n",
    "        return True\n",
    "    \n",
    "    def shouldReplaceChain(self):\n",
    "        network = self.nodes\n",
    "        currentLength = len(self.chain)\n",
    "        longestChain = None\n",
    "        \n",
    "        for node in network:\n",
    "            nodeResponse = requests.get(f\"http://{node}/chain\")\n",
    "            if nodeResponse.status_code == 200:\n",
    "                chain = nodeResponse.json()[\"chain\"]\n",
    "                length = nodeResponse.json()[\"length\"]\n",
    "                if length > currentLength and self.isChainValid(chain):\n",
    "                    longestChain = chain\n",
    "                    currentLength = length\n",
    "        if longestChain:\n",
    "            self.chain = chain\n",
    "            return True\n",
    "        return False"
   ]
  },
  {
   "cell_type": "code",
   "execution_count": 105,
   "id": "5640efd0-4274-4555-9d9f-5dd6f2818a80",
   "metadata": {},
   "outputs": [],
   "source": [
    "app = Flask(__name__)"
   ]
  },
  {
   "cell_type": "code",
   "execution_count": 106,
   "id": "9d22532d-517e-458a-a85d-daf1322e2875",
   "metadata": {},
   "outputs": [],
   "source": [
    "nodeAddress = str(uuid4()).replace(\"-\",\"\")"
   ]
  },
  {
   "cell_type": "code",
   "execution_count": 107,
   "id": "7899b99f-6817-46af-95fe-cc04360a506a",
   "metadata": {},
   "outputs": [],
   "source": [
    "rutgers = Rutgers()"
   ]
  },
  {
   "cell_type": "code",
   "execution_count": 108,
   "id": "67e63448-0d9f-4502-a6f0-7067fdbce05f",
   "metadata": {},
   "outputs": [],
   "source": [
    "@app.route(\"/mine\", methods =[\"GET\"])\n",
    "def mine():\n",
    "    previousBlock = rutgers.getLastBlock()\n",
    "    previousProof = previousBlock[\"proof\"]\n",
    "    proof = rutgers.proofOfWork(previousProof)\n",
    "    previousHash = rutgers.hashBlock(previousBlock)\n",
    "    rutgers.addTransaciton(sender=nodeAddress, receiver=\"berkat\", amount=12)\n",
    "    block = rutgers.addBlock(proof, previousProof)\n",
    "    response = {\n",
    "        \"message\": 'You ave successfully mined a coin',\n",
    "        \"index\": block[\"index\"],\n",
    "        \"timestamp\": block[\"timestamp\"],\n",
    "        \"proof\": block[\"proof\"],\n",
    "        \"prevHash\": block[\"prevHash\"],\n",
    "        \"transactions\": block[\"transactions\"]\n",
    "    }\n",
    "    return jsonify(response), 200"
   ]
  },
  {
   "cell_type": "code",
   "execution_count": 109,
   "id": "daf26d06-1c35-4153-a5d3-552b694084cf",
   "metadata": {},
   "outputs": [],
   "source": [
    "@app.route(\"/chain\", methods =[\"GET\"])\n",
    "def chain():\n",
    "    response = {\n",
    "        \"chain\": rutgers.chain,\n",
    "        \"length\": len(rutgers.chain)\n",
    "    }\n",
    "    return jsonify(response), 200"
   ]
  },
  {
   "cell_type": "code",
   "execution_count": 110,
   "id": "e552de58-b31e-49e7-b005-1569c1372dea",
   "metadata": {},
   "outputs": [],
   "source": [
    "@app.route(\"/valid\", methods =[\"GET\"])\n",
    "def valid():\n",
    "    isValid = rutgers.isChainValid(rutgers.chain)\n",
    "    if isValid:\n",
    "        respone = {\n",
    "            \"message\": \"The chain is vaid and can be built on\"\n",
    "        }\n",
    "    else:\n",
    "         respone = {\n",
    "            \"message\": \"INVALID CHAIN\"\n",
    "        }\n",
    "    return jsonify(respone), 200"
   ]
  },
  {
   "cell_type": "code",
   "execution_count": 111,
   "id": "5fe418db-44e2-4102-a436-c9ac59f2f17c",
   "metadata": {},
   "outputs": [],
   "source": [
    "@app.route(\"/connect\", methods =[\"POST\"])\n",
    "def connect():\n",
    "    nodesResponse = request.get_json()\n",
    "    nodes = nodesResponse.get(\"nodes\")\n",
    "    if nodes is None:\n",
    "        return \"there are no nodes\", 400\n",
    "    for node in nodes:\n",
    "        rutgers.addNode(node)\n",
    "    response = {\n",
    "        \"message\": \"all nodes have ben added\",\n",
    "        \"nodeList\": list(rutgers.nodes)\n",
    "    }\n",
    "    return jsonify(response), 201"
   ]
  },
  {
   "cell_type": "code",
   "execution_count": 112,
   "id": "13802853-212e-41f3-9274-7d4fd43fafc7",
   "metadata": {},
   "outputs": [],
   "source": [
    "@app.route(\"/transaction\", methods =[\"POST\"])\n",
    "def transaction():\n",
    "    transactionJson = request.get_json()\n",
    "    transKeys = [\"sender\",\"receiver\", \"amount\"]\n",
    "    if not all in (key in transactionJson for key in transKeys):\n",
    "        return \"keys are missing\", 401\n",
    "    index = rutgers.addTransaciton(transactionJson[\"sender\"], transactionJson[\"receiver\"], transactionJson[\"amount\"])\n",
    "    response = {\n",
    "        \"message\": f\"transaciton add and will be added to undex {index}\"\n",
    "    }\n",
    "    return jsonify(response), 201"
   ]
  },
  {
   "cell_type": "code",
   "execution_count": 113,
   "id": "9cdab4fb-b488-4da8-a0d7-4441c9be3b84",
   "metadata": {},
   "outputs": [],
   "source": [
    "@app.route(\"/replace\", methods =[\"GET\"])\n",
    "def replace():\n",
    "    shouldReplace = rutgers.shouldReplaceChain()\n",
    "    if shouldReplace:\n",
    "        response = {\n",
    "            \"message\": 'a longer chain on the network was discovered, and yours was updates',\n",
    "            \"chain\": rutgers.chain,\n",
    "            \"length\": len(rutgers.chain)\n",
    "        }\n",
    "    else:\n",
    "        response = {\n",
    "            \"message\": 'Your chain is up to date',\n",
    "            \"chain\": rutgers.chain,\n",
    "            \"length\": len(rutgers.chain)\n",
    "        }\n",
    "    return jsonify(response), 200"
   ]
  },
  {
   "cell_type": "code",
   "execution_count": null,
   "id": "3d1d2dc3-d0eb-4464-8b10-e95b525916f0",
   "metadata": {},
   "outputs": [
    {
     "name": "stdout",
     "output_type": "stream",
     "text": [
      " * Serving Flask app \"__main__\" (lazy loading)\n",
      " * Environment: production\n",
      "\u001b[31m   WARNING: This is a development server. Do not use it in a production deployment.\u001b[0m\n",
      "\u001b[2m   Use a production WSGI server instead.\u001b[0m\n",
      " * Debug mode: off\n"
     ]
    },
    {
     "name": "stderr",
     "output_type": "stream",
     "text": [
      " * Running on http://0.0.0.0:3400/ (Press CTRL+C to quit)\n"
     ]
    }
   ],
   "source": [
    "app.run(host=\"0.0.0.0\", port=3400)"
   ]
  },
  {
   "cell_type": "code",
   "execution_count": null,
   "id": "9656e713-15a4-424b-ad61-9934f598cad8",
   "metadata": {},
   "outputs": [],
   "source": []
  },
  {
   "cell_type": "code",
   "execution_count": null,
   "id": "77e48290-14ec-4915-975b-0db2ac30cf98",
   "metadata": {},
   "outputs": [],
   "source": []
  }
 ],
 "metadata": {
  "kernelspec": {
   "display_name": "Python 3",
   "language": "python",
   "name": "python3"
  },
  "language_info": {
   "codemirror_mode": {
    "name": "ipython",
    "version": 3
   },
   "file_extension": ".py",
   "mimetype": "text/x-python",
   "name": "python",
   "nbconvert_exporter": "python",
   "pygments_lexer": "ipython3",
   "version": "3.8.8"
  }
 },
 "nbformat": 4,
 "nbformat_minor": 5
}
