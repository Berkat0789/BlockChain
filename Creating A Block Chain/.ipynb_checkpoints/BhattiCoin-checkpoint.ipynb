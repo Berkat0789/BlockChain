{
 "cells": [
  {
   "cell_type": "code",
   "execution_count": 12,
   "id": "ff5d9177-77eb-4cea-9f65-dc767f0d875e",
   "metadata": {},
   "outputs": [],
   "source": [
    "import datetime\n",
    "import json\n",
    "import hashlib\n",
    "from flask import Flask, request, jsonify\n",
    "from uuid import uuid4\n",
    "from urllib.parse import urlparse\n",
    "import requests"
   ]
  },
  {
   "cell_type": "code",
   "execution_count": 13,
   "id": "301ce660-f923-4c86-aeec-7aebd16429f7",
   "metadata": {},
   "outputs": [],
   "source": [
    "class BhattiChain:\n",
    "    def __init__(self):\n",
    "        self.chain = []\n",
    "        self.transactions = []\n",
    "        self.nodes = set()\n",
    "        self.addBlock(proof = 1, prevHash= \"0\")\n",
    "    \n",
    "    def addBlock(self, proof, prevHash):\n",
    "        block = {\n",
    "            \"index\": len(self.chain),\n",
    "            \"timestamp\": str(datetime.datetime.now()),\n",
    "            \"proof\": proof,\n",
    "            \"prevHash\": prevHash\n",
    "        }\n",
    "        self.transactions = []\n",
    "        self.chain.append(block)\n",
    "        return block\n",
    "    \n",
    "    def getLastBlock(self):\n",
    "        return self.chain[-1]\n",
    "    \n",
    "    def hashBlock(self, block):\n",
    "        encodedBlock = json.dumps(block, sort_keys=True).encode()\n",
    "        return hashlib.sha256(encodedBlock).hexdigest()\n",
    "    \n",
    "    def proofOfWork(self, prevProof):\n",
    "        new_proof = 1\n",
    "        solved = False\n",
    "        \n",
    "        while solved is False:\n",
    "            hashProblem = hashlib.sha256(str(new_proof **2 - prevProof ** 2).encode()).hexdigest()\n",
    "            if hashProblem[:4] == \"0000\":\n",
    "                solved = True\n",
    "            else:\n",
    "                new_proof += 1\n",
    "        return new_proof\n",
    "    \n",
    "    def isChainValid(self, chain):\n",
    "        previousBlock = chain[0]\n",
    "        currentIndex = 1\n",
    "        \n",
    "        while currentIndex < len(chain):\n",
    "            currentBlock = chain[currentIndex]\n",
    "            currentPrevHash = currentBlock[\"prevHash\"]\n",
    "            if currentPrevHash != self.hashBlock(previousBlock):\n",
    "                return False\n",
    "            currentProof = currentBlock[\"proof\"]\n",
    "            previousProof = previousBlock[\"proof\"]\n",
    "            hashProblem = hashlib.sha256(str(currentProof **2 - previousProof ** 2).encode()).hexdigest()\n",
    "            if hashProblem[:4] != \"0000\":\n",
    "                return False\n",
    "            previousBlock = currentBlock\n",
    "            currentIndex += 1\n",
    "        return True\n",
    "    \n",
    "    def addTransaction(self, sender, receiver, amount):\n",
    "        self.transactions.append({\n",
    "            \"sender\": sender,\n",
    "            \"receiver\": receiver,\n",
    "            \"amount\": amount\n",
    "        })\n",
    "        latestBlock = self.getLastBlock()\n",
    "        return latestBlock[\"index\"] + 1\n",
    "    \n",
    "    def addNode(self, ipAddress):\n",
    "        nodeIp = urlparse(ipAddress)\n",
    "        self.nodes.add(nodeIp.netloc)\n",
    "    \n",
    "    def shouldReplaceChain(self):\n",
    "        network = self.nodes\n",
    "        largestChain = None\n",
    "        maxChainLength = len(self.chain)\n",
    "        \n",
    "        for node in network:\n",
    "            response = requests.get(f\"http://{node}/chain\")\n",
    "            if response.status_code == 200:\n",
    "                length = response.json()[\"length\"]\n",
    "                chain = response.json()[\"chain\"]\n",
    "                if length > maxChainLength and self.isChainValid(chain):\n",
    "                    largestChain = chain\n",
    "                    maxChainLength = length\n",
    "            if largestChain:\n",
    "                self.chain =largestChain\n",
    "                return True\n",
    "        return False    "
   ]
  },
  {
   "cell_type": "code",
   "execution_count": 14,
   "id": "4d461c09-fcb7-4a51-ad87-b94014e7db3b",
   "metadata": {},
   "outputs": [],
   "source": [
    "bhatti  = BhattiChain()"
   ]
  },
  {
   "cell_type": "code",
   "execution_count": 15,
   "id": "526ebfa5-9ff4-408e-b4b7-a4857cbb434d",
   "metadata": {},
   "outputs": [],
   "source": [
    "nodeAddress = str(uuid4()).replace(\"-\", \"\")"
   ]
  },
  {
   "cell_type": "code",
   "execution_count": 16,
   "id": "c32c4845-4b12-4314-b650-73fb0b5334cd",
   "metadata": {},
   "outputs": [],
   "source": [
    "app = Flask(__name__)"
   ]
  },
  {
   "cell_type": "code",
   "execution_count": 17,
   "id": "971a3f46-ce22-4bc0-b8e6-7924159f9a71",
   "metadata": {},
   "outputs": [],
   "source": [
    "@app.route(\"/transaction\", methods = [\"POST\"])\n",
    "def transaction():\n",
    "    transJson = request.get_json()\n",
    "    transKeys = [\"sender\", \"receiver\", \"amount\"]\n",
    "    if not all (key in transJson for key in transKeys):\n",
    "        return \"There are some keys missing\"\n",
    "    index = bhatti.addTransaction(transJson[\"sender\"], transJson[\"receiver\"], transJson[\"amount\"])\n",
    "    response = {\n",
    "        \"success\": f\"The transaciton will be added to the next block at index {index}\"\n",
    "    }\n",
    "    return jsonify(response), 201"
   ]
  },
  {
   "cell_type": "code",
   "execution_count": 18,
   "id": "97cbd9d0-7f44-4121-a385-7aab145120b8",
   "metadata": {},
   "outputs": [],
   "source": [
    "@app.route(\"/connect\", methods = [\"POST\"])\n",
    "def connect():\n",
    "    nodeJson = request.get_json()\n",
    "    nodes = nodeJson.get(\"nodes\")\n",
    "    if nodes is None:\n",
    "        return \"Nodes are empty\"\n",
    "    for node in nodes:\n",
    "        bhatti.addNode(node)\n",
    "    response = {\n",
    "        \"success\": \"All nodes have been added\",\n",
    "        \"length\": list(bhatti.nodes)\n",
    "    }\n",
    "    return jsonify(response), 201"
   ]
  },
  {
   "cell_type": "code",
   "execution_count": 19,
   "id": "ac4f4937-66bd-4440-b34b-58a78a8c70b3",
   "metadata": {},
   "outputs": [],
   "source": [
    "@app.route(\"/replacechain\", methods = [\"GET\"])\n",
    "def replacechain():\n",
    "    replace = bhatti.shouldReplaceChain()\n",
    "    if replace:\n",
    "        response = {\n",
    "            \"message\":\"Chain will be replaced since we found a larger\",\n",
    "            \"chain\": bhatti.chain,\n",
    "            \"chainLength\": len(bhatti.chain)\n",
    "        }\n",
    "    else:\n",
    "         response = {\n",
    "            \"message\":\"Chain was fine tere werent any changes \",\n",
    "            \"chain\": bhatti.chain,\n",
    "            \"chainLength\": len(bhatti.chain)\n",
    "        }\n",
    "    return jsonify(response), 200\n",
    "        "
   ]
  },
  {
   "cell_type": "code",
   "execution_count": 20,
   "id": "b6a8300e-c620-4d50-96c1-cc381a844b5f",
   "metadata": {},
   "outputs": [],
   "source": [
    "@app.route(\"/chain\", methods = [\"GET\"])\n",
    "def chain():\n",
    "    response = {\n",
    "        \"chain\": bhatti.chain,\n",
    "        \"length\": len(bhatti.chain)\n",
    "    }\n",
    "    return jsonify(response), 200"
   ]
  },
  {
   "cell_type": "code",
   "execution_count": 21,
   "id": "7b249ab6-4545-4209-8590-8f8c0524f937",
   "metadata": {},
   "outputs": [],
   "source": [
    "@app.route(\"/mine\", methods = [\"GET\"])\n",
    "def mine():\n",
    "    previousBlock = bhatti.getLastBlock()\n",
    "    previousProof = previousBlock[\"proof\"]\n",
    "    proof = bhatti.proofOfWork(previousProof)\n",
    "    previousHash = bhatti.hashBlock(previousBlock)\n",
    "    bhatti.addTransaction(sender=nodeAddress, receiver =\"Berkat\", amount = 10)\n",
    "    block = bhatti.addBlock(proof, previousHash)\n",
    "    response = {\n",
    "        \"success\": \"you have successfully mined a block!!!!!\",\n",
    "        \"index\": block[\"index\"],\n",
    "        \"proof\": block[\"proof\"],\n",
    "        \"datetime\": block[\"timestamp\"]\n",
    "    }\n",
    "    return jsonify(response), 200"
   ]
  },
  {
   "cell_type": "code",
   "execution_count": 11,
   "id": "a9bfde1b-cdc0-4d3a-900a-6c2adf4aa133",
   "metadata": {},
   "outputs": [
    {
     "name": "stdout",
     "output_type": "stream",
     "text": [
      " * Serving Flask app \"__main__\" (lazy loading)\n",
      " * Environment: production\n",
      "\u001b[31m   WARNING: This is a development server. Do not use it in a production deployment.\u001b[0m\n",
      "\u001b[2m   Use a production WSGI server instead.\u001b[0m\n",
      " * Debug mode: off\n"
     ]
    },
    {
     "name": "stderr",
     "output_type": "stream",
     "text": [
      " * Running on http://0.0.0.0:5000/ (Press CTRL+C to quit)\n",
      "127.0.0.1 - - [30/Dec/2021 00:30:13] \"\u001b[37mGET /chain HTTP/1.1\u001b[0m\" 200 -\n",
      "127.0.0.1 - - [30/Dec/2021 00:33:37] \"\u001b[37mPOST /connect HTTP/1.1\u001b[0m\" 201 -\n",
      "127.0.0.1 - - [30/Dec/2021 00:33:58] \"\u001b[37mGET /mine HTTP/1.1\u001b[0m\" 200 -\n",
      "127.0.0.1 - - [30/Dec/2021 00:34:02] \"\u001b[37mGET /mine HTTP/1.1\u001b[0m\" 200 -\n",
      "127.0.0.1 - - [30/Dec/2021 00:34:06] \"\u001b[37mGET /mine HTTP/1.1\u001b[0m\" 200 -\n",
      "127.0.0.1 - - [30/Dec/2021 00:34:11] \"\u001b[37mGET /chain HTTP/1.1\u001b[0m\" 200 -\n",
      "127.0.0.1 - - [30/Dec/2021 00:34:47] \"\u001b[37mGET /chain HTTP/1.1\u001b[0m\" 200 -\n",
      "[2021-12-30 00:36:15,774] ERROR in app: Exception on /transaction [POST]\n",
      "Traceback (most recent call last):\n",
      "  File \"/opt/anaconda3/lib/python3.8/site-packages/flask/app.py\", line 2447, in wsgi_app\n",
      "    response = self.full_dispatch_request()\n",
      "  File \"/opt/anaconda3/lib/python3.8/site-packages/flask/app.py\", line 1952, in full_dispatch_request\n",
      "    rv = self.handle_user_exception(e)\n",
      "  File \"/opt/anaconda3/lib/python3.8/site-packages/flask/app.py\", line 1821, in handle_user_exception\n",
      "    reraise(exc_type, exc_value, tb)\n",
      "  File \"/opt/anaconda3/lib/python3.8/site-packages/flask/_compat.py\", line 39, in reraise\n",
      "    raise value\n",
      "  File \"/opt/anaconda3/lib/python3.8/site-packages/flask/app.py\", line 1950, in full_dispatch_request\n",
      "    rv = self.dispatch_request()\n",
      "  File \"/opt/anaconda3/lib/python3.8/site-packages/flask/app.py\", line 1936, in dispatch_request\n",
      "    return self.view_functions[rule.endpoint](**req.view_args)\n",
      "  File \"<ipython-input-6-ec15584d7912>\", line 5, in transaction\n",
      "    if not all (key in json for key in transKeys):\n",
      "  File \"<ipython-input-6-ec15584d7912>\", line 5, in <genexpr>\n",
      "    if not all (key in json for key in transKeys):\n",
      "TypeError: argument of type 'module' is not iterable\n",
      "127.0.0.1 - - [30/Dec/2021 00:36:15] \"\u001b[35m\u001b[1mPOST /transaction HTTP/1.1\u001b[0m\" 500 -\n"
     ]
    }
   ],
   "source": [
    "app.run(host = \"0.0.0.0\", port=5000)"
   ]
  },
  {
   "cell_type": "code",
   "execution_count": null,
   "id": "0fcf8a36-06f1-4ccb-86e4-2b931d6b907f",
   "metadata": {},
   "outputs": [],
   "source": []
  },
  {
   "cell_type": "code",
   "execution_count": null,
   "id": "0d7f6f74-e740-4dce-9d21-b3504de74b6d",
   "metadata": {},
   "outputs": [],
   "source": []
  },
  {
   "cell_type": "code",
   "execution_count": null,
   "id": "70e83ab6-7bb6-4d2f-9ad9-40e7df054f5e",
   "metadata": {},
   "outputs": [],
   "source": []
  }
 ],
 "metadata": {
  "kernelspec": {
   "display_name": "Python 3",
   "language": "python",
   "name": "python3"
  },
  "language_info": {
   "codemirror_mode": {
    "name": "ipython",
    "version": 3
   },
   "file_extension": ".py",
   "mimetype": "text/x-python",
   "name": "python",
   "nbconvert_exporter": "python",
   "pygments_lexer": "ipython3",
   "version": "3.8.8"
  }
 },
 "nbformat": 4,
 "nbformat_minor": 5
}
