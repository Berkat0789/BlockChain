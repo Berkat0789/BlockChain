{
 "cells": [
  {
   "cell_type": "code",
   "execution_count": 23,
   "id": "bf3f4058",
   "metadata": {},
   "outputs": [],
   "source": [
    "from flask import Flask, jsonify\n",
    "import datetime\n",
    "import hashlib\n",
    "import json"
   ]
  },
  {
   "cell_type": "code",
   "execution_count": 15,
   "id": "2c87864f",
   "metadata": {},
   "outputs": [],
   "source": [
    "class Bitcoin:\n",
    "    def __init__(self):\n",
    "        self.chain = []\n",
    "        self.create_block(proof = 1, prev = \"0\")\n",
    "        \n",
    "    def create_block(self, proof, prev):\n",
    "        block = {\n",
    "            \"index\": len(self.chain) + 1,\n",
    "            \"timestamp\": datetime.datetime.now(),\n",
    "            \"proof\": proof,\n",
    "            \"prev\": prev\n",
    "        }\n",
    "        self.chain.append(block)\n",
    "        return block\n",
    "    \n",
    "    def get_last_block(self):\n",
    "        return self.chain[-1]\n",
    "    \n",
    "    def get_proof(self, prev):\n",
    "        new_proof = 1\n",
    "        solved = False\n",
    "        while solved is False:\n",
    "            hashProblem = hashlib.sha256(str(new_proof ** 1 - prev ** 2).encode()).hexdigest()\n",
    "            if hashProblem[:4] == \"0000\":\n",
    "                solved = True\n",
    "            else:\n",
    "                new_proof += 1\n",
    "                print(new_proof)\n",
    "        return new_proof\n",
    "    \n",
    "    def hash_Block(self, block):\n",
    "        encoded = json.dumps(block, sort_keys=True).encode()\n",
    "        print(encoded)\n",
    "        return hashlib.sha256(encoded).hexdigest()\n",
    "    \n",
    "    def is_chain_valid(self, chain):\n",
    "        previous_block = chain[0]\n",
    "        current_index = 1\n",
    "        \n",
    "        while current_index < len(chain):\n",
    "            block = chain[current_index]\n",
    "            if block[\"prev\"] != self.encode_Block(previous_block):\n",
    "                return False\n",
    "            current_Proof = block[\"proof\"]\n",
    "            prev_proof = previous_block[\"proof\"]\n",
    "            hashProof = hashlib.sha256(str(current_Proof **2 - prev_proof **2).encode()).hexdigest()\n",
    "            if hashProof[:4] != \"0000\":\n",
    "                return False\n",
    "            previous_block = block\n",
    "            current_index += 1\n",
    "        return True"
   ]
  },
  {
   "cell_type": "code",
   "execution_count": null,
   "id": "edfabbf7",
   "metadata": {},
   "outputs": [],
   "source": []
  },
  {
   "cell_type": "code",
   "execution_count": 41,
   "id": "1e75a6c5",
   "metadata": {},
   "outputs": [],
   "source": [
    "class Etherium:\n",
    "    def __init__(self):\n",
    "        self.chain = []\n",
    "        self.create_block(proof = 1, previous_hash = '0')\n",
    " \n",
    "    def create_block(self, proof, previous_hash):\n",
    "        block = {'index': len(self.chain) + 1,\n",
    "        'timestamp': str(datetime.datetime.now()),\n",
    "        'proof': proof,\n",
    "        'previous_hash': previous_hash}\n",
    "        self.chain.append(block)\n",
    "        return block\n",
    " \n",
    "    def get_previous_block(self):\n",
    "        return self.chain[-1]\n",
    " \n",
    "    def proof_of_work(self, previous_proof):\n",
    "        new_proof = 1\n",
    "        check_proof = False\n",
    "        while check_proof is False:\n",
    "            hash_operation = hashlib.sha256(str(new_proof**2 - previous_proof**2).encode()).hexdigest()\n",
    "            if hash_operation[:4] == '0000':\n",
    "                print(hash_operation[:10])\n",
    "                check_proof = True\n",
    "            else:\n",
    "                new_proof += 1\n",
    "        return new_proof\n",
    " \n",
    "    def hash(self, block):\n",
    "        encoded_block = json.dumps(block, sort_keys = True).encode()\n",
    "        return hashlib.sha256(encoded_block).hexdigest()\n",
    " \n",
    "    def is_chain_valid(self, chain):\n",
    "        previous_block = chain[0]\n",
    "        block_index = 1\n",
    "        while block_index < len(chain):\n",
    "            block = chain[block_index]\n",
    "            if block['previous_hash'] != self.hash(previous_block):\n",
    "                return False\n",
    "            previous_proof = previous_block['proof']\n",
    "            proof = block['proof']\n",
    "            hash_operation = hashlib.sha256(str(proof**2 - previous_proof**2).encode()).hexdigest()\n",
    "            if hash_operation[:4] != '0000':\n",
    "                return False\n",
    "            previous_block = block\n",
    "            block_index += 1\n",
    "            return True"
   ]
  },
  {
   "cell_type": "code",
   "execution_count": 42,
   "id": "74f4e8f7",
   "metadata": {},
   "outputs": [],
   "source": [
    "app = Flask(__name__)"
   ]
  },
  {
   "cell_type": "code",
   "execution_count": 43,
   "id": "d3478b61",
   "metadata": {},
   "outputs": [],
   "source": [
    "ETH = Etherium()"
   ]
  },
  {
   "cell_type": "code",
   "execution_count": 44,
   "id": "ff6035c0",
   "metadata": {},
   "outputs": [],
   "source": [
    "@app.route(\"/mine_block\", methods = [\"GET\"])\n",
    "def mine_block():\n",
    "    ### need POW(problem fro mthe last block) the last proof of the last block\n",
    "    last_block = ETH.get_previous_block()\n",
    "    prev_proof = last_block[\"proof\"] ## previous proof key\n",
    "    proof = ETH.proof_of_work(prev_proof)\n",
    "    ##Create block and append block\n",
    "    prev_hash = ETH.hash(last_block)\n",
    "    block = ETH.create_block(proof, prev_hash)\n",
    "    response = {'message': 'Congratulations, you just mined a block!',\n",
    "        'index': block['index'],\n",
    "        'timestamp': block['timestamp'],\n",
    "        'proof': block['proof'],\n",
    "        'previous_hash': block['previous_hash']}\n",
    "    return jsonify(response), 200"
   ]
  },
  {
   "cell_type": "code",
   "execution_count": 17,
   "id": "aacf2dfa",
   "metadata": {},
   "outputs": [],
   "source": []
  },
  {
   "cell_type": "code",
   "execution_count": 18,
   "id": "8c274531",
   "metadata": {},
   "outputs": [],
   "source": []
  },
  {
   "cell_type": "code",
   "execution_count": 19,
   "id": "8eb977ee",
   "metadata": {},
   "outputs": [],
   "source": [
    "@app.route(\"/get_chain\", methods = [\"GET\"])\n",
    "def get_chain():\n",
    "    resposne = {\n",
    "    \"chain\": BTH.chain,\n",
    "    \"length\": len(BTH.chain)\n",
    "    }\n",
    "    return jsonify(response), 200"
   ]
  },
  {
   "cell_type": "code",
   "execution_count": null,
   "id": "112a414a",
   "metadata": {},
   "outputs": [
    {
     "name": "stdout",
     "output_type": "stream",
     "text": [
      " * Serving Flask app \"__main__\" (lazy loading)\n",
      " * Environment: production\n",
      "\u001b[31m   WARNING: This is a development server. Do not use it in a production deployment.\u001b[0m\n",
      "\u001b[2m   Use a production WSGI server instead.\u001b[0m\n",
      " * Debug mode: off\n"
     ]
    },
    {
     "name": "stderr",
     "output_type": "stream",
     "text": [
      " * Running on http://0.0.0.0:5000/ (Press CTRL+C to quit)\n",
      "127.0.0.1 - - [21/Dec/2021 13:50:21] \"\u001b[37mGET /mine_block HTTP/1.1\u001b[0m\" 200 -\n"
     ]
    },
    {
     "name": "stdout",
     "output_type": "stream",
     "text": [
      "0000\n"
     ]
    },
    {
     "name": "stderr",
     "output_type": "stream",
     "text": [
      "127.0.0.1 - - [21/Dec/2021 13:50:23] \"\u001b[37mGET /mine_block HTTP/1.1\u001b[0m\" 200 -\n"
     ]
    },
    {
     "name": "stdout",
     "output_type": "stream",
     "text": [
      "0000\n"
     ]
    },
    {
     "name": "stderr",
     "output_type": "stream",
     "text": [
      "127.0.0.1 - - [21/Dec/2021 13:50:24] \"\u001b[37mGET /mine_block HTTP/1.1\u001b[0m\" 200 -\n"
     ]
    },
    {
     "name": "stdout",
     "output_type": "stream",
     "text": [
      "0000\n"
     ]
    }
   ],
   "source": [
    "app.run(host=\"0.0.0.0\", port=5000)"
   ]
  },
  {
   "cell_type": "code",
   "execution_count": null,
   "id": "c3854316",
   "metadata": {},
   "outputs": [],
   "source": []
  }
 ],
 "metadata": {
  "kernelspec": {
   "display_name": "Python 3",
   "language": "python",
   "name": "python3"
  },
  "language_info": {
   "codemirror_mode": {
    "name": "ipython",
    "version": 3
   },
   "file_extension": ".py",
   "mimetype": "text/x-python",
   "name": "python",
   "nbconvert_exporter": "python",
   "pygments_lexer": "ipython3",
   "version": "3.8.8"
  }
 },
 "nbformat": 4,
 "nbformat_minor": 5
}
