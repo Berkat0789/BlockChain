{
 "cells": [
  {
   "cell_type": "code",
   "execution_count": 1,
   "id": "ff5d9177-77eb-4cea-9f65-dc767f0d875e",
   "metadata": {},
   "outputs": [],
   "source": [
    "import datetime\n",
    "import json\n",
    "import hashlib\n",
    "from flask import Flask, request, jsonify\n",
    "from uuid import uuid4\n",
    "from urllib.parse import urlparse\n",
    "import requests"
   ]
  },
  {
   "cell_type": "code",
   "execution_count": 2,
   "id": "301ce660-f923-4c86-aeec-7aebd16429f7",
   "metadata": {},
   "outputs": [],
   "source": [
    "class BhattiChain:\n",
    "    def __init__(self):\n",
    "        self.chain = []\n",
    "        self.transactions = []\n",
    "        self.nodes = set()\n",
    "        self.addBlock(proof = 1, prevHash= \"0\")\n",
    "    \n",
    "    def addBlock(self, proof, prevHash):\n",
    "        block = {\n",
    "            \"index\": len(self.chain),\n",
    "            \"timestamp\": str(datetime.datetime.now()),\n",
    "            \"proof\": proof,\n",
    "            \"prevHash\": prevHash\n",
    "        }\n",
    "        self.transactions = []\n",
    "        self.chain.append(block)\n",
    "        return block\n",
    "    \n",
    "    def getLastBlock(self):\n",
    "        return self.chain[-1]\n",
    "    \n",
    "    def hashBlock(self, block):\n",
    "        encodedBlock = json.dumps(block, sort_keys=True).encode()\n",
    "        return hashlib.sha256(encodedBlock).hexdigest()\n",
    "    \n",
    "    def proofOfWork(self, prevProof):\n",
    "        new_proof = 1\n",
    "        solved = False\n",
    "        \n",
    "        while solved is False:\n",
    "            hashProblem = hashlib.sha256(str(new_proof **2 - prevProof ** 2).encode()).hexdigest()\n",
    "            if hashProblem[:4] == \"0000\":\n",
    "                solved = True\n",
    "            else:\n",
    "                new_proof += 1\n",
    "        return new_proof\n",
    "    \n",
    "    def isChainValid(self, chain):\n",
    "        previousBlock = chain[0]\n",
    "        currentIndex = 1\n",
    "        \n",
    "        while currentIndex < len(chain):\n",
    "            currentBlock = chain[currentIndex]\n",
    "            currentPrevHash = currentBlock[\"prevHash\"]\n",
    "            if currentPrevHash != self.hashBlock(previousBlock):\n",
    "                return False\n",
    "            currentProof = currentBlock[\"proof\"]\n",
    "            previousProof = previousBlock[\"proof\"]\n",
    "            hashProblem = hashlib.sha256(str(currentProof **2 - previousProof ** 2).encode()).hexdigest()\n",
    "            if hashProblem[:4] != \"0000\":\n",
    "                return False\n",
    "            previousBlock = currentBlock\n",
    "            currentIndex += 1\n",
    "        return True\n",
    "    \n",
    "    def addTransaction(self, sender, receiver, amount):\n",
    "        self.transactions.append({\n",
    "            \"sender\": sender,\n",
    "            \"receiver\": receiver,\n",
    "            \"amount\": amount\n",
    "        })\n",
    "        latestBlock = self.getLastBlock()\n",
    "        return latestBlock[\"index\"] + 1\n",
    "    \n",
    "    def addNode(self, ipAddress):\n",
    "        nodeIp = urlparse(ipAddress)\n",
    "        self.nodes.add(nodeIp.netloc)\n",
    "    \n",
    "    def shouldReplaceChain(self):\n",
    "        network = self.nodes\n",
    "        largestChain = None\n",
    "        maxChainLength = len(self.chain)\n",
    "        \n",
    "        for node in network:\n",
    "            response = requests.get(f\"http://{node}/chain\")\n",
    "            if response.status_code == 200:\n",
    "                length = response.json()[\"length\"]\n",
    "                chain = response.json()[\"chain\"]\n",
    "                if length > maxChainLength and self.isChainValid(chain):\n",
    "                    largestChain = chain\n",
    "                    maxChainLength = length\n",
    "            if largestChain:\n",
    "                self.chain =largestChain\n",
    "                return True\n",
    "        return False    "
   ]
  },
  {
   "cell_type": "code",
   "execution_count": 3,
   "id": "4d461c09-fcb7-4a51-ad87-b94014e7db3b",
   "metadata": {},
   "outputs": [],
   "source": [
    "bhatti  = BhattiChain()"
   ]
  },
  {
   "cell_type": "code",
   "execution_count": 4,
   "id": "526ebfa5-9ff4-408e-b4b7-a4857cbb434d",
   "metadata": {},
   "outputs": [],
   "source": [
    "nodeAddress = str(uuid4()).replace(\"-\", \"\")"
   ]
  },
  {
   "cell_type": "code",
   "execution_count": 5,
   "id": "c32c4845-4b12-4314-b650-73fb0b5334cd",
   "metadata": {},
   "outputs": [],
   "source": [
    "app = Flask(__name__)"
   ]
  },
  {
   "cell_type": "code",
   "execution_count": 6,
   "id": "971a3f46-ce22-4bc0-b8e6-7924159f9a71",
   "metadata": {},
   "outputs": [],
   "source": [
    "@app.route(\"/transaction\", methods = [\"POST\"])\n",
    "def transaction():\n",
    "    transJson = request.get_json()\n",
    "    transKeys = [\"sender\", \"receiver\", \"amount\"]\n",
    "    if not all (key in json for key in transKeys):\n",
    "        return \"There are some keys missing\"\n",
    "    index = bhatti.addTransaction(transJson[\"sender\"], transJson[\"receiver\"], transJson[\"amount\"])\n",
    "    response = {\n",
    "        \"success\": f\"The transaciton will be added to the next block at index {index}\"\n",
    "    }\n",
    "    return jsonify(response), 201"
   ]
  },
  {
   "cell_type": "code",
   "execution_count": 7,
   "id": "97cbd9d0-7f44-4121-a385-7aab145120b8",
   "metadata": {},
   "outputs": [],
   "source": [
    "@app.route(\"/connect\", methods = [\"POST\"])\n",
    "def connect():\n",
    "    nodeJson = request.get_json()\n",
    "    nodes = nodeJson.get(\"nodes\")\n",
    "    if nodes is None:\n",
    "        return \"Nodes are empty\"\n",
    "    for node in nodes:\n",
    "        bhatti.addNode(node)\n",
    "    response = {\n",
    "        \"success\": \"All nodes have been added\",\n",
    "        \"length\": list(bhatti.nodes)\n",
    "    }\n",
    "    return jsonify(response), 201"
   ]
  },
  {
   "cell_type": "code",
   "execution_count": 8,
   "id": "ac4f4937-66bd-4440-b34b-58a78a8c70b3",
   "metadata": {},
   "outputs": [],
   "source": [
    "@app.route(\"/replacechain\", methods = [\"GET\"])\n",
    "def replacechain():\n",
    "    replace = bhatti.shouldReplaceChain()\n",
    "    if replace:\n",
    "        response = {\n",
    "            \"message\":\"Chain will be replaced since we found a larger\",\n",
    "            \"chain\": bhatti.chain,\n",
    "            \"chainLength\": len(bhatti.chain)\n",
    "        }\n",
    "    else:\n",
    "         response = {\n",
    "            \"message\":\"Chain was fine tere werent any changes \",\n",
    "            \"chain\": bhatti.chain,\n",
    "            \"chainLength\": len(bhatti.chain)\n",
    "        }\n",
    "    return jsonify(response), 200\n",
    "        "
   ]
  },
  {
   "cell_type": "code",
   "execution_count": 9,
   "id": "b6a8300e-c620-4d50-96c1-cc381a844b5f",
   "metadata": {},
   "outputs": [],
   "source": [
    "@app.route(\"/chain\", methods = [\"GET\"])\n",
    "def chain():\n",
    "    response = {\n",
    "        \"chain\": bhatti.chain,\n",
    "        \"length\": len(bhatti.chain)\n",
    "    }\n",
    "    return jsonify(response), 200"
   ]
  },
  {
   "cell_type": "code",
   "execution_count": 11,
   "id": "7b249ab6-4545-4209-8590-8f8c0524f937",
   "metadata": {},
   "outputs": [],
   "source": [
    "@app.route(\"/mine\", methods = [\"GET\"])\n",
    "def mine():\n",
    "    previousBlock = bhatti.getLastBlock()\n",
    "    previousProof = previousBlock[\"proof\"]\n",
    "    proof = bhatti.proofOfWork(previousProof)\n",
    "    previousHash = bhatti.hashBlock(previousBlock)\n",
    "    bhatti.addTransaction(sender=nodeAddress, receiver =\"Berkat\", amount = 10)\n",
    "    block = bhatti.addBlock(proof, previousHash)\n",
    "    response = {\n",
    "        \"success\": \"you have successfully mined a block!!!!!\",\n",
    "        \"index\": block[\"index\"],\n",
    "        \"proof\": block[\"proof\"],\n",
    "        \"datetime\": block[\"timestamp\"]\n",
    "    }\n",
    "    return jsonify(response), 200"
   ]
  },
  {
   "cell_type": "code",
   "execution_count": null,
   "id": "0bc64ee9-98d6-4daa-b20d-450773b814ba",
   "metadata": {},
   "outputs": [
    {
     "name": "stdout",
     "output_type": "stream",
     "text": [
      " * Serving Flask app \"__main__\" (lazy loading)\n",
      " * Environment: production\n",
      "\u001b[31m   WARNING: This is a development server. Do not use it in a production deployment.\u001b[0m\n",
      "\u001b[2m   Use a production WSGI server instead.\u001b[0m\n",
      " * Debug mode: off\n"
     ]
    },
    {
     "name": "stderr",
     "output_type": "stream",
     "text": [
      " * Running on http://0.0.0.0:5001/ (Press CTRL+C to quit)\n"
     ]
    }
   ],
   "source": [
    "app.run(host=\"0.0.0.0\", port=5001)"
   ]
  },
  {
   "cell_type": "code",
   "execution_count": null,
   "id": "64c5f9c2-a00e-4ca7-b22d-b132856fc16a",
   "metadata": {},
   "outputs": [],
   "source": []
  }
 ],
 "metadata": {
  "kernelspec": {
   "display_name": "Python 3",
   "language": "python",
   "name": "python3"
  },
  "language_info": {
   "codemirror_mode": {
    "name": "ipython",
    "version": 3
   },
   "file_extension": ".py",
   "mimetype": "text/x-python",
   "name": "python",
   "nbconvert_exporter": "python",
   "pygments_lexer": "ipython3",
   "version": "3.8.8"
  }
 },
 "nbformat": 4,
 "nbformat_minor": 5
}
