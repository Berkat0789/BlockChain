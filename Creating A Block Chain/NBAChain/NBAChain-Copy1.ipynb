{
 "cells": [
  {
   "cell_type": "code",
   "execution_count": 37,
   "id": "52d6754b-fca3-4517-b785-874d96c95d1b",
   "metadata": {},
   "outputs": [],
   "source": [
    "import json\n",
    "import hashlib\n",
    "import datetime\n",
    "from urllib.parse import urlparse\n",
    "from flask import Flask, jsonify, request\n",
    "from uuid import uuid4\n",
    "import requests"
   ]
  },
  {
   "cell_type": "code",
   "execution_count": 38,
   "id": "1f23161e-b703-4dde-8982-0d1066ea5c28",
   "metadata": {},
   "outputs": [],
   "source": [
    "class NBA:\n",
    "    \n",
    "    def __init__(self):\n",
    "        self.chain = []\n",
    "        self.transactions = []\n",
    "        self.addBlock(proof = 1, prevHash = \"0\")\n",
    "        self.nodes = set()\n",
    "    \n",
    "    def addBlock(self, proof, prevHash):\n",
    "        block = {\n",
    "            \"index\": len(self.chain),\n",
    "            \"timestamp\": str(datetime.datetime.now()),\n",
    "            \"proof\": proof,\n",
    "            \"prevHash\": prevHash,\n",
    "            \"transactions\": self.transactions\n",
    "        }\n",
    "        self.transactions = []\n",
    "        self.chain.append(block)\n",
    "        return block\n",
    "    \n",
    "    def getLastBlock(self):\n",
    "        return self.chain[-1]\n",
    "    \n",
    "    def hashBlock(self, block):\n",
    "        encodedBlock = json.dumps(block, sort_keys=True).encode()\n",
    "        return hashlib.sha3_256(encodedBlock).hexdigest()\n",
    "    \n",
    "    def addTransaction(self, sender, receiver, amount):\n",
    "        self.transactions.append({\n",
    "            \"sender\": sender,\n",
    "            \"receiver\": receiver,\n",
    "            \"amount\": amount\n",
    "        })\n",
    "        lastBlock = self.getLastBlock()\n",
    "        return lastBlock[\"index\"] + 1\n",
    "    \n",
    "    def addNode(self, address):\n",
    "        userIp = urlparse(address)\n",
    "        self.nodes.add(userIp.path)\n",
    "    \n",
    "    def proofOFWork(self, prevProof):\n",
    "        newProof = 1\n",
    "        solved = False \n",
    "        \n",
    "        while solved is False:\n",
    "            hashProblem = hashlib.sha256(str(newProof ** 2 - prevProof **2).encode()).hexdigest()\n",
    "            if hashProblem[:4] == \"0000\":\n",
    "                solved = True\n",
    "            else:\n",
    "                newProof += 1\n",
    "        return newProof\n",
    "    \n",
    "    def isChainValid(self, chain):\n",
    "        lastBlock = [0]\n",
    "        currentIndex = 1\n",
    "        \n",
    "        while currentIndex < len(chain):\n",
    "            currentBlock= chain[currentIndex]\n",
    "            currentPrevhash = currentBlock[\"prevHash\"]\n",
    "            if currentPrevhash != self.hashBlock(lastBlock):\n",
    "                return False\n",
    "            curentPoof = currentBlock[\"proof\"]\n",
    "            previousProof = lastBlock[\"proof\"]\n",
    "            hashProblem = hashlib.sha256(str(curentPoof ** 2 - previousProof **2).encode()).hexdigest()\n",
    "            if hashProblem[:4] != \"0000\":\n",
    "                return False\n",
    "            lastBlock = currentBlock\n",
    "            currentIndex += 1\n",
    "        return True\n",
    "    \n",
    "    def shouldReplaceChain(self): \n",
    "        network = self.nodes\n",
    "        longestChain = None \n",
    "        currentLength = len(self.chain)\n",
    "\n",
    "        for node in network:\n",
    "            nodeChainResponse = requests.get(f\"http://{node}/chain\")\n",
    "            if nodeChainResponse.status_code == 200:\n",
    "                chain = nodeChainResponse.json()[\"chain\"]\n",
    "                length = nodeChainResponse.json()[\"length\"]\n",
    "                if length > currentLength and self.isChainValid(chain):\n",
    "                    longestChain = chain\n",
    "                    currentLength = length\n",
    "        if longestChain: \n",
    "            self.chain = longestChain\n",
    "            return True\n",
    "        return False"
   ]
  },
  {
   "cell_type": "code",
   "execution_count": 39,
   "id": "f8cdba6a-4a9c-4503-9c23-b49d3e27dcd0",
   "metadata": {},
   "outputs": [],
   "source": [
    "app = Flask(__name__)"
   ]
  },
  {
   "cell_type": "code",
   "execution_count": 40,
   "id": "03775a94-9fd9-483a-9e2b-d6164f3a78e3",
   "metadata": {},
   "outputs": [],
   "source": [
    "nodeAddress = str(uuid4()).replace(\"-\", \"\")"
   ]
  },
  {
   "cell_type": "code",
   "execution_count": 41,
   "id": "df1d650b-e3c5-4f61-8b70-a10826c724b3",
   "metadata": {},
   "outputs": [],
   "source": [
    "nba = NBA()"
   ]
  },
  {
   "cell_type": "markdown",
   "id": "9082e31f-7e54-4c8e-87e8-a1bb9f90a754",
   "metadata": {},
   "source": [
    "### Mining A Block \n",
    "- we will award the miner 10 NBA coins when mined "
   ]
  },
  {
   "cell_type": "code",
   "execution_count": 42,
   "id": "60c3655f-7a2b-4b3b-905a-f4885790c079",
   "metadata": {},
   "outputs": [],
   "source": [
    "@app.route(\"/mine\", methods = [\"GET\"])\n",
    "def mine():\n",
    "    lastBlock = nba.getLastBlock()\n",
    "    previousProof  = lastBlock[\"proof\"]\n",
    "    proof = nba.proofOFWork(previousProof)\n",
    "    prevHash = nba.hashBlock(lastBlock)\n",
    "    nba.addTransaction(sender = nodeAddress, receiver=\"jamie\", amount = 10)\n",
    "    block = nba.addBlock(proof, prevHash)\n",
    "    response = {\n",
    "        \"Message\": \"you have mined a block and your award is added\",\n",
    "        \"index\": block[\"index\"],\n",
    "        \"proof\": block[\"proof\"],\n",
    "        \"timestamp\": block[\"timestamp\"],\n",
    "        \"prevHash\": block[\"prevHash\"]\n",
    "    }\n",
    "    return jsonify(response), 200"
   ]
  },
  {
   "cell_type": "markdown",
   "id": "cc3146d6-ccdd-48e3-ac96-d5b76b086c3e",
   "metadata": {},
   "source": [
    "### Validatin of the chain"
   ]
  },
  {
   "cell_type": "code",
   "execution_count": 43,
   "id": "f50ef8f7-d3dd-4a62-a31c-9c3e2b6baba9",
   "metadata": {},
   "outputs": [],
   "source": [
    "@app.route(\"/valid\", methods = [\"GET\"])\n",
    "def vaid():\n",
    "    isValid = nba.isChainValid(nba.chain)\n",
    "    if isValid:\n",
    "        response = {\"message\": \"The chain is valid and you can build on it\"}\n",
    "    else:\n",
    "        response = {\"message\": \"The chain is valid and you can build on it\"}\n",
    "    return jsonify(response), 200"
   ]
  },
  {
   "cell_type": "markdown",
   "id": "745c232a-590d-40be-88b3-86e3b262192c",
   "metadata": {},
   "source": [
    "## GET CURRENT CHAIN"
   ]
  },
  {
   "cell_type": "code",
   "execution_count": 44,
   "id": "f48bf457-431d-42d2-8fce-b6518eeae9df",
   "metadata": {},
   "outputs": [],
   "source": [
    "@app.route(\"/chain\", methods = [\"GET\"])\n",
    "def chain():\n",
    "    response = {\n",
    "        \"chain\": nba.chain,\n",
    "        \"length\": len(nba.chain)\n",
    "    }\n",
    "    return jsonify(response), 200"
   ]
  },
  {
   "cell_type": "code",
   "execution_count": null,
   "id": "6dd5a7b2-bba8-4cf3-97f6-632eddb0e82d",
   "metadata": {},
   "outputs": [],
   "source": []
  },
  {
   "cell_type": "markdown",
   "id": "e0532a4e-248c-470c-804b-c2d94469a5e8",
   "metadata": {},
   "source": [
    "### Add transaction \n",
    "- this will be a POST method to the server"
   ]
  },
  {
   "cell_type": "code",
   "execution_count": 45,
   "id": "b223550b-94d1-4215-b977-60b1a232d23e",
   "metadata": {},
   "outputs": [],
   "source": [
    "@app.route(\"/transaction\", methods = [\"POST\"])\n",
    "def transaction():\n",
    "    transactionResponse = request.get_json()\n",
    "    transactionKeys = [\"sender\",\"receiver\",\"amount\"]\n",
    "    if not all (key in transactionResponse for key in transactionKeys):\n",
    "        return \"There is an issues with DB keys\", 400\n",
    "    index = nba.addTransaction(sender= transactionResponse[\"sender\"], receiver=transactionResponse[\"receiver\"], amount= transactionResponse[\"amount\"])\n",
    "    response = {\"message\": f\"the transaction will be added to index {index}\"}\n",
    "    return jsonify(response), 201"
   ]
  },
  {
   "cell_type": "markdown",
   "id": "152a5825-e3d8-4b86-8cca-2023976a3e9b",
   "metadata": {},
   "source": [
    "### Connect All nodes\n",
    "- This will represent all nodes connecting on the network so that we have the same chain"
   ]
  },
  {
   "cell_type": "code",
   "execution_count": 46,
   "id": "94b91a2c-d134-41b2-aad6-356f5e3e6027",
   "metadata": {},
   "outputs": [],
   "source": [
    "@app.route(\"/connect\", methods = [\"POST\"])\n",
    "def connect():\n",
    "    nodesResponse = request.get_json()\n",
    "    nodes = nodesResponse.get(\"nodes\")\n",
    "    \n",
    "    if nodes is None:\n",
    "        return \"there are not nodes in this network\",  400\n",
    "    for node in nodes:\n",
    "        nba.addNode(node)\n",
    "    response = {\n",
    "        \"message\": \"All nodes were added to the network\",\n",
    "        \"nodeList\": list(nba.nodes)\n",
    "    }\n",
    "    return jsonify(response), 201\n",
    "    "
   ]
  },
  {
   "cell_type": "markdown",
   "id": "05f845e2-db6f-4937-bed7-5f6ebfb2ab3b",
   "metadata": {},
   "source": [
    "### Should Replace\n",
    "- will work on replacing the chain by checking the chain on each node(computer) ?"
   ]
  },
  {
   "cell_type": "code",
   "execution_count": 47,
   "id": "affcaf1f-0310-4baf-ae22-7b3df85f9cf6",
   "metadata": {},
   "outputs": [],
   "source": [
    "@app.route(\"/replace\", methods = [\"GET\"])\n",
    "def replace():\n",
    "    shouldReplace = nba.shouldReplaceChain()\n",
    "    if shouldReplace:\n",
    "        response = {\"message\": \"WE found a chain that was longer than your current so we replaced if see below\",\n",
    "                   \"chain\": nba.chain,\n",
    "                   \"newlength\": len(nba.chain)}\n",
    "    else:\n",
    "        response = {\"message\": \"All chains are the same length\",\n",
    "                    \"chain\": nba.chain,\n",
    "                        \"length\": len(nba.chain)\n",
    "                   }\n",
    "    return jsonify(response), 200"
   ]
  },
  {
   "cell_type": "markdown",
   "id": "41685c13-88e2-4ade-9a39-e7d58d48c2b2",
   "metadata": {},
   "source": [
    "### Running Flask app"
   ]
  },
  {
   "cell_type": "code",
   "execution_count": null,
   "id": "a01c905f-ee0e-4132-838e-929a017b998c",
   "metadata": {},
   "outputs": [
    {
     "name": "stdout",
     "output_type": "stream",
     "text": [
      " * Serving Flask app \"__main__\" (lazy loading)\n",
      " * Environment: production\n",
      "\u001b[31m   WARNING: This is a development server. Do not use it in a production deployment.\u001b[0m\n",
      "\u001b[2m   Use a production WSGI server instead.\u001b[0m\n",
      " * Debug mode: off\n"
     ]
    },
    {
     "name": "stderr",
     "output_type": "stream",
     "text": [
      " * Running on http://0.0.0.0:3112/ (Press CTRL+C to quit)\n",
      "127.0.0.1 - - [03/Jan/2022 18:39:41] \"\u001b[37mGET /mine HTTP/1.1\u001b[0m\" 200 -\n",
      "127.0.0.1 - - [03/Jan/2022 18:39:41] \"\u001b[37mGET /mine HTTP/1.1\u001b[0m\" 200 -\n",
      "127.0.0.1 - - [03/Jan/2022 18:39:42] \"\u001b[37mGET /mine HTTP/1.1\u001b[0m\" 200 -\n",
      "127.0.0.1 - - [03/Jan/2022 18:39:42] \"\u001b[37mGET /mine HTTP/1.1\u001b[0m\" 200 -\n",
      "127.0.0.1 - - [03/Jan/2022 18:39:43] \"\u001b[37mGET /mine HTTP/1.1\u001b[0m\" 200 -\n",
      "127.0.0.1 - - [03/Jan/2022 18:39:53] \"\u001b[37mPOST /connect HTTP/1.1\u001b[0m\" 201 -\n",
      "127.0.0.1 - - [03/Jan/2022 18:40:44] \"\u001b[33mGET /minr HTTP/1.1\u001b[0m\" 404 -\n",
      "127.0.0.1 - - [03/Jan/2022 18:40:48] \"\u001b[37mGET /mine HTTP/1.1\u001b[0m\" 200 -\n",
      "127.0.0.1 - - [03/Jan/2022 18:40:48] \"\u001b[37mGET /mine HTTP/1.1\u001b[0m\" 200 -\n",
      "127.0.0.1 - - [03/Jan/2022 18:40:49] \"\u001b[37mGET /mine HTTP/1.1\u001b[0m\" 200 -\n",
      "127.0.0.1 - - [03/Jan/2022 18:40:49] \"\u001b[37mGET /mine HTTP/1.1\u001b[0m\" 200 -\n",
      "127.0.0.1 - - [03/Jan/2022 18:40:50] \"\u001b[37mGET /mine HTTP/1.1\u001b[0m\" 200 -\n",
      "127.0.0.1 - - [03/Jan/2022 18:40:51] \"\u001b[37mGET /mine HTTP/1.1\u001b[0m\" 200 -\n",
      "127.0.0.1 - - [03/Jan/2022 18:40:51] \"\u001b[37mGET /mine HTTP/1.1\u001b[0m\" 200 -\n",
      "127.0.0.1 - - [03/Jan/2022 18:40:52] \"\u001b[37mGET /mine HTTP/1.1\u001b[0m\" 200 -\n",
      "127.0.0.1 - - [03/Jan/2022 18:41:11] \"\u001b[37mGET /chain HTTP/1.1\u001b[0m\" 200 -\n",
      "127.0.0.1 - - [03/Jan/2022 18:41:37] \"\u001b[37mGET /chain HTTP/1.1\u001b[0m\" 200 -\n",
      "127.0.0.1 - - [03/Jan/2022 18:41:41] \"\u001b[37mGET /replace HTTP/1.1\u001b[0m\" 200 -\n",
      "127.0.0.1 - - [03/Jan/2022 18:41:56] \"\u001b[37mGET /chain HTTP/1.1\u001b[0m\" 200 -\n"
     ]
    }
   ],
   "source": [
    "app.run(host=\"0.0.0.0\", port=3112)"
   ]
  },
  {
   "cell_type": "code",
   "execution_count": null,
   "id": "2925e014-2a72-45c4-9dd1-86e486b9da0c",
   "metadata": {},
   "outputs": [],
   "source": []
  },
  {
   "cell_type": "code",
   "execution_count": null,
   "id": "6f2dbc31-70a7-4f14-8614-411fa7960a20",
   "metadata": {},
   "outputs": [],
   "source": []
  },
  {
   "cell_type": "code",
   "execution_count": null,
   "id": "e03f59fe-b319-4239-a24a-795ffcf0908f",
   "metadata": {},
   "outputs": [],
   "source": []
  },
  {
   "cell_type": "code",
   "execution_count": null,
   "id": "b2d0fe46-fbfe-4d00-ac4b-97d96c31b096",
   "metadata": {},
   "outputs": [],
   "source": []
  }
 ],
 "metadata": {
  "kernelspec": {
   "display_name": "Python 3",
   "language": "python",
   "name": "python3"
  },
  "language_info": {
   "codemirror_mode": {
    "name": "ipython",
    "version": 3
   },
   "file_extension": ".py",
   "mimetype": "text/x-python",
   "name": "python",
   "nbconvert_exporter": "python",
   "pygments_lexer": "ipython3",
   "version": "3.8.8"
  }
 },
 "nbformat": 4,
 "nbformat_minor": 5
}
