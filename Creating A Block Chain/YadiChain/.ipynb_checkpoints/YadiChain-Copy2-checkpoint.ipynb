{
 "cells": [
  {
   "cell_type": "code",
   "execution_count": 1,
   "id": "2513c4a9-63fe-4d21-a704-ebd8d12c353a",
   "metadata": {},
   "outputs": [],
   "source": [
    "import hashlib\n",
    "import json\n",
    "import datetime\n",
    "from flask import Flask, jsonify, request\n",
    "from uuid import uuid4\n",
    "from urllib.parse import urlparse\n",
    "import requests"
   ]
  },
  {
   "cell_type": "code",
   "execution_count": 2,
   "id": "1356ad71-1a89-41b1-8879-6b88670e7a19",
   "metadata": {},
   "outputs": [],
   "source": [
    "class YadiChain:\n",
    "    def __init__(self):\n",
    "        self.chain = []\n",
    "        self.transactions = []\n",
    "        self.addBlock(proof = 1, prevHash = \"0\")\n",
    "        self.nodes = set()\n",
    "\n",
    "    \n",
    "    def addBlock(self, proof, prevHash):\n",
    "        block = {\n",
    "            \"index\": len(self.chain),\n",
    "            \"timestamp\": str(datetime.datetime.now()),\n",
    "            \"proof\": proof,\n",
    "            \"prevHash\": prevHash,\n",
    "            \"transactions\": self.transactions\n",
    "        }\n",
    "        self.transactions = []\n",
    "        self.chain.append(block)\n",
    "        return block \n",
    "    \n",
    "    def getLastBlock(self):\n",
    "        return self.chain[-1]\n",
    "    \n",
    "    def hashBlock(self, block):\n",
    "        encodedBlock = json.dumps(block, sort_keys=True).encode()\n",
    "        return hashlib.sha256(encodedBlock).hexdigest()\n",
    "    \n",
    "    def proofOfWork(self, prevProof):\n",
    "        newProof = 1 \n",
    "        solved = False\n",
    "        \n",
    "        while solved is False:\n",
    "            hashWork = hashlib.sha256(str(newProof ** 2 - prevProof ** 2).encode()).hexdigest()\n",
    "            if hashWork[:4] == \"0000\":\n",
    "                solved = True\n",
    "            else:\n",
    "                newProof += 1\n",
    "        return newProof\n",
    "    \n",
    "    def isChainValid(self, chain):\n",
    "        previousBlock = chain[0]\n",
    "        currrentIndex = 1\n",
    "        \n",
    "        while currrentIndex < len(chain):\n",
    "            currentBlock = chain[currrentIndex]\n",
    "            currentPrevHash = currentBlock[\"prevHash\"]\n",
    "            if currentPrevHash != self.hashBlock(previousBlock):\n",
    "                return False\n",
    "            currentProof = currentBlock[\"proof\"]\n",
    "            previousProof = previousBlock[\"proof\"]\n",
    "            hashWork = hashlib.sha256(str(currentProof ** 2 - previousProof ** 2).encode()).hexdigest()\n",
    "            if hashWork[:4] != \"0000\":\n",
    "                return False\n",
    "            previousBlock = currentBlock\n",
    "            currrentIndex += 1\n",
    "        return True\n",
    "    \n",
    "    def addTransaction(self, sender, receiver, amount):\n",
    "        self.transactions.append({\n",
    "            \"sender\": sender,\n",
    "            \"receiver\": receiver,\n",
    "            \"amount\": amount\n",
    "        })\n",
    "        lastBlock = self.getLastBlock()\n",
    "        return lastBlock[\"index\"] + 1\n",
    "    \n",
    "    def addNode(self, address):\n",
    "        nodeIP = urlparse(address)\n",
    "        self.nodes.add(nodeIP.netloc)\n",
    "    \n",
    "    \n",
    "    def shouldReplaceCain(self):\n",
    "        network = self.nodes\n",
    "        longestChain = None\n",
    "        longestLength = len(self.chain)\n",
    "        \n",
    "        for node in network:\n",
    "            chainJsonResponse = requests.get(f\"http://{node}/chain\")\n",
    "            chain =  chainJsonResponse.json()[\"chain\"]\n",
    "            \n",
    "            if chainJsonResponse.status_code == 200:\n",
    "                length = chainJsonResponse.json()[\"length\"]\n",
    "                chain =  chainJsonResponse.json()[\"chain\"]\n",
    "                if length > len(self.chain) and self.isChainValid(chain):\n",
    "                    longestChain = chain\n",
    "                    longestLength = length\n",
    "            if longestChain: #n# not = nil \n",
    "                self.chain = longestChain\n",
    "                return True\n",
    "        return False\n",
    "    "
   ]
  },
  {
   "cell_type": "code",
   "execution_count": 3,
   "id": "f6618744-6c97-4b24-941f-98237f3663e2",
   "metadata": {},
   "outputs": [],
   "source": [
    "yadi = YadiChain()"
   ]
  },
  {
   "cell_type": "markdown",
   "id": "52400856-98a8-4cdd-8868-bd57adcfe28b",
   "metadata": {},
   "source": [
    "##  Random address for node address"
   ]
  },
  {
   "cell_type": "code",
   "execution_count": 4,
   "id": "d4233d11-ceeb-49a7-9c06-7e56dcbd9fdd",
   "metadata": {},
   "outputs": [],
   "source": [
    "nodeAddress = str(uuid4()).replace(\"-\", \"\")"
   ]
  },
  {
   "cell_type": "code",
   "execution_count": 5,
   "id": "427d3d06-31ad-486a-b511-ec9635714058",
   "metadata": {},
   "outputs": [],
   "source": [
    "app = Flask(__name__)"
   ]
  },
  {
   "cell_type": "code",
   "execution_count": 6,
   "id": "4461a22f-4c1d-4d1f-905d-b71ca5a29596",
   "metadata": {},
   "outputs": [],
   "source": [
    "@app.route(\"/mine\", methods = [\"GET\"])\n",
    "def mine():\n",
    "    previousBlock = yadi.getLastBlock()\n",
    "    previousProof = previousBlock[\"proof\"]\n",
    "    proof = yadi.proofOfWork(previousProof)\n",
    "    prevHash = yadi.hashBlock(previousBlock)\n",
    "    yadi.addTransaction(sender = nodeAddress, receiver = \"Me\", amount = 10)\n",
    "    newBlock = yadi.addBlock(proof, prevHash)\n",
    "    response = {\n",
    "        \"succcess\":\"You have mined a yadiCoin\",\n",
    "        \"proof\": newBlock[\"proof\"],\n",
    "        \"timestamp\": newBlock[\"timestamp\"],\n",
    "        \"index\": newBlock[\"index\"],\n",
    "        \"previousHash\": newBlock[\"prevHash\"]\n",
    "    }\n",
    "    return jsonify(response), 200"
   ]
  },
  {
   "cell_type": "code",
   "execution_count": 7,
   "id": "13a5ed5a-5884-46c6-b871-d8205516fa7b",
   "metadata": {},
   "outputs": [],
   "source": [
    "@app.route(\"/chain\", methods = [\"GET\"])\n",
    "def chain():\n",
    "    response = {\n",
    "        \"chain\": yadi.chain,\n",
    "        \"length\": len(yadi.chain)\n",
    "    }\n",
    "    return jsonify(response), 200"
   ]
  },
  {
   "cell_type": "code",
   "execution_count": 8,
   "id": "7825dfb5-4b0f-42ee-a60f-66ffec4aa100",
   "metadata": {},
   "outputs": [],
   "source": [
    "@app.route(\"/valid\", methods = [\"GET\"])\n",
    "def valid():\n",
    "    isValid = yadi.isChainValid(yadi.chain)\n",
    "    if isValid:\n",
    "        response = {\"Chain is Valid\": \"This chain is appropriate to be incoperated\", \"chain\": yadi.chain}\n",
    "    else:\n",
    "        response = {\"Chain is Not Valid\": \"Update your Chain\", \"chain\": yadi.chain}\n",
    "    return jsonify(response), 200"
   ]
  },
  {
   "cell_type": "code",
   "execution_count": 9,
   "id": "9c3a182e-c499-41f3-a9bc-cf09387bbe40",
   "metadata": {},
   "outputs": [],
   "source": [
    "@app.route(\"/connect\", methods = [\"POST\"])\n",
    "def connect():\n",
    "    nodeResponse = request.get_json()\n",
    "    nodes = nodeResponse.get(\"nodes\")\n",
    "    if nodes is None:\n",
    "        return \"There are no nodes regitered to the server\"\n",
    "    for node in nodes:\n",
    "        yadi.addNode(node)\n",
    "    response = {\n",
    "        \"success\": \"All nodes on the server has been connected to the blockChain\",\n",
    "        \"nodes\": list(yadi.nodes)\n",
    "    }\n",
    "    return jsonify(response), 201"
   ]
  },
  {
   "cell_type": "code",
   "execution_count": 10,
   "id": "845ea0d9-2d39-4f44-bf31-978d63bbbbc0",
   "metadata": {},
   "outputs": [],
   "source": [
    "@app.route(\"/transaction\", methods = [\"POST\"])\n",
    "def transaction():\n",
    "    transacitonJson = request.get_json()\n",
    "    transactionKeys = [\"sender\", \"receiver\",\"amount\"]\n",
    "    if not all (key in transacitonJson for key in transactionKeys):\n",
    "        return \"There are keys missing for the transaction\"\n",
    "    index = yadi.addTransaction(transacitonJson[\"sender\"], transacitonJson[\"receiver\"], transacitonJson[\"amount\"])\n",
    "    response = {\n",
    "        \"success\": f\"This transaction will be added to the index {index}\"\n",
    "    }\n",
    "    return jsonify(response), 201"
   ]
  },
  {
   "cell_type": "code",
   "execution_count": null,
   "id": "7c04c230-8c88-4e45-bee2-fd0ea6087cff",
   "metadata": {},
   "outputs": [
    {
     "name": "stdout",
     "output_type": "stream",
     "text": [
      " * Serving Flask app \"__main__\" (lazy loading)\n",
      " * Environment: production\n",
      "\u001b[31m   WARNING: This is a development server. Do not use it in a production deployment.\u001b[0m\n",
      "\u001b[2m   Use a production WSGI server instead.\u001b[0m\n",
      " * Debug mode: off\n"
     ]
    },
    {
     "name": "stderr",
     "output_type": "stream",
     "text": [
      " * Running on http://0.0.0.0:4003/ (Press CTRL+C to quit)\n",
      "127.0.0.1 - - [31/Dec/2021 09:55:56] \"\u001b[37mGET /chain HTTP/1.1\u001b[0m\" 200 -\n"
     ]
    }
   ],
   "source": [
    "app.run(host=\"0.0.0.0\", port=4003)"
   ]
  },
  {
   "cell_type": "code",
   "execution_count": null,
   "id": "0896f81c-93b1-47fc-afeb-14f3c01f5410",
   "metadata": {},
   "outputs": [],
   "source": []
  },
  {
   "cell_type": "code",
   "execution_count": null,
   "id": "db603225-d07d-4d0a-81cf-e45895891dce",
   "metadata": {},
   "outputs": [],
   "source": []
  },
  {
   "cell_type": "code",
   "execution_count": null,
   "id": "0e82d93e-4148-42c5-95f0-78aaebe2acfb",
   "metadata": {},
   "outputs": [],
   "source": []
  },
  {
   "cell_type": "code",
   "execution_count": null,
   "id": "931b372f-9e6e-4aa2-877f-ef44bdfb2227",
   "metadata": {},
   "outputs": [],
   "source": []
  }
 ],
 "metadata": {
  "kernelspec": {
   "display_name": "Python 3",
   "language": "python",
   "name": "python3"
  },
  "language_info": {
   "codemirror_mode": {
    "name": "ipython",
    "version": 3
   },
   "file_extension": ".py",
   "mimetype": "text/x-python",
   "name": "python",
   "nbconvert_exporter": "python",
   "pygments_lexer": "ipython3",
   "version": "3.8.8"
  }
 },
 "nbformat": 4,
 "nbformat_minor": 5
}
