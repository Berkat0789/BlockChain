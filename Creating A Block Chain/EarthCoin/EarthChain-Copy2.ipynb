{
 "cells": [
  {
   "cell_type": "code",
   "execution_count": 25,
   "id": "2416e6a5-b35e-49c6-be99-1bf356cbf310",
   "metadata": {},
   "outputs": [],
   "source": [
    "import requests\n",
    "import datetime\n",
    "import hashlib\n",
    "import json\n",
    "from flask import Flask, jsonify, request\n",
    "from uuid import uuid4\n",
    "from urllib.parse import urlparse"
   ]
  },
  {
   "cell_type": "code",
   "execution_count": 26,
   "id": "204c8e10-40a9-423c-8570-8ef90c692643",
   "metadata": {},
   "outputs": [],
   "source": [
    "class Earth:\n",
    "    \n",
    "    def __init__(self):\n",
    "        self.chain = []\n",
    "        self.transactions = []\n",
    "        self.addBlock(proof= 1, prevHash = \"0\")\n",
    "        self.nodes = set()\n",
    "    \n",
    "    def addBlock(self, proof, prevHash):\n",
    "        block = {\n",
    "            \"index\": len(self.chain),\n",
    "            \"timestamp\": str(datetime.datetime.now()),\n",
    "            \"proof\": proof,\n",
    "            \"prevHash\": prevHash,\n",
    "            \"transactions\": self.transactions\n",
    "        }\n",
    "        self.transactions = []\n",
    "        self.chain.append(block)\n",
    "        return block\n",
    "    \n",
    "    def getLastBlock(self):\n",
    "        return self.chain[-1]\n",
    "    \n",
    "    def hashBlock(self, block):\n",
    "        encodedBlock = json.dumps(block, sort_keys=True).encode()\n",
    "        return hashlib.sha256(encodedBlock).hexdigest()\n",
    "    \n",
    "    def proofOfWork(self, prevProof):\n",
    "        newProof = 1\n",
    "        solved = False \n",
    "        \n",
    "        while solved is False:\n",
    "            hashProblem = hashlib.sha256(str(newProof ** 2 - prevProof **2).encode()).hexdigest()\n",
    "            if hashProblem[:4] == \"0000\":\n",
    "                solved = True\n",
    "            else:\n",
    "                newProof +=1 \n",
    "        return newProof\n",
    "    \n",
    "    def addTransactions(self, sender, receiver, amount):\n",
    "        self.transactions.append({\n",
    "            \"sender\": sender,\n",
    "            \"receiver\": receiver,\n",
    "            \"amount\": amount\n",
    "        })\n",
    "        previousBlock = self.getLastBlock()\n",
    "        return previousBlock[\"index\"] + 1\n",
    "    \n",
    "    def addNode(self, address):\n",
    "        nodeIP = urlparse(address)\n",
    "        self.nodes.add(nodeIP.path)\n",
    "    \n",
    "    def isChainValid(self, chain):\n",
    "        previousBlock = chain[0]\n",
    "        current_index = 1\n",
    "        \n",
    "        while current_index < len(chain):\n",
    "            currentBlock = chain[current_index]\n",
    "            currentPrevHash = currentBlock[\"prevHash\"]\n",
    "            if currentPrevHash != self.hashBlock(previousBlock):\n",
    "                return False\n",
    "            currentProof = currentBlock[\"proof\"]\n",
    "            previousProof = previousBlock[\"proof\"]\n",
    "            hashCheck = hashlib.sha256(str(currentProof **2 - previousProof **2).encode()).hexdigest()\n",
    "            if hashCheck[:4] != \"0000\":\n",
    "                return False\n",
    "            previousBlock = currentBlock\n",
    "            current_index += 1\n",
    "        return True\n",
    "        \n",
    "    \n",
    "    def shouldReplaceChain(self):\n",
    "        network = self.nodes\n",
    "        currentChainLength = len(self.chain)\n",
    "        longestChain = None\n",
    "        \n",
    "        for node in network:\n",
    "            nodeResonse = requests.get(f\"http://{node}/chain\")\n",
    "            if nodeResonse.status_code == 200:\n",
    "                chain = nodeResonse.json()[\"chain\"]\n",
    "                length = nodeResonse.json()[\"length\"]\n",
    "                if length > currentChainLength and self.isChainValid(chain):\n",
    "                    longestChain = chain\n",
    "                    currentChainLength = length\n",
    "            if longestChain: ### not nil we have found a longe chain \n",
    "                return True\n",
    "        return False    "
   ]
  },
  {
   "cell_type": "code",
   "execution_count": 27,
   "id": "7d0054eb-7e1c-450f-93c7-ccd8b700330c",
   "metadata": {},
   "outputs": [],
   "source": [
    "earth = Earth()"
   ]
  },
  {
   "cell_type": "code",
   "execution_count": 28,
   "id": "14472659-16c6-4de7-88fa-39414b471fcc",
   "metadata": {},
   "outputs": [],
   "source": [
    "app = Flask(__name__)"
   ]
  },
  {
   "cell_type": "code",
   "execution_count": 29,
   "id": "0832aec3-fc5f-4ed1-98ff-1cfda672ee07",
   "metadata": {},
   "outputs": [],
   "source": [
    "nodeAddress = str(uuid4()).replace(\"-\", \"\")"
   ]
  },
  {
   "cell_type": "code",
   "execution_count": 30,
   "id": "4a7f0b14-199c-4283-8aee-96da29d5b3be",
   "metadata": {},
   "outputs": [],
   "source": [
    "@app.route(\"/mine\", methods = [\"GET\"])\n",
    "def mine():\n",
    "    previousBlock = earth.getLastBlock()\n",
    "    previousProof = previousBlock[\"proof\"]\n",
    "    proof = earth.proofOfWork(previousProof)\n",
    "    previousHash = earth.hashBlock(previousBlock)\n",
    "    earth.addTransactions(sender=nodeAddress, receiver = \"jason\", amount=10)\n",
    "    newBlock = earth.addBlock(proof, previousHash)\n",
    "    response = {\n",
    "        \"message\": \"Congrats you have mined an Earth Coin\",\n",
    "        \"index\": newBlock[\"index\"],\n",
    "        \"proof\": newBlock[\"proof\"],\n",
    "        \"timestamp\": newBlock[\"timestamp\"],\n",
    "        \"prevHash\": newBlock[\"prevHash\"],\n",
    "    }\n",
    "    return jsonify(response), 200"
   ]
  },
  {
   "cell_type": "code",
   "execution_count": 31,
   "id": "de924c4e-70f9-4174-a8fe-4fb48a59b5c6",
   "metadata": {},
   "outputs": [],
   "source": [
    "@app.route(\"/chain\", methods = [\"GET\"])\n",
    "def chain():\n",
    "    response = {\n",
    "        \"chain\": earth.chain,\n",
    "        \"length\": len(earth.chain)\n",
    "    }\n",
    "    return jsonify(response), 200"
   ]
  },
  {
   "cell_type": "code",
   "execution_count": 32,
   "id": "26c2e1c4-bfa6-4a82-9223-303c7bbc53fb",
   "metadata": {},
   "outputs": [],
   "source": [
    "@app.route(\"/valid\", methods = [\"GET\"])\n",
    "def valid():\n",
    "    isValid = earth.isChainValid(earth.chain)\n",
    "    if isValid:\n",
    "        response = {\n",
    "            \"message\": \"This chain is valid build on it\"\n",
    "        }\n",
    "    else:\n",
    "         response = {\n",
    "            \"message\": \"This chain is invalid\"\n",
    "        }\n",
    "    return jsonify(response), 200"
   ]
  },
  {
   "cell_type": "code",
   "execution_count": 33,
   "id": "d0a4f388-6364-4dde-87eb-4ae4f602f5ca",
   "metadata": {},
   "outputs": [],
   "source": [
    "@app.route(\"/replace\", methods = [\"GET\"])\n",
    "def replace():\n",
    "    shouldReplace = earth.shouldReplaceChain()\n",
    "    if shouldReplace:\n",
    "        response = {\n",
    "            \"message\": \"Chain is being replaces we found a longer chain in the network\",\n",
    "            \"chain\": earth.chain,\n",
    "            \"length\": len(earth.chain)\n",
    "        }\n",
    "    else:\n",
    "         response = {\n",
    "            \"message\": \"Chain is currently the longest\",\n",
    "             \"currentLength\": len(earth.chain)\n",
    "        }\n",
    "    return jsonify(response), 200"
   ]
  },
  {
   "cell_type": "code",
   "execution_count": 34,
   "id": "cc80410f-9b7a-4479-9bb4-ad4c2453b765",
   "metadata": {},
   "outputs": [],
   "source": [
    "@app.route(\"/transaction\", methods = [\"POST\"])\n",
    "def transaction():\n",
    "    transactionReponse = request.get_json()\n",
    "    transactionKeys = [\"sender\",\"receiver\",\"amount\"]\n",
    "    if not all(key in transactionReponse for key in transactionKeys):\n",
    "        return \"There is a key missing\", 400\n",
    "    index = earth.addTransactions(sender=transactionReponse[\"sender\"], receiver=transactionReponse[\"receiver\"], amount=transactionReponse[\"amount\"])\n",
    "    response = {\n",
    "        \"message\": f\"your transaction will be added to block {index}\"\n",
    "    }\n",
    "    return jsonify(response), 201"
   ]
  },
  {
   "cell_type": "code",
   "execution_count": 35,
   "id": "94fe125e-0478-4e95-8c4c-3c00b08af84a",
   "metadata": {},
   "outputs": [],
   "source": [
    "@app.route(\"/connect\", methods = [\"POST\"])\n",
    "def connect():\n",
    "    nodeResponse = request.get_json()\n",
    "    nodes = nodeResponse.get('nodes')\n",
    "    if nodes is None:\n",
    "        return \"there are no nodes in this network\", 400\n",
    "    for node in nodes:\n",
    "        earth.addNode(node)\n",
    "    response = {\n",
    "        \"message\": \"All nodes have been connected\",\n",
    "        \"nodeList\": list(earth.nodes)\n",
    "    }\n",
    "    return jsonify(response), 201"
   ]
  },
  {
   "cell_type": "code",
   "execution_count": null,
   "id": "e0c41903-7a03-401a-b069-36304a65cb55",
   "metadata": {},
   "outputs": [
    {
     "name": "stdout",
     "output_type": "stream",
     "text": [
      " * Serving Flask app \"__main__\" (lazy loading)\n",
      " * Environment: production\n",
      "\u001b[31m   WARNING: This is a development server. Do not use it in a production deployment.\u001b[0m\n",
      "\u001b[2m   Use a production WSGI server instead.\u001b[0m\n",
      " * Debug mode: off\n"
     ]
    },
    {
     "name": "stderr",
     "output_type": "stream",
     "text": [
      " * Running on http://0.0.0.0:4002/ (Press CTRL+C to quit)\n",
      "127.0.0.1 - - [05/Jan/2022 19:17:41] \"\u001b[37mPOST /connect HTTP/1.1\u001b[0m\" 201 -\n",
      "127.0.0.1 - - [05/Jan/2022 19:18:20] \"\u001b[37mGET /mine HTTP/1.1\u001b[0m\" 200 -\n",
      "127.0.0.1 - - [05/Jan/2022 19:18:20] \"\u001b[37mGET /mine HTTP/1.1\u001b[0m\" 200 -\n",
      "127.0.0.1 - - [05/Jan/2022 19:18:21] \"\u001b[37mGET /mine HTTP/1.1\u001b[0m\" 200 -\n",
      "127.0.0.1 - - [05/Jan/2022 19:18:25] \"\u001b[37mGET /chain HTTP/1.1\u001b[0m\" 200 -\n",
      "127.0.0.1 - - [05/Jan/2022 19:18:29] \"\u001b[37mGET /replace HTTP/1.1\u001b[0m\" 200 -\n",
      "127.0.0.1 - - [05/Jan/2022 19:19:20] \"\u001b[37mGET /chain HTTP/1.1\u001b[0m\" 200 -\n",
      "127.0.0.1 - - [05/Jan/2022 19:19:39] \"\u001b[37mGET /chain HTTP/1.1\u001b[0m\" 200 -\n"
     ]
    }
   ],
   "source": [
    "app.run(host=\"0.0.0.0\", port=4002)"
   ]
  },
  {
   "cell_type": "code",
   "execution_count": null,
   "id": "37e3ff53-4c97-4563-9e2a-db5cafb34858",
   "metadata": {},
   "outputs": [],
   "source": []
  }
 ],
 "metadata": {
  "kernelspec": {
   "display_name": "Python 3",
   "language": "python",
   "name": "python3"
  },
  "language_info": {
   "codemirror_mode": {
    "name": "ipython",
    "version": 3
   },
   "file_extension": ".py",
   "mimetype": "text/x-python",
   "name": "python",
   "nbconvert_exporter": "python",
   "pygments_lexer": "ipython3",
   "version": "3.8.8"
  }
 },
 "nbformat": 4,
 "nbformat_minor": 5
}
