{
 "cells": [
  {
   "cell_type": "code",
   "execution_count": 1,
   "id": "72b7a53a",
   "metadata": {},
   "outputs": [],
   "source": [
    "import requests\n",
    "import json\n",
    "import os\n",
    "import datetime\n",
    "import hashlib\n",
    "from flask import Flask, jsonify, request\n",
    "from uuid import uuid4\n",
    "from urllib.parse import urlparse"
   ]
  },
  {
   "cell_type": "code",
   "execution_count": 2,
   "id": "8b389227",
   "metadata": {},
   "outputs": [],
   "source": [
    "class PlutoChain:\n",
    "    def __init__(self):\n",
    "        self.chain = []\n",
    "        self.transaction = []\n",
    "        self.addBlock(proof = 1 , prevHash =\"0\")\n",
    "        self.nodes = set()\n",
    "        \n",
    "    def addBlock(self, proof, prevHash = \"0\"):\n",
    "        block = {\n",
    "            \"index\": len(self.chain),\n",
    "            \"timestamp\": str(datetime.datetime.now()),\n",
    "            \"proof\": proof,\n",
    "            \"prevHash\": prevHash,\n",
    "            \"transactions\": self.transaction\n",
    "        }\n",
    "        self.transaction = []\n",
    "        self.chain.append(block)\n",
    "        return block\n",
    "    \n",
    "    def getLastBlock(self):\n",
    "        return self.chain[-1]\n",
    "    \n",
    "    def proofOfWork(self, prevProof):\n",
    "        new_proof = 1\n",
    "        solved = False\n",
    "        \n",
    "        while solved is False:\n",
    "            hashWork = hashlib.sha256(str(new_proof ** 2 - prevProof ** 2).encode()).hexdigest()\n",
    "            if hashWork[:4] == \"0000\":\n",
    "                solved = True\n",
    "            else:\n",
    "                new_proof +=1 \n",
    "        return new_proof\n",
    "    \n",
    "    def hashBlock(self, block):\n",
    "        encodedBlock = json.dumps(block, sort_keys=True).encode()\n",
    "        return hashlib.sha256(encodedBlock).hexdigest()\n",
    "    \n",
    "    def isChainValid(self, chain):\n",
    "        prevBlock = chain[0]\n",
    "        current_index = 1\n",
    "        \n",
    "        while current_index < len(chain):\n",
    "            current_block = chain[current_index]\n",
    "            current_block_prevHash = current_block[\"prevHash\"]\n",
    "            if current_block_prevHash != self.hashBlock(prevBlock):\n",
    "                return False\n",
    "            currentProof = current_block[\"proof\"]\n",
    "            prevProof = prevBlock[\"proof\"]\n",
    "            hashWork = hashlib.sha256(str(currentProof ** 2 - prevProof ** 2).encode()).hexdigest()\n",
    "            if hashWork[:4] != \"0000\":\n",
    "                return False\n",
    "            prevBlock = current_block\n",
    "            current_index += 1\n",
    "        return True\n",
    "    \n",
    "    def addTransaction(self, sender, receiver, amount):\n",
    "        self.transaction.append({\n",
    "            \"sender\": sender,\n",
    "            \"receiver\": receiver,\n",
    "            \"amount\": amount\n",
    "        })\n",
    "        previousBlock = self.getLastBlock()\n",
    "        return previousBlock[\"index\"] + 1\n",
    "    \n",
    "    def addNode(self, address):\n",
    "        nodeIP = urlparse(address)\n",
    "        self.nodes.add(nodeIP.netloc)\n",
    "    \n",
    "    ### making sure that the blocks are all the same length\n",
    "    ### each node wull contain a version of the chain \n",
    "    ## if not the replace will have to occur in the node\n",
    "    def replaceChain(self):\n",
    "        ## all the cmputer all arond the world\n",
    "        network = self.nodes\n",
    "        ##cinsideration of the longet chain \n",
    "        longestChain = None\n",
    "        ## for loop though the entire the chain and find the longest chain and assign it \n",
    "        ### if we find a chain that is longer than the chain we are on we will updae the \n",
    "        ##Max length var will then be updates\n",
    "        max_Length = len(self.chain)\n",
    "        for node in network:\n",
    "            ##request to get the chain using the revious function weve made\n",
    "            response = requests.get(f\"http://{node}/chain\")\n",
    "            ## Check if everying is working \n",
    "            if response.status_code == 200:\n",
    "                length = response.json()[\"length\"]\n",
    "                chain = response.json()[\"chain\"]\n",
    "                if length > max_Length and self.isChainValid(chain):\n",
    "                    max_Length = length\n",
    "                    longestChain = chain\n",
    "            if longestChain:\n",
    "                self.chain = longestChain\n",
    "                return True\n",
    "            ### Chain was not replaced\n",
    "            return False"
   ]
  },
  {
   "cell_type": "code",
   "execution_count": 3,
   "id": "8e0ef624",
   "metadata": {},
   "outputs": [],
   "source": [
    "nodeAddress = str(uuid4()).replace('-', '')\n",
    "### needed to keep track of the mining address and the award received for a successful mine\n",
    "### Transaction from the node to the miner \n",
    "## uuid4 library generate a uniqie address for out node"
   ]
  },
  {
   "cell_type": "code",
   "execution_count": 4,
   "id": "0b904471",
   "metadata": {},
   "outputs": [],
   "source": [
    "pluto = PlutoChain()"
   ]
  },
  {
   "cell_type": "code",
   "execution_count": 5,
   "id": "6549ab98",
   "metadata": {},
   "outputs": [],
   "source": [
    "app = Flask(__name__)"
   ]
  },
  {
   "cell_type": "code",
   "execution_count": null,
   "id": "df57d5a6-f701-46d5-8bc4-ccf095f8fb8a",
   "metadata": {},
   "outputs": [],
   "source": []
  },
  {
   "cell_type": "code",
   "execution_count": 6,
   "id": "c866535d",
   "metadata": {},
   "outputs": [],
   "source": [
    "## need to post the transactions into a json file before we can call it \n",
    "@app.route(\"/addTransaction\", methods = [\"POST\"])\n",
    "def addTransaction():\n",
    "    ### function has to create a transaciton \n",
    "    ### need sender, receiver, amount \n",
    "    json = request.get_json()\n",
    "    ## make sure al lthe keys are present in the json file \n",
    "    ### Transactions have to consist of all of these keys \n",
    "    transactionKeys = [\"sender\", \"receiver\", \"amount\"]\n",
    "    if not all (key in json for key in transactionKeys): \n",
    "        return \"Some elements of transaction is missing\", 400\n",
    "    ### add transaciton to the next mined block\n",
    "    index = pluto.addTransaction(json[\"sender\"], json[\"receiver\"], json[\"amount\"])\n",
    "    response = {\n",
    "        \"success\": f\"transaction will be added to index {index}\"\n",
    "    }\n",
    "    return jsonify(response), 201"
   ]
  },
  {
   "cell_type": "code",
   "execution_count": 7,
   "id": "8e505a25",
   "metadata": {},
   "outputs": [],
   "source": [
    "##connecting new nodes the nodes -> decentralizing the crypto \"POST\" -> Creating a new node -> need to register node\n",
    "@app.route(\"/connectNode\", methods = [\"POST\"])\n",
    "def connectNode():\n",
    "    nodeJson = request.get_json()\n",
    "    ##connect a new node to all the other nodes\n",
    "    ## need to get the address we needfor the addNode function \n",
    "    ### Will contain all the nodes in the network\n",
    "    nodes = nodeJson.get('nodes')\n",
    "    ## check nodes are not empty \n",
    "    if nodes is None:\n",
    "        return \"No Node\", 400\n",
    "    for node in nodes:\n",
    "        pluto.addNode(node)\n",
    "    response = {\n",
    "        \"message\": \"All nodes are now collected\",\n",
    "        \"totalnodes\": list(pluto.nodes)\n",
    "    }\n",
    "    return jsonify(response), 201\n"
   ]
  },
  {
   "cell_type": "code",
   "execution_count": 8,
   "id": "93eab433",
   "metadata": {},
   "outputs": [],
   "source": [
    "### Updateing the chain/ replacing with the longest \n",
    "@app.route(\"/replacechain\", methods = [\"GET\"])\n",
    "def replacechain():\n",
    "    ##get boolean true or false is the chain needs to me replaced\n",
    "    shouldreplace = pluto.replaceChain()\n",
    "    if shouldreplace:\n",
    "        response = {\n",
    "            \"message\": \"The chain was replaced\",\n",
    "            \"newchain\": pluto.chain,\n",
    "            \"chainlength\": len(pluto.chain)\n",
    "        }\n",
    "    else:\n",
    "        response = {\n",
    "            \"message\": \"All good chain is at the largest\",\n",
    "            \"currentchain\": pluto.chain,\n",
    "            \"chainlength\": len(pluto.chain)\n",
    "        }\n",
    "    return jsonify(response), 200"
   ]
  },
  {
   "cell_type": "code",
   "execution_count": 9,
   "id": "76973bb8",
   "metadata": {},
   "outputs": [],
   "source": [
    "@app.route(\"/mine\", methods = [\"GET\"])\n",
    "def mine():\n",
    "    previousBlock = pluto.getLastBlock()\n",
    "    previousProof = previousBlock[\"proof\"]\n",
    "    proof = pluto.proofOfWork(previousProof)\n",
    "    prevHash = pluto.hashBlock(previousBlock)\n",
    "    pluto.addTransaction(sender= nodeAddress, receiver= \"Me\", amount= 10)\n",
    "    block = pluto.addBlock(proof, prevHash)\n",
    "    response = {\n",
    "        \"index\": block[\"index\"],\n",
    "        \"stamp\": block[\"timestamp\"],\n",
    "        \"proof\": block[\"proof\"],\n",
    "        \"transactions\": block[\"transactions\"],\n",
    "        \"prevHash\": block[\"prevHash\"]\n",
    "    }\n",
    "    return jsonify(response), 200"
   ]
  },
  {
   "cell_type": "code",
   "execution_count": 10,
   "id": "4a17d5ff-0a9f-4278-8f4a-48adbfae809e",
   "metadata": {},
   "outputs": [],
   "source": [
    "@app.route(\"/chain\", methods = [\"GET\"])\n",
    "def chain():\n",
    "    response = {\n",
    "        \"chain\": pluto.chain,\n",
    "        \"length\": len(pluto.chain)\n",
    "    }\n",
    "    return jsonify(response),200"
   ]
  },
  {
   "cell_type": "code",
   "execution_count": null,
   "id": "b6f56de4-30ef-414b-9968-b27df9e23180",
   "metadata": {},
   "outputs": [],
   "source": []
  },
  {
   "cell_type": "code",
   "execution_count": null,
   "id": "a8438266-bea0-4c8e-8fcb-aad02b7bff18",
   "metadata": {},
   "outputs": [],
   "source": []
  },
  {
   "cell_type": "code",
   "execution_count": 11,
   "id": "e009d66a",
   "metadata": {},
   "outputs": [
    {
     "name": "stdout",
     "output_type": "stream",
     "text": [
      " * Serving Flask app \"__main__\" (lazy loading)\n",
      " * Environment: production\n",
      "\u001b[31m   WARNING: This is a development server. Do not use it in a production deployment.\u001b[0m\n",
      "\u001b[2m   Use a production WSGI server instead.\u001b[0m\n",
      " * Debug mode: off\n"
     ]
    },
    {
     "name": "stderr",
     "output_type": "stream",
     "text": [
      " * Running on http://0.0.0.0:5001/ (Press CTRL+C to quit)\n",
      "127.0.0.1 - - [29/Dec/2021 22:46:02] \"\u001b[37mGET /chain HTTP/1.1\u001b[0m\" 200 -\n",
      "127.0.0.1 - - [29/Dec/2021 22:46:52] \"\u001b[37mPOST /connectNode HTTP/1.1\u001b[0m\" 201 -\n",
      "127.0.0.1 - - [29/Dec/2021 22:47:28] \"\u001b[37mGET /mine HTTP/1.1\u001b[0m\" 200 -\n",
      "127.0.0.1 - - [29/Dec/2021 22:47:31] \"\u001b[37mGET /mine HTTP/1.1\u001b[0m\" 200 -\n",
      "127.0.0.1 - - [29/Dec/2021 22:47:35] \"\u001b[37mGET /chain HTTP/1.1\u001b[0m\" 200 -\n",
      "127.0.0.1 - - [29/Dec/2021 22:48:17] \"\u001b[37mGET /chain HTTP/1.1\u001b[0m\" 200 -\n",
      "127.0.0.1 - - [29/Dec/2021 22:54:59] \"\u001b[37mPOST /addTransaction HTTP/1.1\u001b[0m\" 201 -\n",
      "127.0.0.1 - - [29/Dec/2021 22:55:35] \"\u001b[37mGET /mine HTTP/1.1\u001b[0m\" 200 -\n",
      "127.0.0.1 - - [29/Dec/2021 22:56:10] \"\u001b[37mGET /chain HTTP/1.1\u001b[0m\" 200 -\n",
      "127.0.0.1 - - [29/Dec/2021 22:57:10] \"\u001b[37mGET /chain HTTP/1.1\u001b[0m\" 200 -\n",
      "127.0.0.1 - - [29/Dec/2021 22:59:41] \"\u001b[37mPOST /addTransaction HTTP/1.1\u001b[0m\" 201 -\n",
      "127.0.0.1 - - [29/Dec/2021 23:00:01] \"\u001b[37mPOST /addTransaction HTTP/1.1\u001b[0m\" 201 -\n",
      "127.0.0.1 - - [29/Dec/2021 23:00:14] \"\u001b[37mPOST /addTransaction HTTP/1.1\u001b[0m\" 201 -\n",
      "127.0.0.1 - - [29/Dec/2021 23:00:21] \"\u001b[31m\u001b[1mPOST /mine HTTP/1.1\u001b[0m\" 405 -\n",
      "127.0.0.1 - - [29/Dec/2021 23:00:26] \"\u001b[37mGET /mine HTTP/1.1\u001b[0m\" 200 -\n"
     ]
    }
   ],
   "source": [
    "app.run(host=\"0.0.0.0\", port=5001)"
   ]
  },
  {
   "cell_type": "code",
   "execution_count": null,
   "id": "47e50ec0-908e-42f2-8c63-a2a3a603d13c",
   "metadata": {},
   "outputs": [],
   "source": []
  },
  {
   "cell_type": "code",
   "execution_count": null,
   "id": "ed66eaac-c8f7-4ec4-ad09-3474e1a18419",
   "metadata": {},
   "outputs": [],
   "source": []
  }
 ],
 "metadata": {
  "kernelspec": {
   "display_name": "Python 3",
   "language": "python",
   "name": "python3"
  },
  "language_info": {
   "codemirror_mode": {
    "name": "ipython",
    "version": 3
   },
   "file_extension": ".py",
   "mimetype": "text/x-python",
   "name": "python",
   "nbconvert_exporter": "python",
   "pygments_lexer": "ipython3",
   "version": "3.8.8"
  }
 },
 "nbformat": 4,
 "nbformat_minor": 5
}
