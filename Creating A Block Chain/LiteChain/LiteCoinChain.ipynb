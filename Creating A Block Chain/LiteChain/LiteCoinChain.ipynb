{
 "cells": [
  {
   "cell_type": "code",
   "execution_count": 9,
   "metadata": {},
   "outputs": [],
   "source": [
    "import json\n",
    "import hashlib\n",
    "from flask import Flask, jsonify\n",
    "import datetime\n",
    "import os"
   ]
  },
  {
   "cell_type": "code",
   "execution_count": 10,
   "metadata": {},
   "outputs": [],
   "source": [
    "class LiteCoinChain:\n",
    "    def __init__(self):\n",
    "        self.chain = []\n",
    "        self.addCoin(proof = 1, previousHash = \"0\")\n",
    "        \n",
    "    def addCoin(self, proof, previousHash):\n",
    "        coin = {\n",
    "            \"index\": len(self.chain) + 1,\n",
    "            \"timestamp\": str(datetime.datetime.now()),\n",
    "            \"proof\": proof,\n",
    "            \"previoushash\": previousHash\n",
    "        }\n",
    "        self.chain.append(coin)\n",
    "        return coin\n",
    "    \n",
    "    def getLastCoin(self):\n",
    "        return self.chain[-1]\n",
    "    \n",
    "    def proofOfWork(self, previousProof):\n",
    "        new_proof = 1\n",
    "        solved = False\n",
    "        while solved is False:\n",
    "            hashProcess = hashlib.sha256(str(new_proof **2 - previousProof ** 2).encode()).hexdigest()\n",
    "            if hashProcess[:4] == \"0000\":\n",
    "                solved = True\n",
    "            else:\n",
    "                new_proof += 1\n",
    "        return new_proof\n",
    "    \n",
    "    def hashCoin(self, coin):\n",
    "        encodedHash = json.dumps(coin).encode()\n",
    "        return hashlib.sha256(encodedHash).hexdigest()\n",
    "    \n",
    "    def isChainVaild(self, lightChain):\n",
    "        previousCoin = lightChain[0]\n",
    "        current_index = 1\n",
    "        \n",
    "        while current_index < len(lightChain):\n",
    "            currentCoin = lightChain[current_index]            \n",
    "            if currentPrev[\"previoushash\"] != hashCoin(previousCoin):\n",
    "                return  False\n",
    "            currentProof = currentCoin[\"proof\"]\n",
    "            prevProof= previousCoin[\"proof\"]\n",
    "            hashCheck = hashlib.sha256(str(currentProof **2 - prevProof ** 2).encode()).hexdigest()\n",
    "            if hashCheck[:4] != \"0000\":\n",
    "                return False\n",
    "        return True"
   ]
  },
  {
   "cell_type": "code",
   "execution_count": 11,
   "metadata": {},
   "outputs": [],
   "source": [
    "LTE = LiteCoinChain()"
   ]
  },
  {
   "cell_type": "code",
   "execution_count": 12,
   "metadata": {},
   "outputs": [],
   "source": [
    "app = Flask(__name__)"
   ]
  },
  {
   "cell_type": "code",
   "execution_count": 13,
   "metadata": {},
   "outputs": [],
   "source": [
    "@app.route(\"/mine\", methods = [\"GET\"])\n",
    "def mine():\n",
    "    prevCoin = LTE.getLastCoin()\n",
    "    prevProof = prevCoin[\"proof\"]\n",
    "    proof = LTE.proofOfWork(prevProof)\n",
    "    prev_hash = LTE.hashCoin(prevCoin)\n",
    "    coin = LTE.addCoin(proof, prev_hash)\n",
    "    response = {\n",
    "        \"success\":\"You have mined a coin :)\",\n",
    "        \"index\": coin[\"index\"],\n",
    "        \"proof\": coin[\"proof\"],\n",
    "        \"prev\": coin[\"previoushash\"],\n",
    "        \"timestamp\": coin[\"timestamp\"] \n",
    "    }\n",
    "    return jsonify(response), 200"
   ]
  },
  {
   "cell_type": "code",
   "execution_count": 14,
   "metadata": {},
   "outputs": [],
   "source": [
    "@app.route(\"/chain\", methods = [\"GET\"])\n",
    "def chain():\n",
    "    response = {\n",
    "        \"chain\": LTE.chain,\n",
    "        \"len\": len(LTE.chain)\n",
    "    }\n",
    "    return jsonify(response)"
   ]
  },
  {
   "cell_type": "code",
   "execution_count": 15,
   "metadata": {},
   "outputs": [],
   "source": [
    "@app.route(\"/valid\", methods = [\"GET\"])\n",
    "def valid():\n",
    "    response = {}\n",
    "    if LTE.isChainVaild(LTE.chain) is True:\n",
    "        response[\"validResponse\"] = \"This chain is valid\"\n",
    "    else:\n",
    "        response[\"validResponse\"] = \"This chain is invalid\"\n",
    "    return jsonify(response)"
   ]
  },
  {
   "cell_type": "code",
   "execution_count": 16,
   "metadata": {},
   "outputs": [
    {
     "name": "stderr",
     "output_type": "stream",
     "text": [
      " * Running on http://0.0.0.0:4444/ (Press CTRL+C to quit)\n",
      "127.0.0.1 - - [22/Dec/2021 10:49:01] \"\u001b[37mGET /mine HTTP/1.1\u001b[0m\" 200 -\n",
      "127.0.0.1 - - [22/Dec/2021 10:49:05] \"\u001b[37mGET /mine HTTP/1.1\u001b[0m\" 200 -\n",
      "127.0.0.1 - - [22/Dec/2021 10:49:06] \"\u001b[37mGET /mine HTTP/1.1\u001b[0m\" 200 -\n",
      "127.0.0.1 - - [22/Dec/2021 10:49:07] \"\u001b[37mGET /mine HTTP/1.1\u001b[0m\" 200 -\n",
      "127.0.0.1 - - [22/Dec/2021 10:49:10] \"\u001b[37mGET /chain HTTP/1.1\u001b[0m\" 200 -\n",
      "127.0.0.1 - - [22/Dec/2021 10:49:42] \"\u001b[33mGET /vaild HTTP/1.1\u001b[0m\" 404 -\n",
      "127.0.0.1 - - [22/Dec/2021 10:50:12] \"\u001b[33mGET /vaild HTTP/1.1\u001b[0m\" 404 -\n",
      "127.0.0.1 - - [22/Dec/2021 10:50:43] \"\u001b[37mGET /chain HTTP/1.1\u001b[0m\" 200 -\n",
      "127.0.0.1 - - [22/Dec/2021 10:50:48] \"\u001b[37mGET /mine HTTP/1.1\u001b[0m\" 200 -\n",
      "127.0.0.1 - - [22/Dec/2021 10:50:50] \"\u001b[37mGET /mine HTTP/1.1\u001b[0m\" 200 -\n",
      "127.0.0.1 - - [22/Dec/2021 10:50:57] \"\u001b[37mGET /chain HTTP/1.1\u001b[0m\" 200 -\n"
     ]
    }
   ],
   "source": [
    "if __name__==\"__main__\":\n",
    "    app.run(host=os.getenv('IP', '0.0.0.0'), \n",
    "            port=int(os.getenv('PORT', 4444)))"
   ]
  },
  {
   "cell_type": "code",
   "execution_count": null,
   "metadata": {},
   "outputs": [],
   "source": []
  },
  {
   "cell_type": "code",
   "execution_count": null,
   "metadata": {},
   "outputs": [],
   "source": []
  }
 ],
 "metadata": {
  "kernelspec": {
   "display_name": "Python 3",
   "language": "python",
   "name": "python3"
  },
  "language_info": {
   "codemirror_mode": {
    "name": "ipython",
    "version": 3
   },
   "file_extension": ".py",
   "mimetype": "text/x-python",
   "name": "python",
   "nbconvert_exporter": "python",
   "pygments_lexer": "ipython3",
   "version": "3.8.8"
  }
 },
 "nbformat": 4,
 "nbformat_minor": 4
}
