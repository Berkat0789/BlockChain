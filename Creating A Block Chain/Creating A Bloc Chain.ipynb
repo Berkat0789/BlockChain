{
 "cells": [
  {
   "cell_type": "code",
   "execution_count": 5,
   "id": "d41a3033",
   "metadata": {},
   "outputs": [],
   "source": [
    "from flask import Flask, jsonify\n",
    "import datetime\n",
    "import hashlib\n",
    "import json"
   ]
  },
  {
   "cell_type": "code",
   "execution_count": 7,
   "id": "de2fd2e9",
   "metadata": {},
   "outputs": [],
   "source": [
    "class Bitcoin:\n",
    "    def __init__(self):\n",
    "        self.chain = []\n",
    "        self.create_block(proof = 1, prev = \"0\")\n",
    "        \n",
    "    def create_block(self, proof, prev):\n",
    "        block = {\n",
    "            \"index\": len(self.chain) + 1,\n",
    "            \"timestamp\": datetime.datetime.now(),\n",
    "            \"proof\": proof,\n",
    "            \"prev\": prev\n",
    "        }\n",
    "        self.chain.append(block)\n",
    "        return block\n",
    "    \n",
    "    def get_last_block(self):\n",
    "        return self.chain[-1]\n",
    "    \n",
    "    def get_proof(self, prev):\n",
    "        new_proof = 1\n",
    "        solved = False\n",
    "        while solved is False:\n",
    "            hashProblem = hashlib.sha256(str(new_proof ** 1 - prev ** 2).encode()).hexdigest()\n",
    "            if hashProblem[:4] == \"0000\":\n",
    "                solved = True\n",
    "            else:\n",
    "                new_proof += 1\n",
    "        return new_proof\n",
    "    \n",
    "    def encode_Block(self, block):\n",
    "        encoded = json.dumps(block, sort_keys=True).encode()\n",
    "        return hashlib.sha256(encoded).hexdigest()\n",
    "    \n",
    "    def is_chain_valid(self, chain):\n",
    "        previous_block = chain[0]\n",
    "        current_index = 1\n",
    "        \n",
    "        while current_index < len(chain):\n",
    "            block = chain[current_index]\n",
    "            if block[\"prev\"] != self.encode_Block(previous_block):\n",
    "                return False\n",
    "            current_Proof = block[\"proof\"]\n",
    "            prev_proof = previous_block[\"proof\"]\n",
    "            hashProof = hashlib.sha256(str(current_Proof **2 - prev_proof **2).encode()).hexdigest()\n",
    "            if hashProof[:4] != \"0000\":\n",
    "                return False\n",
    "            previous_block = block\n",
    "            current_index += 1\n",
    "        return "
   ]
  },
  {
   "cell_type": "code",
   "execution_count": null,
   "id": "49e53a38",
   "metadata": {},
   "outputs": [],
   "source": []
  }
 ],
 "metadata": {
  "kernelspec": {
   "display_name": "Python 3",
   "language": "python",
   "name": "python3"
  },
  "language_info": {
   "codemirror_mode": {
    "name": "ipython",
    "version": 3
   },
   "file_extension": ".py",
   "mimetype": "text/x-python",
   "name": "python",
   "nbconvert_exporter": "python",
   "pygments_lexer": "ipython3",
   "version": "3.8.8"
  }
 },
 "nbformat": 4,
 "nbformat_minor": 5
}
