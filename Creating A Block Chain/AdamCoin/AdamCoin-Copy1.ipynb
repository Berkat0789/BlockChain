{
 "cells": [
  {
   "cell_type": "code",
   "execution_count": 13,
   "id": "7fdfad86-bbdb-40bd-a68e-4a171b4c3504",
   "metadata": {},
   "outputs": [],
   "source": [
    "import requests\n",
    "import hashlib\n",
    "import json\n",
    "import datetime\n",
    "from flask import Flask, jsonify, request\n",
    "from uuid import uuid4\n",
    "from urllib.request import urlparse"
   ]
  },
  {
   "cell_type": "code",
   "execution_count": 14,
   "id": "9f0f9891-04f4-44cf-9eb7-c5987afc780e",
   "metadata": {},
   "outputs": [],
   "source": [
    "class Adam:\n",
    "    \n",
    "    def __init__(self):\n",
    "        self.chain = []\n",
    "        self.transactions = []\n",
    "        self.addBlock(proof = 1, prevHash = \"0\")\n",
    "        self.nodes = set()\n",
    "    \n",
    "    def addBlock(self, proof, prevHash):\n",
    "        block = {\n",
    "            \"index\": len(self.chain),\n",
    "            \"timestamp\": str(datetime.datetime.now()),\n",
    "            \"proof\": proof,\n",
    "            \"prevHash\": prevHash,\n",
    "            \"transactions\": self.transactions\n",
    "        }\n",
    "        self.transactions = []\n",
    "        self.chain.append(block)\n",
    "        return block\n",
    "    \n",
    "    def getLastBlock(self):\n",
    "        return self.chain[-1]\n",
    "       \n",
    "    def proofOFWork(self, previosProof):\n",
    "        newProof = 1\n",
    "        solved = False\n",
    "        while solved is False:\n",
    "            hasProblem = hashlib.sha256(str(newProof ** 2 - previosProof **2).encode()).hexdigest()\n",
    "            if hasProblem[:4] == \"0000\":\n",
    "                solved = True\n",
    "            else:\n",
    "                newProof += 1\n",
    "        return newProof\n",
    "    \n",
    "    def hashBlock(self, block):\n",
    "        encodedBlock = json.dumps(block, sort_keys=True).encode()\n",
    "        return hashlib.sha256(encodedBlock).hexdigest()\n",
    "\n",
    "    \n",
    "    def addTransaction(self, sender, receiver, amount):\n",
    "        self.transactions.append({\n",
    "            \"sender\": sender,\n",
    "            \"receiver\": receiver,\n",
    "            \"amount\": amount\n",
    "        })\n",
    "        lastBlock = self.getLastBlock()\n",
    "        return lastBlock[\"index\"] + 1\n",
    "    \n",
    "    def addNode(self, address):\n",
    "        nodeIP = urlparse(address)\n",
    "        self.nodes.add(nodeIP.path)\n",
    "        \n",
    "    def isChainValid(self, chain):\n",
    "        previousBlock = chain[0]\n",
    "        currentIndex = 1\n",
    "        \n",
    "        while currentIndex < len(chain):\n",
    "            currentBlock = chain[currentIndex]\n",
    "            currentPrevHash = currentBlock[\"prevHash\"]\n",
    "            if currentPrevHash != self.hashBlock(previousBlock):\n",
    "                return False\n",
    "            currentProof = currentBlock[\"proof\"]\n",
    "            previousProof = previousBlock[\"proof\"]\n",
    "            hasProblem = hashlib.sha256(str(currentProof ** 2 - previousProof **2).encode()).hexdigest()\n",
    "            if hasProblem[:4] != \"0000\":\n",
    "                return False\n",
    "            previousBlock = currentBlock\n",
    "            currentIndex += 1\n",
    "        return True\n",
    "    \n",
    "    def shouldReplaceChain(self):\n",
    "        network = self.nodes\n",
    "        longestChain = None\n",
    "        currentLength = len(self.chain)\n",
    "        \n",
    "        for node in network:\n",
    "            nodeResponse = requests.get(f\"http://{node}/chain\")\n",
    "            if nodeResponse.status_code == 200:\n",
    "                chain = nodeResponse.json()[\"chain\"]\n",
    "                length = nodeResponse.json()[\"length\"]\n",
    "                if length > currentLength and self.isChainValid(chain):\n",
    "                    longestChain = chain\n",
    "                    currentLength = length\n",
    "        if longestChain: ##not none\n",
    "            self.chain = longestChain\n",
    "            return True\n",
    "        return False\n",
    "\n",
    "    "
   ]
  },
  {
   "cell_type": "code",
   "execution_count": 15,
   "id": "5a487e08-cea5-47ac-84e5-e9b593a5ee3b",
   "metadata": {},
   "outputs": [],
   "source": [
    "app = Flask(__name__)"
   ]
  },
  {
   "cell_type": "code",
   "execution_count": 16,
   "id": "027895b7-c921-400a-8320-2bd399a35a7a",
   "metadata": {},
   "outputs": [],
   "source": [
    "nodeAddress = str(uuid4()).replace(\"-\", \"\")"
   ]
  },
  {
   "cell_type": "code",
   "execution_count": 17,
   "id": "7bec5185-58ba-4eaf-9193-5c9e4a7e6341",
   "metadata": {},
   "outputs": [],
   "source": [
    "adam = Adam()"
   ]
  },
  {
   "cell_type": "code",
   "execution_count": 18,
   "id": "4282afd6-3fac-4a32-8db1-bc38c1cc6458",
   "metadata": {},
   "outputs": [],
   "source": [
    "@app.route(\"/mine\", methods = [\"GET\"])\n",
    "def mine():\n",
    "    previousBlock = adam.getLastBlock()\n",
    "    previousProof = previousBlock[\"proof\"]\n",
    "    proof = adam.proofOFWork(previousProof)\n",
    "    adam.addTransaction(sender = nodeAddress, receiver = \"jannet\", amount = 10)\n",
    "    previousHash = adam.hashBlock(previousBlock)\n",
    "    block = adam.addBlock(proof, previousHash)\n",
    "    response = {\n",
    "        \"message\": \"Congrats you have mined an new ADAM COin\",\n",
    "        \"index\": block[\"index\"],\n",
    "        \"proof\": block[\"proof\"],\n",
    "        \"prevHash\": block[\"prevHash\"],\n",
    "        \"time\": block[\"timestamp\"]\n",
    "    }\n",
    "    return jsonify(response), 200"
   ]
  },
  {
   "cell_type": "code",
   "execution_count": 19,
   "id": "6ceb5195-6e68-428a-9425-e812413a9a4e",
   "metadata": {},
   "outputs": [],
   "source": [
    "@app.route(\"/chain\", methods = [\"GET\"])\n",
    "def chain():\n",
    "    response = {\n",
    "        \"chain\": adam.chain,\n",
    "        \"length\": len(adam.chain)\n",
    "    }\n",
    "    return jsonify(response), 200"
   ]
  },
  {
   "cell_type": "code",
   "execution_count": 20,
   "id": "efaadced-695c-436a-95df-2f421839d262",
   "metadata": {},
   "outputs": [],
   "source": [
    "@app.route(\"/valid\", methods = [\"GET\"])\n",
    "def valid(): \n",
    "    isValid = adam.isChainValid(adam.chain)\n",
    "    if isValid:\n",
    "        response = {\"message\": \"The chain is valid, build on it\"}\n",
    "    else:\n",
    "        response = {\"message\": 'The chain is not valid brody'}\n",
    "    return jsonify(response), 200   "
   ]
  },
  {
   "cell_type": "code",
   "execution_count": 21,
   "id": "fc752948-51d6-4fe9-9930-525e1309ab3c",
   "metadata": {},
   "outputs": [],
   "source": [
    "@app.route('/transaction', methods = ['POST'])\n",
    "def transaction():\n",
    "    json = request.get_json()\n",
    "    transaction_keys = ['sender', 'receiver', 'amount']\n",
    "    if not all(key in json for key in transaction_keys):\n",
    "        return 'Some elements of the transaction are missing', 400\n",
    "    index = adam.addTransaction(json['sender'], json['receiver'], json['amount'])\n",
    "    response = {'message': f'This transaction will be added to Block {index}'}\n",
    "    return jsonify(response), 201"
   ]
  },
  {
   "cell_type": "code",
   "execution_count": 22,
   "id": "fe9fb334-ef49-4aa6-98fa-2a97837af3bb",
   "metadata": {},
   "outputs": [],
   "source": [
    "@app.route('/connect', methods = ['POST'])\n",
    "def connect():\n",
    "    json = request.get_json()\n",
    "    nodes = json.get('nodes')\n",
    "    if nodes is None:\n",
    "        return \"No node\", 400\n",
    "    for node in nodes:\n",
    "        adam.addNode(node)\n",
    "    response = {'message': 'All the nodes are now connected. The Hadcoin Blockchain now contains the following nodes:',\n",
    "                'total_nodes': list(adam.nodes)}\n",
    "    return jsonify(response), 201"
   ]
  },
  {
   "cell_type": "code",
   "execution_count": 23,
   "id": "43bb698f-6437-44e5-a8b3-44edb6d3f202",
   "metadata": {},
   "outputs": [],
   "source": [
    "@app.route('/replace', methods = ['GET'])\n",
    "def replace():\n",
    "    is_chain_replaced = adam.shouldReplaceChain()\n",
    "    if is_chain_replaced:\n",
    "        response = {'message': 'The nodes had different chains so the chain was replaced by the longest one.',\n",
    "                    'new_chain': adam.chain}\n",
    "    else:\n",
    "        response = {'message': 'All good. The chain is the largest one.',\n",
    "                    'actual_chain': adam.chain}\n",
    "    return jsonify(response), 200"
   ]
  },
  {
   "cell_type": "code",
   "execution_count": 24,
   "id": "0596aa70-6680-4c8d-8f05-7f848605757c",
   "metadata": {},
   "outputs": [
    {
     "name": "stdout",
     "output_type": "stream",
     "text": [
      " * Serving Flask app \"__main__\" (lazy loading)\n",
      " * Environment: production\n",
      "\u001b[31m   WARNING: This is a development server. Do not use it in a production deployment.\u001b[0m\n",
      "\u001b[2m   Use a production WSGI server instead.\u001b[0m\n",
      " * Debug mode: off\n"
     ]
    },
    {
     "name": "stderr",
     "output_type": "stream",
     "text": [
      " * Running on http://0.0.0.0:5001/ (Press CTRL+C to quit)\n",
      "127.0.0.1 - - [01/Jan/2022 22:12:33] \"\u001b[37mGET /chain HTTP/1.1\u001b[0m\" 200 -\n",
      "127.0.0.1 - - [01/Jan/2022 22:13:07] \"\u001b[37mGET /chain HTTP/1.1\u001b[0m\" 200 -\n",
      "127.0.0.1 - - [01/Jan/2022 22:13:09] \"\u001b[37mGET /mine HTTP/1.1\u001b[0m\" 200 -\n",
      "127.0.0.1 - - [01/Jan/2022 22:13:11] \"\u001b[37mGET /mine HTTP/1.1\u001b[0m\" 200 -\n",
      "127.0.0.1 - - [01/Jan/2022 22:13:13] \"\u001b[37mGET /chain HTTP/1.1\u001b[0m\" 200 -\n",
      "127.0.0.1 - - [01/Jan/2022 22:14:34] \"\u001b[37mPOST /connect HTTP/1.1\u001b[0m\" 201 -\n",
      "127.0.0.1 - - [01/Jan/2022 22:15:30] \"\u001b[37mGET /chain HTTP/1.1\u001b[0m\" 200 -\n",
      "127.0.0.1 - - [01/Jan/2022 22:15:45] \"\u001b[37mGET /replace HTTP/1.1\u001b[0m\" 200 -\n",
      "127.0.0.1 - - [01/Jan/2022 22:16:02] \"\u001b[37mGET /chain HTTP/1.1\u001b[0m\" 200 -\n"
     ]
    }
   ],
   "source": [
    "app.run(host=\"0.0.0.0\", port=5001)"
   ]
  },
  {
   "cell_type": "code",
   "execution_count": null,
   "id": "457f080a-f8f4-4345-9cb8-104483303c59",
   "metadata": {},
   "outputs": [],
   "source": []
  }
 ],
 "metadata": {
  "kernelspec": {
   "display_name": "Python 3",
   "language": "python",
   "name": "python3"
  },
  "language_info": {
   "codemirror_mode": {
    "name": "ipython",
    "version": 3
   },
   "file_extension": ".py",
   "mimetype": "text/x-python",
   "name": "python",
   "nbconvert_exporter": "python",
   "pygments_lexer": "ipython3",
   "version": "3.8.8"
  }
 },
 "nbformat": 4,
 "nbformat_minor": 5
}
