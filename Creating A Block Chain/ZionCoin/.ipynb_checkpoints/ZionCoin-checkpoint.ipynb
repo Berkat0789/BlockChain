{
 "cells": [
  {
   "cell_type": "code",
   "execution_count": null,
   "id": "57c6c77c-542f-4911-a0bf-b20baea25929",
   "metadata": {},
   "outputs": [],
   "source": [
    "import datetime\n",
    "import json\n",
    "import hashlib\n",
    "import requests\n",
    "from flask import Flask, jsonify, request\n",
    "from uuid import uuid4\n",
    "from urllib.parse import urlparse"
   ]
  },
  {
   "cell_type": "code",
   "execution_count": null,
   "id": "94df576b-ec3b-4441-bbaf-6d6ea0a554e9",
   "metadata": {},
   "outputs": [],
   "source": [
    "class Zion:\n",
    "    \n",
    "    def __init__(self):\n",
    "        self.chain = []\n",
    "        self.transactions = []\n",
    "        self.addBlock(proof = 1, prevHash = \"0\")\n",
    "        self.nodes = set()\n",
    "        \n",
    "    def addBlock(self, proof, prevHash):\n",
    "        block = {\n",
    "            \"index\": len(self.chain),\n",
    "            \"timestamp\": str(datetime.datetime.now()),\n",
    "            \"proof\": proof,\n",
    "            \"prevHash\": prevHash,\n",
    "            \"transactions\": self.transactions\n",
    "        }\n",
    "        self.transactions = []\n",
    "        self.chain.append(block)\n",
    "        return block\n",
    "    \n",
    "    def getLastBlock(self):\n",
    "        return self.chain[-1]\n",
    "    \n",
    "    def hashBlock(self, block):\n",
    "        encodedBlock = json.dumps(block, sort_keys=True).encode()\n",
    "        return hashlib.sha256(encodedBlock).hexdigest()\n",
    "    \n",
    "    def proofOfWork(self, prevProof):\n",
    "        newProof = 1 \n",
    "        solved = False\n",
    "        \n",
    "        while solved is False:\n",
    "            hasProblem = hashlib.sha256(str(newProof ** 2 - prevProof **2).encode()).hexdigest()\n",
    "            if hasProblem[:4] == \"0000\":\n",
    "                solved = True\n",
    "            else:\n",
    "                newProof += 1\n",
    "        return newProof\n",
    "    \n",
    "    def addNode(self, address):\n",
    "        nodeID = urlparse(address)\n",
    "        self.nodes.add(nodeID.netloc)\n",
    "        \n",
    "    def addTransaction(self, sender, receiver, amount):\n",
    "        self.transactions.append({\n",
    "            \"sender\": sender,\n",
    "            \"receiver\": receiver,\n",
    "            \"amount\": amount\n",
    "        })\n",
    "        lastBlock = self.getLastBlock()\n",
    "        return lastBlock[\"index\"] + 1\n",
    "    \n",
    "    def isChainValid(self, chain):\n",
    "        previousBlock = chain[0]\n",
    "        currentIndex = 1 \n",
    "        \n",
    "        while currentIndex < len(chain):\n",
    "            currentBlock = chain[currentIndex]\n",
    "            currentPrevHash = currentBlock[\"prevHash\"]\n",
    "            if currentPrevHash != self.hashBlock(previousBlock):\n",
    "                return False\n",
    "            currentProof = currentBlock[\"proof\"]\n",
    "            previousProof = previousBlock[\"proof\"]\n",
    "            hashCheck = hashlib.sha256(str(currentProof ** 2 - previousProof **2).encode()).hexdigest()\n",
    "            if hashCheck[:4] != \"0000\":\n",
    "                return False\n",
    "            previousBlock = currentBlock\n",
    "            currentIndex += 1\n",
    "        return True\n",
    "    \n",
    "    def shouldReplaceChain(self):\n",
    "        network = self.nodes\n",
    "        longestChain = None\n",
    "        currentLength = len(self.chain)\n",
    "        \n",
    "        for node in network:\n",
    "            nodeResponse = requests.get(f\"http://{node}/chain\")\n",
    "            if nodeResponse.status_code == 200:\n",
    "                chain = nodeResponse[\"chain\"]\n",
    "                length = nodeResponse[\"length\"]\n",
    "                if length > currentLength:\n",
    "                    longestChain = chain \n",
    "                    currentLength = length\n",
    "            if longestChain:##not nil \n",
    "                self.chain = chain\n",
    "                return True\n",
    "        return False\n",
    "    \n",
    "            \n"
   ]
  },
  {
   "cell_type": "code",
   "execution_count": null,
   "id": "5da76942-0ac8-420a-8460-41b271d478c8",
   "metadata": {},
   "outputs": [],
   "source": [
    "zion = Zion()"
   ]
  },
  {
   "cell_type": "code",
   "execution_count": null,
   "id": "9a5b022e-7119-40d9-bd8e-ab2457c3e9ba",
   "metadata": {},
   "outputs": [],
   "source": [
    "app = Flask(__name__)"
   ]
  },
  {
   "cell_type": "code",
   "execution_count": null,
   "id": "f265e523-07b5-40f2-98d4-e0a22b4e092f",
   "metadata": {},
   "outputs": [],
   "source": [
    "nodeAddress = str(uuid4()).replace(\"-\", \"\")"
   ]
  },
  {
   "cell_type": "code",
   "execution_count": null,
   "id": "b6fb0cbb-afe6-4f74-a12a-2dc19ef5a9ca",
   "metadata": {},
   "outputs": [],
   "source": [
    "@app.route(\"/mine\", methods = [\"GET\"])\n",
    "def mine():\n",
    "    previousBlock = zion.getLastBlock()\n",
    "    previousProof = previousBlock[\"proof\"]\n",
    "    previousHash = zion.hashBlock(previousBlock)\n",
    "    proof = zion.proofOfWork(previousProof)\n",
    "    zion.addTransaction(sender = nodeAddress, receiver = \"berkat\", amount=10)\n",
    "    newBlock = zion.addBlock(proof, previousHash)\n",
    "    response = {\n",
    "        \"message\": \"congrats you have mined a block\",\n",
    "        \"index\": newBlock[\"index\"],\n",
    "        \"proof\": newBlock[\"proof\"],\n",
    "        \"timestamp\": newBlock[\"timestamp\"]\n",
    "    }\n",
    "    return jsonify(response), 200"
   ]
  },
  {
   "cell_type": "code",
   "execution_count": null,
   "id": "c2d1bd2f-1a41-491d-9d7f-fed9307d910d",
   "metadata": {},
   "outputs": [],
   "source": [
    "@app.route(\"/chain\", methods = [\"GET\"])\n",
    "def chain():\n",
    "    response = {\n",
    "        \"chain\": zion.chain,\n",
    "        \"length\": len(zion.chain)\n",
    "    }\n",
    "    return jsonify(response), 200"
   ]
  },
  {
   "cell_type": "code",
   "execution_count": null,
   "id": "c3de905b-fabc-41d3-8213-a83d56386c18",
   "metadata": {},
   "outputs": [],
   "source": [
    "@app.route(\"/valid\", methods = [\"GET\"])\n",
    "def valid():\n",
    "    isValid = zion.isChainValid(zion.chain)\n",
    "    if isValid:\n",
    "        response = {\"message\": \" The chain is valid and can be built on\"}\n",
    "    else:\n",
    "        response = {\"message\": \"This is not a valid chain\"}\n",
    "    return jsonify(response), 200"
   ]
  },
  {
   "cell_type": "code",
   "execution_count": null,
   "id": "87106950-f43c-47a4-81c7-111b56a80e9f",
   "metadata": {},
   "outputs": [],
   "source": [
    "@app.route(\"/connect\", methods = [\"POST\"])\n",
    "def connect():\n",
    "    nodeResponse = request.get_json()\n",
    "    nodes = nodeResponse.get(\"nodes\")\n",
    "    \n",
    "    if nodes is None:\n",
    "        return \"there are no nodes here\", 400\n",
    "    for node in nodes:\n",
    "        zion.addNode(node)\n",
    "    response = {\n",
    "        \"message\": \"All nodes are connected\",\n",
    "        \"nodes\": list(zion.nodes)\n",
    "    }\n",
    "    return jsonify(response), 201"
   ]
  },
  {
   "cell_type": "code",
   "execution_count": null,
   "id": "3f3d3b37-9fe8-42c1-b259-4b12dc0503d7",
   "metadata": {},
   "outputs": [],
   "source": [
    "app.run(host='0.0.0.0', port = 7000)"
   ]
  },
  {
   "cell_type": "code",
   "execution_count": null,
   "id": "3dfd0570-505d-430e-9fb0-f03e7348ac8d",
   "metadata": {},
   "outputs": [],
   "source": []
  },
  {
   "cell_type": "code",
   "execution_count": null,
   "id": "e25014d8-dc69-4454-b673-790c6597aed5",
   "metadata": {},
   "outputs": [],
   "source": []
  },
  {
   "cell_type": "code",
   "execution_count": null,
   "id": "5fd829a2-5b90-458b-9f74-2796ec9fc956",
   "metadata": {},
   "outputs": [],
   "source": []
  }
 ],
 "metadata": {
  "kernelspec": {
   "display_name": "Python 3",
   "language": "python",
   "name": "python3"
  },
  "language_info": {
   "codemirror_mode": {
    "name": "ipython",
    "version": 3
   },
   "file_extension": ".py",
   "mimetype": "text/x-python",
   "name": "python",
   "nbconvert_exporter": "python",
   "pygments_lexer": "ipython3",
   "version": "3.8.8"
  }
 },
 "nbformat": 4,
 "nbformat_minor": 5
}
