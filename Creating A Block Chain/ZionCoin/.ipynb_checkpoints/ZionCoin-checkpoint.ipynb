{
 "cells": [
  {
   "cell_type": "markdown",
   "id": "60d646ad-d30d-47ed-b83d-24670b3f8f7a",
   "metadata": {},
   "source": [
    "### Importing Libraries"
   ]
  },
  {
   "cell_type": "code",
   "execution_count": 19,
   "id": "57c6c77c-542f-4911-a0bf-b20baea25929",
   "metadata": {},
   "outputs": [],
   "source": [
    "import datetime\n",
    "import json\n",
    "import hashlib\n",
    "import requests\n",
    "from flask import Flask, jsonify, request\n",
    "from uuid import uuid4\n",
    "from urllib.parse import urlparse"
   ]
  },
  {
   "cell_type": "markdown",
   "id": "55f54fef-85a9-4d2d-b5d8-6357ab526156",
   "metadata": {},
   "source": [
    "## Creating Block Chain Class"
   ]
  },
  {
   "cell_type": "code",
   "execution_count": 20,
   "id": "94df576b-ec3b-4441-bbaf-6d6ea0a554e9",
   "metadata": {},
   "outputs": [],
   "source": [
    "class Blockchain:\n",
    "    # initializing the Chain Object\n",
    "    def __init__(self):\n",
    "        self.chain = [] ### initilzing the chain as empty \n",
    "        self.transactions = [] ### no initial transactons\n",
    "        self.create_block(proof = 1, previous_hash = '0') ## initil block with a proof(Nonce) as 1 and hash as \"0\"\n",
    "        self.nodes = set() # empty node list(no ip from different computers initially\")\n",
    "    \n",
    "    def create_block(self, proof, previous_hash):\n",
    "        ### initialize block with property \n",
    "        block = {'index': len(self.chain) + 1,\n",
    "                 'timestamp': str(datetime.datetime.now()),\n",
    "                 'proof': proof,\n",
    "                 'previous_hash': previous_hash,\n",
    "                 'transactions': self.transactions}\n",
    "        self.transactions = [] ## empty transactions once block has been created\n",
    "        self.chain.append(block)\n",
    "        return block\n",
    "\n",
    "    def get_previous_block(self):\n",
    "        return self.chain[-1]\n",
    "\n",
    "    def proof_of_work(self, previous_proof):\n",
    "        new_proof = 1\n",
    "        check_proof = False\n",
    "        while check_proof is False:\n",
    "            hash_operation = hashlib.sha256(str(new_proof**2 - previous_proof**2).encode()).hexdigest()\n",
    "            if hash_operation[:4] == '0000':\n",
    "                check_proof = True\n",
    "            else:\n",
    "                new_proof += 1\n",
    "        return new_proof\n",
    "    \n",
    "    def hash(self, block):\n",
    "        encoded_block = json.dumps(block, sort_keys = True).encode()\n",
    "        return hashlib.sha256(encoded_block).hexdigest()\n",
    "    \n",
    "    def is_chain_valid(self, chain):\n",
    "        previous_block = chain[0]\n",
    "        block_index = 1\n",
    "        while block_index < len(chain):\n",
    "            block = chain[block_index]\n",
    "            if block['previous_hash'] != self.hash(previous_block):\n",
    "                return False\n",
    "            previous_proof = previous_block['proof']\n",
    "            proof = block['proof']\n",
    "            hash_operation = hashlib.sha256(str(proof**2 - previous_proof**2).encode()).hexdigest()\n",
    "            if hash_operation[:4] != '0000':\n",
    "                return False\n",
    "            previous_block = block\n",
    "            block_index += 1\n",
    "        return True\n",
    "    \n",
    "    def add_transaction(self, sender, receiver, amount):\n",
    "        self.transactions.append({'sender': sender,\n",
    "                                  'receiver': receiver,\n",
    "                                  'amount': amount})\n",
    "        previous_block = self.get_previous_block()\n",
    "        return previous_block['index'] + 1\n",
    "    \n",
    "    def add_node(self, address):\n",
    "        parsed_url = urlparse(address)\n",
    "        self.nodes.add(parsed_url.path)\n",
    "    \n",
    "    def replace_chain(self):\n",
    "        network = self.nodes\n",
    "        longest_chain = None\n",
    "        max_length = len(self.chain)\n",
    "        for node in network:\n",
    "            response = requests.get(f'http://{node}/get_chain')\n",
    "            if response.status_code == 200:\n",
    "                length = response.json()['length']\n",
    "                chain = response.json()['chain']\n",
    "                if length > max_length and self.is_chain_valid(chain):\n",
    "                    max_length = length\n",
    "                    longest_chain = chain\n",
    "        if longest_chain:\n",
    "            self.chain = longest_chain\n",
    "            return True\n",
    "        return False"
   ]
  },
  {
   "cell_type": "code",
   "execution_count": 21,
   "id": "5da76942-0ac8-420a-8460-41b271d478c8",
   "metadata": {},
   "outputs": [],
   "source": [
    "zion = Blockchain()"
   ]
  },
  {
   "cell_type": "code",
   "execution_count": 22,
   "id": "9a5b022e-7119-40d9-bd8e-ab2457c3e9ba",
   "metadata": {},
   "outputs": [],
   "source": [
    "app = Flask(__name__)"
   ]
  },
  {
   "cell_type": "code",
   "execution_count": 23,
   "id": "f265e523-07b5-40f2-98d4-e0a22b4e092f",
   "metadata": {},
   "outputs": [],
   "source": [
    "nodeAddress = str(uuid4()).replace(\"-\", \"\")"
   ]
  },
  {
   "cell_type": "code",
   "execution_count": 24,
   "id": "b6fb0cbb-afe6-4f74-a12a-2dc19ef5a9ca",
   "metadata": {},
   "outputs": [],
   "source": [
    "@app.route(\"/mine\", methods = [\"GET\"])\n",
    "def mine():\n",
    "    previousBlock = zion.getLastBlock()\n",
    "    previousProof = previousBlock[\"proof\"]\n",
    "    previousHash = zion.hashBlock(previousBlock)\n",
    "    proof = zion.proofOfWork(previousProof)\n",
    "    zion.addTransaction(sender = nodeAddress, receiver = \"berkat\", amount=10)\n",
    "    newBlock = zion.addBlock(proof, previousHash)\n",
    "    response = {\n",
    "        \"message\": \"congrats you have mined a block\",\n",
    "        \"index\": newBlock[\"index\"],\n",
    "        \"proof\": newBlock[\"proof\"],\n",
    "        \"timestamp\": newBlock[\"timestamp\"]\n",
    "    }\n",
    "    return jsonify(response), 200"
   ]
  },
  {
   "cell_type": "code",
   "execution_count": 25,
   "id": "c2d1bd2f-1a41-491d-9d7f-fed9307d910d",
   "metadata": {},
   "outputs": [],
   "source": [
    "@app.route(\"/chain\", methods = [\"GET\"])\n",
    "def chain():\n",
    "    response = {\n",
    "        \"chain\": zion.chain,\n",
    "        \"length\": len(zion.chain)\n",
    "    }\n",
    "    return jsonify(response), 200"
   ]
  },
  {
   "cell_type": "code",
   "execution_count": 26,
   "id": "c3de905b-fabc-41d3-8213-a83d56386c18",
   "metadata": {},
   "outputs": [],
   "source": [
    "@app.route(\"/valid\", methods = [\"GET\"])\n",
    "def valid():\n",
    "    isValid = zion.isChainValid(zion.chain)\n",
    "    if isValid:\n",
    "        response = {\"message\": \" The chain is valid and can be built on\"}\n",
    "    else:\n",
    "        response = {\"message\": \"This is not a valid chain\"}\n",
    "    return jsonify(response), 200"
   ]
  },
  {
   "cell_type": "code",
   "execution_count": 27,
   "id": "87106950-f43c-47a4-81c7-111b56a80e9f",
   "metadata": {},
   "outputs": [],
   "source": [
    "@app.route(\"/connect\", methods = [\"POST\"])\n",
    "def connect():\n",
    "    nodeResponse = request.get_json()\n",
    "    nodes = nodeResponse.get(\"nodes\")\n",
    "    \n",
    "    if nodes is None:\n",
    "        return \"there are no nodes here\", 400\n",
    "    for node in nodes:\n",
    "        zion.addNode(node)\n",
    "    response = {\n",
    "        \"message\": \"All nodes are connected\",\n",
    "        \"nodes\": list(zion.nodes)\n",
    "    }\n",
    "    return jsonify(response), 201"
   ]
  },
  {
   "cell_type": "code",
   "execution_count": 28,
   "id": "c910842f-55f6-437e-9250-b5fe5594aa3f",
   "metadata": {},
   "outputs": [],
   "source": [
    "@app.route('/connect_node', methods = ['POST'])\n",
    "def connect_node():\n",
    "    json = request.get_json()\n",
    "    nodes = json.get('nodes')\n",
    "    if nodes is None:\n",
    "        return \"No node\", 400\n",
    "    for node in nodes:\n",
    "        zion.add_node(node)\n",
    "    response = {'message': 'All the nodes are now connected. The Hadcoin Blockchain now contains the following nodes:',\n",
    "                'total_nodes': list(zion.nodes)}\n",
    "    return jsonify(response), 201\n"
   ]
  },
  {
   "cell_type": "code",
   "execution_count": null,
   "id": "3f3d3b37-9fe8-42c1-b259-4b12dc0503d7",
   "metadata": {},
   "outputs": [
    {
     "name": "stdout",
     "output_type": "stream",
     "text": [
      " * Serving Flask app \"__main__\" (lazy loading)\n",
      " * Environment: production\n",
      "\u001b[31m   WARNING: This is a development server. Do not use it in a production deployment.\u001b[0m\n",
      "\u001b[2m   Use a production WSGI server instead.\u001b[0m\n",
      " * Debug mode: off\n"
     ]
    },
    {
     "name": "stderr",
     "output_type": "stream",
     "text": [
      " * Running on http://0.0.0.0:7000/ (Press CTRL+C to quit)\n",
      "127.0.0.1 - - [01/Jan/2022 20:26:47] \"\u001b[37mPOST /connect_node HTTP/1.1\u001b[0m\" 201 -\n"
     ]
    }
   ],
   "source": [
    "app.run(host='0.0.0.0', port = 7000)"
   ]
  },
  {
   "cell_type": "code",
   "execution_count": null,
   "id": "3dfd0570-505d-430e-9fb0-f03e7348ac8d",
   "metadata": {},
   "outputs": [],
   "source": []
  },
  {
   "cell_type": "code",
   "execution_count": null,
   "id": "e25014d8-dc69-4454-b673-790c6597aed5",
   "metadata": {},
   "outputs": [],
   "source": []
  },
  {
   "cell_type": "code",
   "execution_count": null,
   "id": "5fd829a2-5b90-458b-9f74-2796ec9fc956",
   "metadata": {},
   "outputs": [],
   "source": []
  }
 ],
 "metadata": {
  "kernelspec": {
   "display_name": "Python 3",
   "language": "python",
   "name": "python3"
  },
  "language_info": {
   "codemirror_mode": {
    "name": "ipython",
    "version": 3
   },
   "file_extension": ".py",
   "mimetype": "text/x-python",
   "name": "python",
   "nbconvert_exporter": "python",
   "pygments_lexer": "ipython3",
   "version": "3.8.8"
  }
 },
 "nbformat": 4,
 "nbformat_minor": 5
}
