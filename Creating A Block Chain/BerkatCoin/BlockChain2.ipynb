{
 "cells": [
  {
   "cell_type": "code",
   "execution_count": 17,
   "metadata": {},
   "outputs": [],
   "source": [
    "import json\n",
    "import datetime\n",
    "from flask import Flask, jsonify\n",
    "import hashlib\n",
    "import os"
   ]
  },
  {
   "cell_type": "code",
   "execution_count": 18,
   "metadata": {},
   "outputs": [],
   "source": [
    "class BitCoinBlockChain:\n",
    "    def __init__(self):\n",
    "        self.chain = []\n",
    "        self.create_block(proof = 1, prev = \"0\")\n",
    "    def create_block(self, proof, prev):\n",
    "        block = {\n",
    "            \"index\": len(self.chain) + 1,\n",
    "            \"timestamp\": str(datetime.datetime.now()), \n",
    "            \"proof\": proof,\n",
    "            \"prev\": prev\n",
    "        }\n",
    "        self.chain.append(block)\n",
    "        return block\n",
    "    \n",
    "    def get_last_block(self):\n",
    "        return self.chain[-1]\n",
    "    \n",
    "    def proofOfWork(self, previous_proof):\n",
    "        new_proof = 1\n",
    "        solved = False\n",
    "        while solved is False:\n",
    "            hashProblem = hashlib.sha256(str(new_proof ** 2 - previous_proof ** 2).encode()).hexdigest()\n",
    "            if hashProblem[:4] == \"0000\":\n",
    "                solved = True\n",
    "            else:\n",
    "                new_proof += 1\n",
    "        return new_proof\n",
    "    \n",
    "    def hashBlock(self, block):\n",
    "        encoded_bock = json.dumps(block, sort_keys=True).encode()\n",
    "        return hashlib.sha256(encoded_bock).hexdigest()\n",
    "    \n",
    "    def isChainValid(self, chain):\n",
    "        previousBlock = chain[0]\n",
    "        current_index = 1\n",
    "        \n",
    "        while current_index < len(chain):\n",
    "            block = chain[current_index]\n",
    "            if block[\"prev\"] != self.hashBlock(previousBlock):\n",
    "                return False\n",
    "            currentProof = block[\"proof\"]\n",
    "            previous_proof = previousBlock[\"proof\"]\n",
    "            hashProblem = hashlib.sha256(str(currentProof ** 2 - previous_proof ** 2).encode()).hexdigest()\n",
    "            if hashProblem[:4] != \"0000\":\n",
    "                return False\n",
    "        return True"
   ]
  },
  {
   "cell_type": "code",
   "execution_count": 19,
   "metadata": {},
   "outputs": [],
   "source": [
    "app = Flask(__name__)"
   ]
  },
  {
   "cell_type": "code",
   "execution_count": 20,
   "metadata": {},
   "outputs": [],
   "source": [
    "BTH = BitCoinBlockChain()"
   ]
  },
  {
   "cell_type": "code",
   "execution_count": 21,
   "metadata": {},
   "outputs": [],
   "source": [
    "@app.route(\"/mine\", methods = [\"GET\"])\n",
    "def mine():\n",
    "    prev_block = BTH.get_last_block()\n",
    "    prev_proof = prev_block[\"proof\"]\n",
    "    proof = BTH.proofOfWork(prev_proof)\n",
    "    previousHash = BTH.hashBlock(prev_block)\n",
    "    block = BTH.create_block(proof, previousHash)\n",
    "    response = {\n",
    "        \"success\": \"You have successfully mined a block\",\n",
    "        \"timestamp\": block[\"timestamp\"],\n",
    "        \"index\": block[\"index\"],\n",
    "        \"proof\": block[\"proof\"],\n",
    "        \"prev\": block[\"prev\"]\n",
    "    }\n",
    "    return jsonify(response), 200"
   ]
  },
  {
   "cell_type": "code",
   "execution_count": 22,
   "metadata": {},
   "outputs": [],
   "source": [
    "@app.route(\"/chain\", methods = [\"GET\"])\n",
    "def chain():\n",
    "    response = {\n",
    "        \"chain\": BTH.chain,\n",
    "        \"length\": len(BTH.chain)\n",
    "    }\n",
    "    return jsonify(response), 200"
   ]
  },
  {
   "cell_type": "code",
   "execution_count": 23,
   "metadata": {},
   "outputs": [
    {
     "name": "stderr",
     "output_type": "stream",
     "text": [
      " * Running on http://0.0.0.0:4444/ (Press CTRL+C to quit)\n",
      "127.0.0.1 - - [21/Dec/2021 16:43:32] \"\u001b[37mGET /chain HTTP/1.1\u001b[0m\" 200 -\n",
      "127.0.0.1 - - [21/Dec/2021 16:43:44] \"\u001b[37mGET /mine HTTP/1.1\u001b[0m\" 200 -\n",
      "127.0.0.1 - - [21/Dec/2021 16:43:46] \"\u001b[37mGET /mine HTTP/1.1\u001b[0m\" 200 -\n",
      "127.0.0.1 - - [21/Dec/2021 16:43:46] \"\u001b[37mGET /mine HTTP/1.1\u001b[0m\" 200 -\n",
      "127.0.0.1 - - [21/Dec/2021 16:43:47] \"\u001b[37mGET /mine HTTP/1.1\u001b[0m\" 200 -\n",
      "127.0.0.1 - - [21/Dec/2021 16:43:48] \"\u001b[37mGET /mine HTTP/1.1\u001b[0m\" 200 -\n",
      "127.0.0.1 - - [21/Dec/2021 16:43:49] \"\u001b[37mGET /mine HTTP/1.1\u001b[0m\" 200 -\n",
      "127.0.0.1 - - [21/Dec/2021 16:43:52] \"\u001b[37mGET /chain HTTP/1.1\u001b[0m\" 200 -\n",
      "127.0.0.1 - - [21/Dec/2021 16:49:16] \"\u001b[37mGET /chain HTTP/1.1\u001b[0m\" 200 -\n",
      "127.0.0.1 - - [21/Dec/2021 16:50:00] \"\u001b[37mGET /mine HTTP/1.1\u001b[0m\" 200 -\n",
      "127.0.0.1 - - [21/Dec/2021 16:50:01] \"\u001b[37mGET /mine HTTP/1.1\u001b[0m\" 200 -\n",
      "127.0.0.1 - - [21/Dec/2021 16:50:02] \"\u001b[37mGET /mine HTTP/1.1\u001b[0m\" 200 -\n",
      "127.0.0.1 - - [21/Dec/2021 16:50:02] \"\u001b[37mGET /mine HTTP/1.1\u001b[0m\" 200 -\n",
      "127.0.0.1 - - [21/Dec/2021 16:50:04] \"\u001b[37mGET /mine HTTP/1.1\u001b[0m\" 200 -\n",
      "127.0.0.1 - - [21/Dec/2021 16:50:06] \"\u001b[37mGET /mine HTTP/1.1\u001b[0m\" 200 -\n",
      "127.0.0.1 - - [21/Dec/2021 16:50:38] \"\u001b[37mGET /mine HTTP/1.1\u001b[0m\" 200 -\n",
      "127.0.0.1 - - [21/Dec/2021 16:50:40] \"\u001b[37mGET /mine HTTP/1.1\u001b[0m\" 200 -\n",
      "127.0.0.1 - - [21/Dec/2021 16:50:44] \"\u001b[37mGET /chain HTTP/1.1\u001b[0m\" 200 -\n"
     ]
    }
   ],
   "source": [
    "if __name__==\"__main__\":\n",
    "    app.run(host=os.getenv('IP', '0.0.0.0'), \n",
    "            port=int(os.getenv('PORT', 4444)))"
   ]
  },
  {
   "cell_type": "code",
   "execution_count": null,
   "metadata": {},
   "outputs": [],
   "source": []
  },
  {
   "cell_type": "code",
   "execution_count": null,
   "metadata": {},
   "outputs": [],
   "source": []
  },
  {
   "cell_type": "code",
   "execution_count": null,
   "metadata": {},
   "outputs": [],
   "source": []
  }
 ],
 "metadata": {
  "kernelspec": {
   "display_name": "Python 3",
   "language": "python",
   "name": "python3"
  },
  "language_info": {
   "codemirror_mode": {
    "name": "ipython",
    "version": 3
   },
   "file_extension": ".py",
   "mimetype": "text/x-python",
   "name": "python",
   "nbconvert_exporter": "python",
   "pygments_lexer": "ipython3",
   "version": "3.7.4"
  }
 },
 "nbformat": 4,
 "nbformat_minor": 4
}
