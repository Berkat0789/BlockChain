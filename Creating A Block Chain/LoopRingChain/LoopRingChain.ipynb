{
 "cells": [
  {
   "cell_type": "code",
   "execution_count": 1,
   "id": "61c063b0-f316-4efc-83ad-05c1b35cbe3b",
   "metadata": {},
   "outputs": [],
   "source": [
    "import json\n",
    "import requests\n",
    "import hashlib\n",
    "import datetime\n",
    "from uuid import uuid4\n",
    "from urllib.parse import urlparse\n",
    "from flask import Flask, jsonify, request"
   ]
  },
  {
   "cell_type": "code",
   "execution_count": 2,
   "id": "65c6f347-036f-4d90-bbcf-7208e6d7e55d",
   "metadata": {},
   "outputs": [],
   "source": [
    "class LoopChain:\n",
    "    \n",
    "    def __init__(self):\n",
    "        self.chain = []\n",
    "        self.transactions = []\n",
    "        self.addBlock(proof =1, prevHash = \"0\")\n",
    "        self.nodes = set()\n",
    "    \n",
    "    def addBlock(self, proof, prevHash):\n",
    "        block = {\n",
    "            \"index\": len(self.chain),\n",
    "            \"timestamp\": str(datetime.datetime.now()),\n",
    "            \"proof\": proof,\n",
    "            \"prevHash\": prevHash,\n",
    "            \"transactions\": self.transactions\n",
    "        }\n",
    "        self.transactions = []\n",
    "        self.chain.append(block)\n",
    "        return block\n",
    "    \n",
    "    def getlastBlock(self):\n",
    "        return self.chain[-1]\n",
    "    \n",
    "    def hashBlock(self, block):\n",
    "        encodedBlock = json.dumps(block, sort_keys=True).encode()\n",
    "        return hashlib.sha256(encodedBlock).hexdigest()\n",
    "    \n",
    "    def proofOfwork(self, prevProof):\n",
    "        newProof = 1\n",
    "        solved = False \n",
    "        \n",
    "        while solved is False:\n",
    "            hashProblem = hashlib.sha256(str(newProof ** 2 - prevProof **2).encode()).hexdigest()\n",
    "            if hashProblem[:4] == \"0000\":\n",
    "                solved = True\n",
    "            else:\n",
    "                newProof += 1\n",
    "        return newProof\n",
    "    \n",
    "    def addNode(self, address):\n",
    "        userIp = urlparse(address)\n",
    "        self.nodes.add(userIp.netloc)\n",
    "    \n",
    "    def addTransaction(self, sender, receiver, amount):\n",
    "        self.transactions.append({\n",
    "            \"sender\": sender,\n",
    "            \"receiver\": receiver,\n",
    "            \"amount\": amount\n",
    "        })\n",
    "        lastBlock = self.getlastBlock()\n",
    "        return lastBlock[\"index\"] + 1\n",
    "    \n",
    "    def isChainValid(self, chain):\n",
    "        previousBlock = chain[0]\n",
    "        current_index = 1 \n",
    "        \n",
    "        while current_index < len(chain):\n",
    "            currentBlock = chain[current_index]\n",
    "            currentPrevHash = currentBlock[\"prevHash\"]\n",
    "            if currentPrevHash != self.hashBlock(previousBlock):\n",
    "                return False\n",
    "            currentProof = currentBlock[\"proof\"]\n",
    "            previousProof = previousBlock[\"proof\"]\n",
    "            hashProblem = hashlib.sha256(str(currentProof ** 2 - previousProof **2).encode()).hexdigest()\n",
    "            if hashProblem[:4] != \"0000\":\n",
    "                return False\n",
    "            previousBlock = currentBlock\n",
    "            current_index += 1\n",
    "        return True\n",
    "    \n",
    "    def shouldReplaceChain(self):\n",
    "        network = self.nodes\n",
    "        longestChain = None\n",
    "        currentLength = len(self.chain)\n",
    "        \n",
    "        for node in network:\n",
    "            nodeResponse = requests.get(f\"http://{node}/chain\")\n",
    "            if nodeResponse.status_code == 200:\n",
    "                length = nodeResponse()[\"length\"]\n",
    "                chain = nodeResponse()[\"chain\"]\n",
    "                if length > currentLength:\n",
    "                    longestChain = chain\n",
    "                    currentLength = length\n",
    "            if longestChain:\n",
    "                self.chain = chain\n",
    "                return True\n",
    "        return False"
   ]
  },
  {
   "cell_type": "code",
   "execution_count": 3,
   "id": "f1ceb747-ed4f-4e97-a20a-cfc701d8f50b",
   "metadata": {},
   "outputs": [],
   "source": [
    "loop = LoopChain()"
   ]
  },
  {
   "cell_type": "code",
   "execution_count": 4,
   "id": "5d6ec957-2171-4b61-9f23-5813cf9aa5b9",
   "metadata": {},
   "outputs": [],
   "source": [
    "app = Flask(__name__)"
   ]
  },
  {
   "cell_type": "code",
   "execution_count": 5,
   "id": "8afb5f6b-305e-4c53-8c8a-f2bbf99d3439",
   "metadata": {},
   "outputs": [],
   "source": [
    "nodeAddress = str(uuid4()).replace(\"-\",\"\")"
   ]
  },
  {
   "cell_type": "code",
   "execution_count": 6,
   "id": "69ed6391-ff05-4a7a-9c3c-b60bb12e559c",
   "metadata": {},
   "outputs": [],
   "source": [
    "@app.route(\"/mine\", methods = [\"GET\"])\n",
    "def mine():\n",
    "    previousBlock = loop.getlastBlock()\n",
    "    prevousProof = previousBlock[\"proof\"]\n",
    "    proof = loop.proofOfwork(prevousProof)\n",
    "    previousHash = loop.hashBlock(previousBlock)\n",
    "    loop.addTransaction(sender = nodeAddress, receiver = \"Me\", amount = 10)\n",
    "    newBlock = loop.addBlock(proof, previousHash)\n",
    "    response = {\n",
    "        \"message\":\"Congrats you have mined a new block\",\n",
    "        \"index\": newBlock[\"index\"],\n",
    "        \"proof\": newBlock[\"proof\"],\n",
    "        \"time\": newBlock[\"timestamp\"],\n",
    "        \"prevhash\": newBlock[\"prevHash\"],\n",
    "        \"transactions\": newBlock[\"transactions\"]\n",
    "    }\n",
    "    return jsonify(response), 200 "
   ]
  },
  {
   "cell_type": "code",
   "execution_count": 7,
   "id": "19a27d72-1166-4a41-8494-8c93e301d432",
   "metadata": {},
   "outputs": [],
   "source": [
    "@app.route(\"/chain\", methods = [\"GET\"])\n",
    "def chain():\n",
    "    response = {\n",
    "        'chain': loop.chain,\n",
    "        \"length\": len(loop.chain)\n",
    "    }\n",
    "    return jsonify(response), 200"
   ]
  },
  {
   "cell_type": "code",
   "execution_count": 8,
   "id": "20cc5927-4e33-468a-ba69-4fd131215453",
   "metadata": {},
   "outputs": [],
   "source": [
    "@app.route(\"/valid\", methods = [\"GET\"])\n",
    "def valid():\n",
    "    isValid = loop.isChainValid(loop.chain)\n",
    "    if isValid:\n",
    "        response = {\"Valid Chain\": \"This chain is valid to be build upon\"}\n",
    "    else:\n",
    "        response = {\"Invalid\": \"This chain is invalid\"}\n",
    "    return jsonify(response), 200"
   ]
  },
  {
   "cell_type": "code",
   "execution_count": 9,
   "id": "3905a7a1-fa85-4d6c-8568-d50537d8b011",
   "metadata": {},
   "outputs": [],
   "source": [
    "@app.route(\"/transaction\", methods = [\"POST\"])\n",
    "def transaction():\n",
    "    transactionJson = request.get_json()\n",
    "    transacitonKeys = [\"sender\",\"receiver\",\"amount\"]\n",
    "    if not all (key in transactionJson for key in transacitonKeys):\n",
    "        return \"Transaciton missing keys\", 400\n",
    "    index = loop.addTransaction(transactionJson[\"sender\"], transactionJson[\"receiver\"], transactionJson[\"amount\"])\n",
    "    response = {\n",
    "        \"success\": f\"the transaction will be added to the block index {index}\"\n",
    "    }\n",
    "    return jsonify(response), 201\n",
    "    "
   ]
  },
  {
   "cell_type": "code",
   "execution_count": 10,
   "id": "7fe640b4-0611-4344-8de7-155ca88f0c6a",
   "metadata": {},
   "outputs": [],
   "source": [
    "@app.route(\"/connect\", methods = [\"POST\"])\n",
    "def connect():\n",
    "    nodeResponse = request.get_json()\n",
    "    nodes = nodeResponse.get(\"nodes\")\n",
    "    if nodes is None:\n",
    "        return \"There are no nodes\", 400\n",
    "    for node in nodes:\n",
    "        loop.addNode(node)\n",
    "        print(loop.nodes)\n",
    "    response = {\n",
    "        \"message\": 'all nodes have been connected',\n",
    "        \"nodeList\": list(loop.nodes)\n",
    "    }\n",
    "    return jsonify(response), 201"
   ]
  },
  {
   "cell_type": "code",
   "execution_count": 11,
   "id": "1e21429d-5577-4ed3-8d7c-a4dc2a752a4b",
   "metadata": {},
   "outputs": [],
   "source": [
    "@app.route(\"/replace\", methods = [\"GET\"])\n",
    "def replace():\n",
    "    shouldReplace = loop.shouldReplaceChain()\n",
    "    if shouldReplace:\n",
    "        response = {\n",
    "            \"message\": \"The length of the chain needed to be updates\",\n",
    "            \"New Chain\": loop.chain,\n",
    "            \"new length\": len(loop.chain)\n",
    "        }\n",
    "    else:\n",
    "        response = {\n",
    "            \"message\": \"The length of the chain did not need to be updated\",\n",
    "            \"current Lengh\": len(loop.chain)\n",
    "        }\n",
    "    return jsonify(response), 200"
   ]
  },
  {
   "cell_type": "code",
   "execution_count": null,
   "id": "30471173-32e4-4ac5-948c-197151d71e24",
   "metadata": {},
   "outputs": [
    {
     "name": "stdout",
     "output_type": "stream",
     "text": [
      " * Serving Flask app \"__main__\" (lazy loading)\n",
      " * Environment: production\n",
      "\u001b[31m   WARNING: This is a development server. Do not use it in a production deployment.\u001b[0m\n",
      "\u001b[2m   Use a production WSGI server instead.\u001b[0m\n",
      " * Debug mode: off\n"
     ]
    },
    {
     "name": "stderr",
     "output_type": "stream",
     "text": [
      " * Running on http://0.0.0.0:3000/ (Press CTRL+C to quit)\n",
      "127.0.0.1 - - [31/Dec/2021 12:31:50] \"\u001b[37mGET /chain HTTP/1.1\u001b[0m\" 200 -\n",
      "127.0.0.1 - - [31/Dec/2021 12:31:54] \"\u001b[37mGET /mine HTTP/1.1\u001b[0m\" 200 -\n",
      "127.0.0.1 - - [31/Dec/2021 12:31:55] \"\u001b[37mGET /mine HTTP/1.1\u001b[0m\" 200 -\n",
      "127.0.0.1 - - [31/Dec/2021 12:31:55] \"\u001b[37mGET /mine HTTP/1.1\u001b[0m\" 200 -\n",
      "127.0.0.1 - - [31/Dec/2021 12:31:55] \"\u001b[37mGET /mine HTTP/1.1\u001b[0m\" 200 -\n",
      "127.0.0.1 - - [31/Dec/2021 12:31:56] \"\u001b[37mGET /mine HTTP/1.1\u001b[0m\" 200 -\n",
      "127.0.0.1 - - [31/Dec/2021 12:31:59] \"\u001b[37mGET /chain HTTP/1.1\u001b[0m\" 200 -\n",
      "127.0.0.1 - - [31/Dec/2021 12:32:11] \"\u001b[37mGET /valid HTTP/1.1\u001b[0m\" 200 -\n",
      "127.0.0.1 - - [31/Dec/2021 12:33:00] \"\u001b[37mPOST /connect HTTP/1.1\u001b[0m\" 201 -\n"
     ]
    },
    {
     "name": "stdout",
     "output_type": "stream",
     "text": [
      "{''}\n",
      "{''}\n"
     ]
    }
   ],
   "source": [
    "app.run(host=\"0.0.0.0\", port=3000)"
   ]
  },
  {
   "cell_type": "code",
   "execution_count": null,
   "id": "7150fc0e-94c3-407a-8c26-ecb6692ffb5e",
   "metadata": {},
   "outputs": [],
   "source": []
  },
  {
   "cell_type": "code",
   "execution_count": null,
   "id": "8b7e87d3-6d9d-44b0-a09d-b73ee0e3864b",
   "metadata": {},
   "outputs": [],
   "source": []
  },
  {
   "cell_type": "code",
   "execution_count": null,
   "id": "88c71307-9f1e-47b1-a211-6a74058ba21e",
   "metadata": {},
   "outputs": [],
   "source": []
  },
  {
   "cell_type": "code",
   "execution_count": null,
   "id": "8ba59902-d5db-434a-a0fe-6b9b8557d679",
   "metadata": {},
   "outputs": [],
   "source": []
  }
 ],
 "metadata": {
  "kernelspec": {
   "display_name": "Python 3",
   "language": "python",
   "name": "python3"
  },
  "language_info": {
   "codemirror_mode": {
    "name": "ipython",
    "version": 3
   },
   "file_extension": ".py",
   "mimetype": "text/x-python",
   "name": "python",
   "nbconvert_exporter": "python",
   "pygments_lexer": "ipython3",
   "version": "3.8.8"
  }
 },
 "nbformat": 4,
 "nbformat_minor": 5
}
